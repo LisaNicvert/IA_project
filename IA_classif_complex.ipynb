{
 "cells": [
  {
   "cell_type": "markdown",
   "metadata": {},
   "source": [
    "# Librairies"
   ]
  },
  {
   "cell_type": "code",
   "execution_count": 132,
   "metadata": {},
   "outputs": [],
   "source": [
    "%matplotlib inline\n",
    "from __future__ import division\n",
    "import matplotlib.pyplot as plt\n",
    "import math\n",
    "import pandas as pds\n",
    "import scipy\n",
    "import seaborn as sns\n",
    "import numpy as np\n",
    "import random\n",
    "from sklearn.cluster import KMeans\n",
    "from sklearn.cluster import DBSCAN\n",
    "from sklearn import metrics\n",
    "from scipy import stats\n",
    "from sklearn.neighbors import NearestNeighbors\n",
    "from sklearn.tree import DecisionTreeClassifier\n",
    "from pandas.plotting import parallel_coordinates\n",
    "import graphviz \n",
    "from sklearn import tree\n",
    "from sklearn.metrics import silhouette_score\n",
    "from sklearn.model_selection import train_test_split\n",
    "from sklearn import neighbors\n",
    "from sklearn.metrics import balanced_accuracy_score"
   ]
  },
  {
   "cell_type": "code",
   "execution_count": 2,
   "metadata": {},
   "outputs": [],
   "source": [
    "df_global = pds.read_csv('./Data_Classif/Data.txt', sep=\"\\t\")"
   ]
  },
  {
   "cell_type": "markdown",
   "metadata": {},
   "source": [
    "Les données comportent des champs inutiles à notre étude, et des valeurs manquantes qu'il faut trier."
   ]
  },
  {
   "cell_type": "markdown",
   "metadata": {},
   "source": [
    "## Nettoyage des lignes"
   ]
  },
  {
   "cell_type": "markdown",
   "metadata": {},
   "source": [
    "Suppression des time codes et des valeurs manquantes."
   ]
  },
  {
   "cell_type": "code",
   "execution_count": 3,
   "metadata": {},
   "outputs": [
    {
     "data": {
      "text/html": [
       "<div>\n",
       "<style scoped>\n",
       "    .dataframe tbody tr th:only-of-type {\n",
       "        vertical-align: middle;\n",
       "    }\n",
       "\n",
       "    .dataframe tbody tr th {\n",
       "        vertical-align: top;\n",
       "    }\n",
       "\n",
       "    .dataframe thead th {\n",
       "        text-align: right;\n",
       "    }\n",
       "</style>\n",
       "<table border=\"1\" class=\"dataframe\">\n",
       "  <thead>\n",
       "    <tr style=\"text-align: right;\">\n",
       "      <th></th>\n",
       "      <th>Country Name</th>\n",
       "      <th>Children out of school</th>\n",
       "      <th>CO2</th>\n",
       "      <th>NR electricity</th>\n",
       "      <th>Life expectancy</th>\n",
       "      <th>Population</th>\n",
       "      <th>Urban population</th>\n",
       "      <th>Area</th>\n",
       "      <th>GDP</th>\n",
       "      <th>Compulsory education</th>\n",
       "      <th>Labor force</th>\n",
       "      <th>Agricultural land</th>\n",
       "    </tr>\n",
       "  </thead>\n",
       "  <tbody>\n",
       "    <tr>\n",
       "      <th>1</th>\n",
       "      <td>Albania</td>\n",
       "      <td>5.63382</td>\n",
       "      <td>1.749211</td>\n",
       "      <td>0.000000</td>\n",
       "      <td>77.70200</td>\n",
       "      <td>2895092.0</td>\n",
       "      <td>55.387</td>\n",
       "      <td>27400.0</td>\n",
       "      <td>4413.081697</td>\n",
       "      <td>9.0</td>\n",
       "      <td>53.652000</td>\n",
       "      <td>43.332117</td>\n",
       "    </tr>\n",
       "    <tr>\n",
       "      <th>7</th>\n",
       "      <td>Argentina</td>\n",
       "      <td>0.64461</td>\n",
       "      <td>4.462904</td>\n",
       "      <td>64.000402</td>\n",
       "      <td>76.08900</td>\n",
       "      <td>42539925.0</td>\n",
       "      <td>91.249</td>\n",
       "      <td>2736690.0</td>\n",
       "      <td>12976.636425</td>\n",
       "      <td>13.0</td>\n",
       "      <td>60.403000</td>\n",
       "      <td>54.518049</td>\n",
       "    </tr>\n",
       "    <tr>\n",
       "      <th>10</th>\n",
       "      <td>Australia</td>\n",
       "      <td>2.50737</td>\n",
       "      <td>16.083474</td>\n",
       "      <td>86.735892</td>\n",
       "      <td>82.14878</td>\n",
       "      <td>23145901.0</td>\n",
       "      <td>85.502</td>\n",
       "      <td>7682300.0</td>\n",
       "      <td>67990.290030</td>\n",
       "      <td>10.0</td>\n",
       "      <td>65.008003</td>\n",
       "      <td>51.627156</td>\n",
       "    </tr>\n",
       "    <tr>\n",
       "      <th>12</th>\n",
       "      <td>Azerbaijan</td>\n",
       "      <td>6.32932</td>\n",
       "      <td>3.785069</td>\n",
       "      <td>93.041877</td>\n",
       "      <td>71.65600</td>\n",
       "      <td>9416801.0</td>\n",
       "      <td>54.145</td>\n",
       "      <td>82659.0</td>\n",
       "      <td>7875.756953</td>\n",
       "      <td>10.0</td>\n",
       "      <td>64.546997</td>\n",
       "      <td>57.704545</td>\n",
       "    </tr>\n",
       "    <tr>\n",
       "      <th>14</th>\n",
       "      <td>Bahrain</td>\n",
       "      <td>6.26169</td>\n",
       "      <td>23.804357</td>\n",
       "      <td>100.000000</td>\n",
       "      <td>76.48200</td>\n",
       "      <td>1315411.0</td>\n",
       "      <td>88.835</td>\n",
       "      <td>770.0</td>\n",
       "      <td>24737.171783</td>\n",
       "      <td>9.0</td>\n",
       "      <td>71.518997</td>\n",
       "      <td>11.168831</td>\n",
       "    </tr>\n",
       "  </tbody>\n",
       "</table>\n",
       "</div>"
      ],
      "text/plain": [
       "   Country Name  Children out of school        CO2  NR electricity  \\\n",
       "1       Albania                 5.63382   1.749211        0.000000   \n",
       "7     Argentina                 0.64461   4.462904       64.000402   \n",
       "10    Australia                 2.50737  16.083474       86.735892   \n",
       "12   Azerbaijan                 6.32932   3.785069       93.041877   \n",
       "14      Bahrain                 6.26169  23.804357      100.000000   \n",
       "\n",
       "    Life expectancy  Population  Urban population       Area           GDP  \\\n",
       "1          77.70200   2895092.0            55.387    27400.0   4413.081697   \n",
       "7          76.08900  42539925.0            91.249  2736690.0  12976.636425   \n",
       "10         82.14878  23145901.0            85.502  7682300.0  67990.290030   \n",
       "12         71.65600   9416801.0            54.145    82659.0   7875.756953   \n",
       "14         76.48200   1315411.0            88.835      770.0  24737.171783   \n",
       "\n",
       "    Compulsory education  Labor force  Agricultural land  \n",
       "1                    9.0    53.652000          43.332117  \n",
       "7                   13.0    60.403000          54.518049  \n",
       "10                  10.0    65.008003          51.627156  \n",
       "12                  10.0    64.546997          57.704545  \n",
       "14                   9.0    71.518997          11.168831  "
      ]
     },
     "execution_count": 3,
     "metadata": {},
     "output_type": "execute_result"
    }
   ],
   "source": [
    "df_global=df_global.drop([\"Time\",\"Time Code\",\"Country Code\"],axis=1)\n",
    "filtered_df = df_global.dropna()\n",
    "filtered_df.head()"
   ]
  },
  {
   "cell_type": "markdown",
   "metadata": {},
   "source": [
    "Les données retenues pour l'étude sont :\n",
    "\n",
    "- Country name : nom du pays.\n",
    "- Children out of school : proportion des enfants non scolarisés parmi ceux d'âge inférieur à l'âge de scolarisaton de premier et second degré (%).\n",
    "- CO2 : émissions de CO2 (tonnes/habitant).\n",
    "- NR electricity : proportion d'électricité issue de sources non renouvelables et émettrices de CO2 (essence, gaz et charbon) parmi la production totale (%).\n",
    "- Life expectancy : espérance de vie moyenne à la naissance (années).\n",
    "- Population : population totale.\n",
    "- Urban population : proportion d'urbains dans la population totale (%).\n",
    "- Area : aire terrestre du pays (km$^2$).\n",
    "- GDP : PIB par habitant d'âge moyen (en Dollars US actuels).\n",
    "- Compulsory education : durée légale minimale d'enseignement obligatoire (années).\n",
    "- Labor force : proportion de personnes âgées de 15 ans et plus économiquement actives dans la population (%).\n",
    "- Agricultural land : proportion du territoire utilisé pour l'agriculture (%)."
   ]
  },
  {
   "cell_type": "markdown",
   "metadata": {},
   "source": [
    "## Normalisation des données"
   ]
  },
  {
   "cell_type": "markdown",
   "metadata": {},
   "source": [
    "### Centrage"
   ]
  },
  {
   "cell_type": "markdown",
   "metadata": {},
   "source": [
    "On centre les données car elles sont exprimées dans des variables différentes et ont des ordres de grandeur complètement différents."
   ]
  },
  {
   "cell_type": "code",
   "execution_count": 4,
   "metadata": {},
   "outputs": [
    {
     "data": {
      "image/png": "[encoded data removed]",
      "text/plain": [
       "<Figure size 432x288 with 1 Axes>"
      ]
     },
     "metadata": {
      "needs_background": "light"
     },
     "output_type": "display_data"
    }
   ],
   "source": [
    "ax=sns.boxplot(data=(filtered_df.drop(\"Country Name\",axis=1) - \n",
    "    filtered_df.drop(\"Country Name\",axis=1).mean()),\n",
    "    orient=\"h\", palette=\"Set2\")\n",
    "_=ax.set_title(u\"Données centrées\")"
   ]
  },
  {
   "cell_type": "markdown",
   "metadata": {},
   "source": [
    "Nous devons également réduire en raison de la variance élevée de la population."
   ]
  },
  {
   "cell_type": "markdown",
   "metadata": {},
   "source": [
    "### Réduction "
   ]
  },
  {
   "cell_type": "code",
   "execution_count": 5,
   "metadata": {},
   "outputs": [
    {
     "data": {
      "image/png": "[encoded data removed]",
      "text/plain": [
       "<Figure size 432x288 with 1 Axes>"
      ]
     },
     "metadata": {
      "needs_background": "light"
     },
     "output_type": "display_data"
    }
   ],
   "source": [
    "ax=sns.boxplot(data=((filtered_df.drop(\"Country Name\",axis=1) \n",
    "    - filtered_df.drop(\"Country Name\",axis=1).mean())\n",
    "    /filtered_df.drop(\"Country Name\",axis=1).std()), \n",
    "    orient=\"h\", palette=\"Set2\")\n",
    "_=ax.set_title(u\"Données centrées\")"
   ]
  },
  {
   "cell_type": "code",
   "execution_count": 6,
   "metadata": {},
   "outputs": [],
   "source": [
    "dfo=(filtered_df.drop(\"Country Name\",axis=1) \n",
    "    - filtered_df.drop(\"Country Name\",axis=1).mean()\n",
    "    )/filtered_df.drop(\"Country Name\",axis=1).std()\n",
    "dfoc=dfo.copy()\n",
    "dfoc[\"Country\"]=filtered_df[\"Country Name\"]"
   ]
  },
  {
   "cell_type": "markdown",
   "metadata": {},
   "source": [
    "# Recherche des outliers"
   ]
  },
  {
   "cell_type": "markdown",
   "metadata": {},
   "source": [
    "Comme précédemment, nous allons chercher les outliers grâce à DBSCAN. La première étape sera donc de paramétrer ce modèle en traçant la distance pour chaque point à son 4e plus proche voisin grâce à l'algorithme des KNN."
   ]
  },
  {
   "cell_type": "markdown",
   "metadata": {},
   "source": [
    "### Définition des paramètres de DBSCAN grâce à KNN"
   ]
  },
  {
   "cell_type": "code",
   "execution_count": 7,
   "metadata": {},
   "outputs": [],
   "source": [
    "nbrs = NearestNeighbors(n_neighbors=6, algorithm='ball_tree').fit(dfo)\n",
    "distances, indices = nbrs.kneighbors(dfo)\n",
    "distances_to_4 = distances[:,3]\n",
    "distances_to_4 = sorted(distances_to_4 , reverse = False)"
   ]
  },
  {
   "cell_type": "code",
   "execution_count": 107,
   "metadata": {},
   "outputs": [
    {
     "data": {
      "image/png": "[encoded data removed]",
      "text/plain": [
       "<Figure size 432x288 with 1 Axes>"
      ]
     },
     "metadata": {
      "needs_background": "light"
     },
     "output_type": "display_data"
    }
   ],
   "source": [
    "Index = range(0,len(distances_to_4))\n",
    "plt.plot(Index , distances_to_4)\n",
    "plt.xlabel(u'Points triés en fonction de la distance au 4e voisin')\n",
    "t=plt.ylabel(u'Distance au 4e voisin')\n",
    "_=plt.xticks(np.arange(0, 100, step=5))"
   ]
  },
  {
   "cell_type": "markdown",
   "metadata": {},
   "source": [
    "On observe un coude pour les pays d'indices entre 75 et 85."
   ]
  },
  {
   "cell_type": "code",
   "execution_count": 9,
   "metadata": {},
   "outputs": [
    {
     "data": {
      "text/plain": [
       "3.0023049703042854"
      ]
     },
     "execution_count": 9,
     "metadata": {},
     "output_type": "execute_result"
    }
   ],
   "source": [
    "mean_dist_knee = sum(distances_to_4[75:85])/10\n",
    "mean_dist_knee"
   ]
  },
  {
   "cell_type": "markdown",
   "metadata": {},
   "source": [
    "On prendra donc un rayon de recherche d'environ 3 pour considérer un cluster."
   ]
  },
  {
   "cell_type": "markdown",
   "metadata": {},
   "source": [
    "### Analyse des résultats de DBSCAN"
   ]
  },
  {
   "cell_type": "code",
   "execution_count": 10,
   "metadata": {},
   "outputs": [
    {
     "name": "stdout",
     "output_type": "stream",
     "text": [
      "Il y a 10 outliers.\n"
     ]
    }
   ],
   "source": [
    "outliers_det = DBSCAN(min_samples=6,eps=mean_dist_knee).fit(dfo)\n",
    "print \"Il y a\",sum(outliers_det.labels_ == -1),\"outliers.\""
   ]
  },
  {
   "cell_type": "code",
   "execution_count": 11,
   "metadata": {},
   "outputs": [],
   "source": [
    "dfol= dfo.copy(deep=True)\n",
    "dfol['Labels'] = outliers_det.labels_"
   ]
  },
  {
   "cell_type": "code",
   "execution_count": 12,
   "metadata": {},
   "outputs": [
    {
     "data": {
      "image/png": "[encoded data removed]",
      "text/plain": [
       "<Figure size 432x288 with 1 Axes>"
      ]
     },
     "metadata": {
      "needs_background": "light"
     },
     "output_type": "display_data"
    }
   ],
   "source": [
    "parallel_coordinates(dfol,'Labels', alpha=0.8)\n",
    "plt.show()"
   ]
  },
  {
   "cell_type": "markdown",
   "metadata": {},
   "source": [
    "Les outliers sont particulièrement visibles dans le 2e champ (émissions de CO2), le 4e champ (part des énergies non renouvelables) le 5e champ (population) et le 7e champ (PIB)."
   ]
  },
  {
   "cell_type": "code",
   "execution_count": 13,
   "metadata": {},
   "outputs": [
    {
     "name": "stdout",
     "output_type": "stream",
     "text": [
      "10              Australia\n",
      "26                 Brazil\n",
      "35                 Canada\n",
      "47          Cote d'Ivoire\n",
      "89                  India\n",
      "116            Luxembourg\n",
      "149              Pakistan\n",
      "159                 Qatar\n",
      "161    Russian Federation\n",
      "191              Tanzania\n",
      "Name: Country, dtype: object\n"
     ]
    }
   ],
   "source": [
    "print(dfoc[\"Country\"][dfol['Labels'] == -1])"
   ]
  },
  {
   "cell_type": "markdown",
   "metadata": {},
   "source": [
    "Les pays ci-dessus sont les outliers."
   ]
  },
  {
   "cell_type": "code",
   "execution_count": 14,
   "metadata": {},
   "outputs": [
    {
     "data": {
      "text/html": [
       "<div>\n",
       "<style scoped>\n",
       "    .dataframe tbody tr th:only-of-type {\n",
       "        vertical-align: middle;\n",
       "    }\n",
       "\n",
       "    .dataframe tbody tr th {\n",
       "        vertical-align: top;\n",
       "    }\n",
       "\n",
       "    .dataframe thead th {\n",
       "        text-align: right;\n",
       "    }\n",
       "</style>\n",
       "<table border=\"1\" class=\"dataframe\">\n",
       "  <thead>\n",
       "    <tr style=\"text-align: right;\">\n",
       "      <th></th>\n",
       "      <th>Children out of school</th>\n",
       "      <th>CO2</th>\n",
       "      <th>NR electricity</th>\n",
       "      <th>Life expectancy</th>\n",
       "      <th>Population</th>\n",
       "      <th>Urban population</th>\n",
       "      <th>Area</th>\n",
       "      <th>GDP</th>\n",
       "      <th>Compulsory education</th>\n",
       "      <th>Labor force</th>\n",
       "      <th>Agricultural land</th>\n",
       "      <th>Country</th>\n",
       "    </tr>\n",
       "  </thead>\n",
       "  <tbody>\n",
       "    <tr>\n",
       "      <th>1</th>\n",
       "      <td>0.055405</td>\n",
       "      <td>-0.696201</td>\n",
       "      <td>-1.876930</td>\n",
       "      <td>0.432529</td>\n",
       "      <td>-0.291573</td>\n",
       "      <td>-0.652658</td>\n",
       "      <td>-0.370542</td>\n",
       "      <td>-0.696435</td>\n",
       "      <td>-0.612305</td>\n",
       "      <td>-0.862056</td>\n",
       "      <td>0.131700</td>\n",
       "      <td>Albania</td>\n",
       "    </tr>\n",
       "    <tr>\n",
       "      <th>7</th>\n",
       "      <td>-0.764361</td>\n",
       "      <td>-0.275301</td>\n",
       "      <td>0.134525</td>\n",
       "      <td>0.172820</td>\n",
       "      <td>-0.004043</td>\n",
       "      <td>1.213444</td>\n",
       "      <td>0.829788</td>\n",
       "      <td>-0.337704</td>\n",
       "      <td>1.347071</td>\n",
       "      <td>-0.108451</td>\n",
       "      <td>0.671874</td>\n",
       "      <td>Argentina</td>\n",
       "    </tr>\n",
       "    <tr>\n",
       "      <th>12</th>\n",
       "      <td>0.169681</td>\n",
       "      <td>-0.380435</td>\n",
       "      <td>1.047264</td>\n",
       "      <td>-0.540938</td>\n",
       "      <td>-0.244274</td>\n",
       "      <td>-0.717287</td>\n",
       "      <td>-0.346060</td>\n",
       "      <td>-0.551382</td>\n",
       "      <td>-0.122461</td>\n",
       "      <td>0.354138</td>\n",
       "      <td>0.825752</td>\n",
       "      <td>Azerbaijan</td>\n",
       "    </tr>\n",
       "    <tr>\n",
       "      <th>14</th>\n",
       "      <td>0.158569</td>\n",
       "      <td>2.724599</td>\n",
       "      <td>1.265949</td>\n",
       "      <td>0.236097</td>\n",
       "      <td>-0.303030</td>\n",
       "      <td>1.087830</td>\n",
       "      <td>-0.382340</td>\n",
       "      <td>0.154949</td>\n",
       "      <td>-0.612305</td>\n",
       "      <td>1.132413</td>\n",
       "      <td>-1.421480</td>\n",
       "      <td>Bahrain</td>\n",
       "    </tr>\n",
       "    <tr>\n",
       "      <th>17</th>\n",
       "      <td>0.246590</td>\n",
       "      <td>0.077362</td>\n",
       "      <td>1.236223</td>\n",
       "      <td>-0.409758</td>\n",
       "      <td>-0.243917</td>\n",
       "      <td>0.430308</td>\n",
       "      <td>-0.292783</td>\n",
       "      <td>-0.547063</td>\n",
       "      <td>-0.612305</td>\n",
       "      <td>0.282584</td>\n",
       "      <td>0.115869</td>\n",
       "      <td>Belarus</td>\n",
       "    </tr>\n",
       "  </tbody>\n",
       "</table>\n",
       "</div>"
      ],
      "text/plain": [
       "    Children out of school       CO2  NR electricity  Life expectancy  \\\n",
       "1                 0.055405 -0.696201       -1.876930         0.432529   \n",
       "7                -0.764361 -0.275301        0.134525         0.172820   \n",
       "12                0.169681 -0.380435        1.047264        -0.540938   \n",
       "14                0.158569  2.724599        1.265949         0.236097   \n",
       "17                0.246590  0.077362        1.236223        -0.409758   \n",
       "\n",
       "    Population  Urban population      Area       GDP  Compulsory education  \\\n",
       "1    -0.291573         -0.652658 -0.370542 -0.696435             -0.612305   \n",
       "7    -0.004043          1.213444  0.829788 -0.337704              1.347071   \n",
       "12   -0.244274         -0.717287 -0.346060 -0.551382             -0.122461   \n",
       "14   -0.303030          1.087830 -0.382340  0.154949             -0.612305   \n",
       "17   -0.243917          0.430308 -0.292783 -0.547063             -0.612305   \n",
       "\n",
       "    Labor force  Agricultural land     Country  \n",
       "1     -0.862056           0.131700     Albania  \n",
       "7     -0.108451           0.671874   Argentina  \n",
       "12     0.354138           0.825752  Azerbaijan  \n",
       "14     1.132413          -1.421480     Bahrain  \n",
       "17     0.282584           0.115869     Belarus  "
      ]
     },
     "execution_count": 14,
     "metadata": {},
     "output_type": "execute_result"
    }
   ],
   "source": [
    "dff=dfol[dfol.Labels != -1]\n",
    "dff=dff.drop('Labels',axis=1)\n",
    "dff[\"Country\"]=dfoc[\"Country\"][dfol['Labels'] != -1]\n",
    "dff.head()"
   ]
  },
  {
   "cell_type": "markdown",
   "metadata": {},
   "source": [
    "Ce sont les données finales sur lesquelles on va travailler."
   ]
  },
  {
   "cell_type": "markdown",
   "metadata": {},
   "source": [
    "# Labels de classe par discrétisation"
   ]
  },
  {
   "cell_type": "markdown",
   "metadata": {},
   "source": [
    "Nous allons labéliser les données à l'aide d'une étiquette de classe avec le PIB par habitant. On discrétise le PIB par habitant à l'aide d'un Kmeans. \n",
    "\n",
    "Pour avoir une idée du nombre de classes, on trace l'histogramme sur les données réduites."
   ]
  },
  {
   "cell_type": "code",
   "execution_count": 15,
   "metadata": {},
   "outputs": [
    {
     "data": {
      "image/png": "[encoded data removed]",
      "text/plain": [
       "<Figure size 432x288 with 1 Axes>"
      ]
     },
     "metadata": {
      "needs_background": "light"
     },
     "output_type": "display_data"
    }
   ],
   "source": [
    "h=plt.hist(dff[\"GDP\"])\n",
    "plt.xlabel(u\"PIB/habitant centré réduit\")\n",
    "plt.ylabel(\"Effectif (pays)\")\n",
    "_=plt.xticks(np.arange(-1,4,.5))"
   ]
  },
  {
   "cell_type": "markdown",
   "metadata": {},
   "source": [
    "On distingue 3 classes (<0.5 / 0.5-2.5 / >2.5). "
   ]
  },
  {
   "cell_type": "code",
   "execution_count": 16,
   "metadata": {},
   "outputs": [],
   "source": [
    "def kmeans_1D(attribute,n):\n",
    "    \"\"\"Prend en entrée un nparray et n clusters\"\"\"\n",
    "    km1 = KMeans(n_clusters=n,random_state=1)\n",
    "    # on fixe la graine aléatoire\n",
    "    km1.fit(attribute.reshape(-1,1))\n",
    "    return km1"
   ]
  },
  {
   "cell_type": "code",
   "execution_count": 17,
   "metadata": {},
   "outputs": [
    {
     "data": {
      "image/png": "[encoded data removed]",
      "text/plain": [
       "<Figure size 432x288 with 1 Axes>"
      ]
     },
     "metadata": {
      "needs_background": "light"
     },
     "output_type": "display_data"
    }
   ],
   "source": [
    "V_GDP  = np.array(sorted(dff['GDP']))\n",
    "km_gdp = kmeans_1D(V_GDP,3)\n",
    "plt.scatter(dff.index,sorted(dff['GDP']),c=km_gdp.labels_.astype(np.float))\n",
    "plt.ylabel(u\"PIB/habitant centré réduit\")\n",
    "_=plt.xlabel(\"Rang du PIB (croissant)\")"
   ]
  },
  {
   "cell_type": "code",
   "execution_count": 18,
   "metadata": {},
   "outputs": [
    {
     "data": {
      "text/plain": [
       "147         Norway\n",
       "188    Switzerland\n",
       "Name: Country, dtype: object"
      ]
     },
     "execution_count": 18,
     "metadata": {},
     "output_type": "execute_result"
    }
   ],
   "source": [
    "dff.sort_values(by =['GDP'] , ascending = False).iloc[:2,-1]"
   ]
  },
  {
   "cell_type": "markdown",
   "metadata": {},
   "source": [
    "On observe deux pays très riches par rapport aux autres groupes (la Norvège et la Suisse). On décide d'exclure ces deux pays très riches de l'analyse car l'effectif de cette classe est trop faible. "
   ]
  },
  {
   "cell_type": "code",
   "execution_count": 113,
   "metadata": {},
   "outputs": [
    {
     "name": "stdout",
     "output_type": "stream",
     "text": [
      "[61 19  2]\n",
      "Limites de classe pour kmeans : 0.20324183820304462  ;  1.6820208216541859\n"
     ]
    }
   ],
   "source": [
    "unique, counts = np.unique(km_gdp.labels_, return_counts=True)\n",
    "print counts\n",
    "print 'Limites de classe pour kmeans :',V_GDP[counts[0]-1],\" ; \", V_GDP[counts[0]+counts[1]-1]"
   ]
  },
  {
   "cell_type": "markdown",
   "metadata": {},
   "source": [
    "Les limites de classes de kmeans sont proches de celles trouvées graphiquement par l'histogramme."
   ]
  },
  {
   "cell_type": "markdown",
   "metadata": {},
   "source": [
    "On compte le nombre de labels de chaque classe."
   ]
  },
  {
   "cell_type": "code",
   "execution_count": 19,
   "metadata": {},
   "outputs": [],
   "source": [
    "b=counts[0]-1\n",
    "a=counts[0]+counts[1]-1"
   ]
  },
  {
   "cell_type": "markdown",
   "metadata": {},
   "source": [
    "On associe un label à chaque PIB.\n",
    "On considèrera 2 groupes :\n",
    "* Les pays pauvres (B)\n",
    "* Les pays riches (A)"
   ]
  },
  {
   "cell_type": "markdown",
   "metadata": {},
   "source": [
    "On transforme la colonne correspondante."
   ]
  },
  {
   "cell_type": "code",
   "execution_count": 20,
   "metadata": {},
   "outputs": [],
   "source": [
    "def discretize_GDP(counts,df,vect,b,a):\n",
    "    \"\"\"Fonction pour discrétiser le PIB dans un dataframe à partir \n",
    "    des effectifs de classe de K-means (counts).\n",
    "    Attention, le PIB doit être en colonne 7.\n",
    "    Attention, il faut vérifier dans quel ordre sont les clusters \n",
    "    dans l'objet counts.\n",
    "    Retourne un dataframe discrétisé dfd.\"\"\"\n",
    "    # Bornes des classes\n",
    "    dfd=df.copy()\n",
    "    i=0\n",
    "    # indexes to drop\n",
    "    todrop=[]\n",
    "    for i in range(len(df)):\n",
    "        # column 7 = GDP\n",
    "        if df.iloc[i,7]<=vect[b]:\n",
    "            dfd.iloc[i,7]=\"B\"\n",
    "        elif df.iloc[i,7]<=vect[a] and dff.iloc[i,7]>vect[b]:\n",
    "            dfd.iloc[i,7]=\"A\"\n",
    "        elif dff.iloc[i,7]>vect[a]:\n",
    "            todrop.append(dfd.index[i])\n",
    "    for d in todrop:    \n",
    "        dfd=dfd.drop(index=d)\n",
    "    return dfd"
   ]
  },
  {
   "cell_type": "code",
   "execution_count": 21,
   "metadata": {
    "scrolled": false
   },
   "outputs": [
    {
     "data": {
      "text/html": [
       "<div>\n",
       "<style scoped>\n",
       "    .dataframe tbody tr th:only-of-type {\n",
       "        vertical-align: middle;\n",
       "    }\n",
       "\n",
       "    .dataframe tbody tr th {\n",
       "        vertical-align: top;\n",
       "    }\n",
       "\n",
       "    .dataframe thead th {\n",
       "        text-align: right;\n",
       "    }\n",
       "</style>\n",
       "<table border=\"1\" class=\"dataframe\">\n",
       "  <thead>\n",
       "    <tr style=\"text-align: right;\">\n",
       "      <th></th>\n",
       "      <th>Children out of school</th>\n",
       "      <th>CO2</th>\n",
       "      <th>NR electricity</th>\n",
       "      <th>Life expectancy</th>\n",
       "      <th>Population</th>\n",
       "      <th>Urban population</th>\n",
       "      <th>Area</th>\n",
       "      <th>GDP</th>\n",
       "      <th>Compulsory education</th>\n",
       "      <th>Labor force</th>\n",
       "      <th>Agricultural land</th>\n",
       "      <th>Country</th>\n",
       "    </tr>\n",
       "  </thead>\n",
       "  <tbody>\n",
       "    <tr>\n",
       "      <th>1</th>\n",
       "      <td>0.055405</td>\n",
       "      <td>-0.696201</td>\n",
       "      <td>-1.876930</td>\n",
       "      <td>0.432529</td>\n",
       "      <td>-0.291573</td>\n",
       "      <td>-0.652658</td>\n",
       "      <td>-0.370542</td>\n",
       "      <td>B</td>\n",
       "      <td>-0.612305</td>\n",
       "      <td>-0.862056</td>\n",
       "      <td>0.131700</td>\n",
       "      <td>Albania</td>\n",
       "    </tr>\n",
       "    <tr>\n",
       "      <th>7</th>\n",
       "      <td>-0.764361</td>\n",
       "      <td>-0.275301</td>\n",
       "      <td>0.134525</td>\n",
       "      <td>0.172820</td>\n",
       "      <td>-0.004043</td>\n",
       "      <td>1.213444</td>\n",
       "      <td>0.829788</td>\n",
       "      <td>B</td>\n",
       "      <td>1.347071</td>\n",
       "      <td>-0.108451</td>\n",
       "      <td>0.671874</td>\n",
       "      <td>Argentina</td>\n",
       "    </tr>\n",
       "    <tr>\n",
       "      <th>12</th>\n",
       "      <td>0.169681</td>\n",
       "      <td>-0.380435</td>\n",
       "      <td>1.047264</td>\n",
       "      <td>-0.540938</td>\n",
       "      <td>-0.244274</td>\n",
       "      <td>-0.717287</td>\n",
       "      <td>-0.346060</td>\n",
       "      <td>B</td>\n",
       "      <td>-0.122461</td>\n",
       "      <td>0.354138</td>\n",
       "      <td>0.825752</td>\n",
       "      <td>Azerbaijan</td>\n",
       "    </tr>\n",
       "    <tr>\n",
       "      <th>14</th>\n",
       "      <td>0.158569</td>\n",
       "      <td>2.724599</td>\n",
       "      <td>1.265949</td>\n",
       "      <td>0.236097</td>\n",
       "      <td>-0.303030</td>\n",
       "      <td>1.087830</td>\n",
       "      <td>-0.382340</td>\n",
       "      <td>B</td>\n",
       "      <td>-0.612305</td>\n",
       "      <td>1.132413</td>\n",
       "      <td>-1.421480</td>\n",
       "      <td>Bahrain</td>\n",
       "    </tr>\n",
       "    <tr>\n",
       "      <th>17</th>\n",
       "      <td>0.246590</td>\n",
       "      <td>0.077362</td>\n",
       "      <td>1.236223</td>\n",
       "      <td>-0.409758</td>\n",
       "      <td>-0.243917</td>\n",
       "      <td>0.430308</td>\n",
       "      <td>-0.292783</td>\n",
       "      <td>B</td>\n",
       "      <td>-0.612305</td>\n",
       "      <td>0.282584</td>\n",
       "      <td>0.115869</td>\n",
       "      <td>Belarus</td>\n",
       "    </tr>\n",
       "  </tbody>\n",
       "</table>\n",
       "</div>"
      ],
      "text/plain": [
       "    Children out of school       CO2  NR electricity  Life expectancy  \\\n",
       "1                 0.055405 -0.696201       -1.876930         0.432529   \n",
       "7                -0.764361 -0.275301        0.134525         0.172820   \n",
       "12                0.169681 -0.380435        1.047264        -0.540938   \n",
       "14                0.158569  2.724599        1.265949         0.236097   \n",
       "17                0.246590  0.077362        1.236223        -0.409758   \n",
       "\n",
       "    Population  Urban population      Area GDP  Compulsory education  \\\n",
       "1    -0.291573         -0.652658 -0.370542   B             -0.612305   \n",
       "7    -0.004043          1.213444  0.829788   B              1.347071   \n",
       "12   -0.244274         -0.717287 -0.346060   B             -0.122461   \n",
       "14   -0.303030          1.087830 -0.382340   B             -0.612305   \n",
       "17   -0.243917          0.430308 -0.292783   B             -0.612305   \n",
       "\n",
       "    Labor force  Agricultural land     Country  \n",
       "1     -0.862056           0.131700     Albania  \n",
       "7     -0.108451           0.671874   Argentina  \n",
       "12     0.354138           0.825752  Azerbaijan  \n",
       "14     1.132413          -1.421480     Bahrain  \n",
       "17     0.282584           0.115869     Belarus  "
      ]
     },
     "execution_count": 21,
     "metadata": {},
     "output_type": "execute_result"
    }
   ],
   "source": [
    "dfd=discretize_GDP(counts,dff,V_GDP,b,a)\n",
    "dfd.head()"
   ]
  },
  {
   "cell_type": "markdown",
   "metadata": {},
   "source": [
    "On a un dafaframe avec le PIB discrétisé."
   ]
  },
  {
   "cell_type": "markdown",
   "metadata": {},
   "source": [
    "## Préparation des données pour la classification"
   ]
  },
  {
   "cell_type": "code",
   "execution_count": 22,
   "metadata": {},
   "outputs": [],
   "source": [
    "dffea = dfd.drop(['GDP','Country'],axis=1)\n",
    "classes = dfd[\"GDP\"]\n",
    "sortedLabelList = sorted(list(set(classes)))"
   ]
  },
  {
   "cell_type": "markdown",
   "metadata": {},
   "source": [
    "## Arbre de décision"
   ]
  },
  {
   "cell_type": "markdown",
   "metadata": {},
   "source": [
    "### Jeu d'entraiement"
   ]
  },
  {
   "cell_type": "code",
   "execution_count": 23,
   "metadata": {},
   "outputs": [],
   "source": [
    "prop_tree=.24\n",
    "tX_train, tX_test, ty_train, ty_test = train_test_split(dffea, classes, test_size=prop_tree, random_state=42)"
   ]
  },
  {
   "cell_type": "code",
   "execution_count": 24,
   "metadata": {},
   "outputs": [],
   "source": [
    "nleaf=10\n",
    "treeModel = DecisionTreeClassifier(criterion = 'entropy', random_state=15, min_samples_leaf=nleaf)\n",
    "t=treeModel.fit(tX_train, ty_train)"
   ]
  },
  {
   "cell_type": "code",
   "execution_count": 25,
   "metadata": {},
   "outputs": [
    {
     "name": "stdout",
     "output_type": "stream",
     "text": [
      "[[15  0]\n",
      " [ 0 45]]\n"
     ]
    }
   ],
   "source": [
    "tM=metrics.confusion_matrix(y_true=ty_train, y_pred=ty_train, labels=sortedLabelList)\n",
    "print(tM)"
   ]
  },
  {
   "cell_type": "markdown",
   "metadata": {},
   "source": [
    "Le jeu d'entraînemet compte 15 pays de PIB A et 45 de PIB B."
   ]
  },
  {
   "cell_type": "code",
   "execution_count": 26,
   "metadata": {},
   "outputs": [],
   "source": [
    "trueLabels=['A','B']\n",
    "predictLabels=['a','b']\n",
    "allLabels=trueLabels+predictLabels"
   ]
  },
  {
   "cell_type": "code",
   "execution_count": 114,
   "metadata": {},
   "outputs": [
    {
     "ename": "TypeError",
     "evalue": "Text(17.2,0.5,u'Distance au 4e voisin') is not an estimator instance.",
     "output_type": "error",
     "traceback": [
      "\u001b[0;31m---------------------------------------------------------------------------\u001b[0m",
      "\u001b[0;31mTypeError\u001b[0m                                 Traceback (most recent call last)",
      "\u001b[0;32m<ipython-input-114-9504869aa59c>\u001b[0m in \u001b[0;36m<module>\u001b[0;34m()\u001b[0m\n\u001b[1;32m      4\u001b[0m                          \u001b[0mclass_names\u001b[0m\u001b[0;34m=\u001b[0m\u001b[0msortedLabelList\u001b[0m\u001b[0;34m,\u001b[0m \u001b[0;31m# needs to be lexicographically sorted\u001b[0m\u001b[0;34m\u001b[0m\u001b[0m\n\u001b[1;32m      5\u001b[0m                          \u001b[0mfilled\u001b[0m\u001b[0;34m=\u001b[0m\u001b[0mTrue\u001b[0m\u001b[0;34m,\u001b[0m \u001b[0mrounded\u001b[0m\u001b[0;34m=\u001b[0m\u001b[0mTrue\u001b[0m\u001b[0;34m,\u001b[0m\u001b[0;34m\u001b[0m\u001b[0m\n\u001b[0;32m----> 6\u001b[0;31m                          special_characters=True) \n\u001b[0m\u001b[1;32m      7\u001b[0m \u001b[0mgraph\u001b[0m \u001b[0;34m=\u001b[0m \u001b[0mgraphviz\u001b[0m\u001b[0;34m.\u001b[0m\u001b[0mSource\u001b[0m\u001b[0;34m(\u001b[0m\u001b[0mdot_data\u001b[0m\u001b[0;34m)\u001b[0m\u001b[0;34m\u001b[0m\u001b[0m\n\u001b[1;32m      8\u001b[0m \u001b[0mgraph\u001b[0m\u001b[0;34m\u001b[0m\u001b[0m\n",
      "\u001b[0;32m/Users/lisa/anaconda2/lib/python2.7/site-packages/sklearn/tree/export.pyc\u001b[0m in \u001b[0;36mexport_graphviz\u001b[0;34m(decision_tree, out_file, max_depth, feature_names, class_names, label, filled, leaves_parallel, impurity, node_ids, proportion, rotate, rounded, special_characters, precision)\u001b[0m\n\u001b[1;32m    394\u001b[0m                 \u001b[0mout_file\u001b[0m\u001b[0;34m.\u001b[0m\u001b[0mwrite\u001b[0m\u001b[0;34m(\u001b[0m\u001b[0;34m'%d -> %d ;\\n'\u001b[0m \u001b[0;34m%\u001b[0m \u001b[0;34m(\u001b[0m\u001b[0mparent\u001b[0m\u001b[0;34m,\u001b[0m \u001b[0mnode_id\u001b[0m\u001b[0;34m)\u001b[0m\u001b[0;34m)\u001b[0m\u001b[0;34m\u001b[0m\u001b[0m\n\u001b[1;32m    395\u001b[0m \u001b[0;34m\u001b[0m\u001b[0m\n\u001b[0;32m--> 396\u001b[0;31m     \u001b[0mcheck_is_fitted\u001b[0m\u001b[0;34m(\u001b[0m\u001b[0mdecision_tree\u001b[0m\u001b[0;34m,\u001b[0m \u001b[0;34m'tree_'\u001b[0m\u001b[0;34m)\u001b[0m\u001b[0;34m\u001b[0m\u001b[0m\n\u001b[0m\u001b[1;32m    397\u001b[0m     \u001b[0mown_file\u001b[0m \u001b[0;34m=\u001b[0m \u001b[0mFalse\u001b[0m\u001b[0;34m\u001b[0m\u001b[0m\n\u001b[1;32m    398\u001b[0m     \u001b[0mreturn_string\u001b[0m \u001b[0;34m=\u001b[0m \u001b[0mFalse\u001b[0m\u001b[0;34m\u001b[0m\u001b[0m\n",
      "\u001b[0;32m/Users/lisa/anaconda2/lib/python2.7/site-packages/sklearn/utils/validation.pyc\u001b[0m in \u001b[0;36mcheck_is_fitted\u001b[0;34m(estimator, attributes, msg, all_or_any)\u001b[0m\n\u001b[1;32m    943\u001b[0m \u001b[0;34m\u001b[0m\u001b[0m\n\u001b[1;32m    944\u001b[0m     \u001b[0;32mif\u001b[0m \u001b[0;32mnot\u001b[0m \u001b[0mhasattr\u001b[0m\u001b[0;34m(\u001b[0m\u001b[0mestimator\u001b[0m\u001b[0;34m,\u001b[0m \u001b[0;34m'fit'\u001b[0m\u001b[0;34m)\u001b[0m\u001b[0;34m:\u001b[0m\u001b[0;34m\u001b[0m\u001b[0m\n\u001b[0;32m--> 945\u001b[0;31m         \u001b[0;32mraise\u001b[0m \u001b[0mTypeError\u001b[0m\u001b[0;34m(\u001b[0m\u001b[0;34m\"%s is not an estimator instance.\"\u001b[0m \u001b[0;34m%\u001b[0m \u001b[0;34m(\u001b[0m\u001b[0mestimator\u001b[0m\u001b[0;34m)\u001b[0m\u001b[0;34m)\u001b[0m\u001b[0;34m\u001b[0m\u001b[0m\n\u001b[0m\u001b[1;32m    946\u001b[0m \u001b[0;34m\u001b[0m\u001b[0m\n\u001b[1;32m    947\u001b[0m     \u001b[0;32mif\u001b[0m \u001b[0;32mnot\u001b[0m \u001b[0misinstance\u001b[0m\u001b[0;34m(\u001b[0m\u001b[0mattributes\u001b[0m\u001b[0;34m,\u001b[0m \u001b[0;34m(\u001b[0m\u001b[0mlist\u001b[0m\u001b[0;34m,\u001b[0m \u001b[0mtuple\u001b[0m\u001b[0;34m)\u001b[0m\u001b[0;34m)\u001b[0m\u001b[0;34m:\u001b[0m\u001b[0;34m\u001b[0m\u001b[0m\n",
      "\u001b[0;31mTypeError\u001b[0m: Text(17.2,0.5,u'Distance au 4e voisin') is not an estimator instance."
     ]
    }
   ],
   "source": [
    "# NE MARCHE PAS CHEZ MOI (pb de path)\n",
    "dot_data = tree.export_graphviz(t, out_file=None, \n",
    "                         feature_names=dffea.columns,  \n",
    "                         class_names=sortedLabelList, # needs to be lexicographically sorted\n",
    "                         filled=True, rounded=True,  \n",
    "                         special_characters=True) \n",
    "graph = graphviz.Source(dot_data)\n",
    "graph"
   ]
  },
  {
   "cell_type": "markdown",
   "metadata": {},
   "source": [
    "### Jeu test"
   ]
  },
  {
   "cell_type": "code",
   "execution_count": 118,
   "metadata": {},
   "outputs": [
    {
     "name": "stdout",
     "output_type": "stream",
     "text": [
      "Accuracy classique : 1.0\n",
      "Accuracy pondérée : 1.0\n"
     ]
    }
   ],
   "source": [
    "ty_predict = treeModel.predict(tX_test)\n",
    "print \"Accuracy classique :\",metrics.accuracy_score(ty_test, ty_predict)\n",
    "print u\"Accuracy pondérée :\",balanced_accuracy_score(ty_test, ty_predict)"
   ]
  },
  {
   "cell_type": "markdown",
   "metadata": {},
   "source": [
    "On choisit pour cette étude d'utiliser l'accuracy pondérée car les classes ont des effectifs très différents.\n",
    "\n",
    "Ici, les deux métriques donnent les mêmes chiffres : mais utiliser l'accuracy pondérée permettrait de ne pas sous-estimer le coût d'une mauvaise classification dans la classe A à cause de son effectif plus faible."
   ]
  },
  {
   "cell_type": "code",
   "execution_count": 29,
   "metadata": {},
   "outputs": [
    {
     "data": {
      "image/png": "[encoded data removed]",
      "text/plain": [
       "<Figure size 432x288 with 2 Axes>"
      ]
     },
     "metadata": {
      "needs_background": "light"
     },
     "output_type": "display_data"
    }
   ],
   "source": [
    "tMP=metrics.confusion_matrix(y_true=ty_test, y_pred=ty_predict, labels=sortedLabelList)\n",
    "tmdfp = pds.DataFrame(data=tMP, copy=True, index=trueLabels, columns=predictLabels)\n",
    "tmdfp = tmdfp.transpose()\n",
    "ax=sns.heatmap(tmdfp, annot=True)\n",
    "_=ax.set_title(u\"Matrice de contingence pour l'arbre de décision\")"
   ]
  },
  {
   "cell_type": "markdown",
   "metadata": {},
   "source": [
    "Matrice de contingence. Verticalement et en minuscule, les classes prédites. Horizontalement et en majuscules, les classes réelles."
   ]
  },
  {
   "cell_type": "code",
   "execution_count": 30,
   "metadata": {},
   "outputs": [
    {
     "name": "stdout",
     "output_type": "stream",
     "text": [
      "              precision    recall  f1-score   support\n",
      "\n",
      "           A       1.00      1.00      1.00         4\n",
      "           B       1.00      1.00      1.00        16\n",
      "\n",
      "   micro avg       1.00      1.00      1.00        20\n",
      "   macro avg       1.00      1.00      1.00        20\n",
      "weighted avg       1.00      1.00      1.00        20\n",
      "\n"
     ]
    }
   ],
   "source": [
    "print metrics.classification_report(ty_test, ty_predict)"
   ]
  },
  {
   "cell_type": "markdown",
   "metadata": {},
   "source": [
    "Ici, tous les scores sont optimaux : la précision est à 1 (aucun faux positif), ainsi que le rappel (aucun faux positif) et le f1-score (c'est la moyenne harmonique des deux).\n",
    "\n",
    "Il n'y a pas de différence entre les moyennes pondérée et non pondérée ici, mais si c'était le cas, on s'intéresserait plutôt à la moyenne pondérée au vu des différences d'effectif des classes."
   ]
  },
  {
   "cell_type": "markdown",
   "metadata": {},
   "source": [
    "## K plus proches voisins"
   ]
  },
  {
   "cell_type": "code",
   "execution_count": 169,
   "metadata": {},
   "outputs": [],
   "source": [
    "prop_k=.2\n",
    "kX_train, kX_test, ky_train, ky_test = train_test_split(dffea, classes, test_size=prop_k, random_state=42)\n",
    "nneighbors=6\n",
    "knnModel = neighbors.KNeighborsClassifier(n_neighbors=nneighbors, weights='uniform', p=2)\n",
    "_=knnModel.fit(kX_train, ky_train)"
   ]
  },
  {
   "cell_type": "code",
   "execution_count": 163,
   "metadata": {},
   "outputs": [
    {
     "name": "stdout",
     "output_type": "stream",
     "text": [
      "Accuracy classique : 0.8863636363636364\n",
      "Accuracy pondérée : 0.8911764705882352\n"
     ]
    }
   ],
   "source": [
    "ky_predict = knnModel.predict(kX_test)\n",
    "print \"Accuracy classique :\",metrics.accuracy_score(ky_test, ky_predict)\n",
    "print u\"Accuracy pondérée :\",balanced_accuracy_score(ky_test, ky_predict)"
   ]
  },
  {
   "cell_type": "markdown",
   "metadata": {},
   "source": [
    "De même que pour l'arbre de décision, il n'y a pas de différences entre les accuracies classique et pondérée. \n",
    "Le modèle est excellent."
   ]
  },
  {
   "cell_type": "code",
   "execution_count": 164,
   "metadata": {},
   "outputs": [
    {
     "data": {
      "image/png": "[encoded data removed]",
      "text/plain": [
       "<Figure size 432x288 with 2 Axes>"
      ]
     },
     "metadata": {
      "needs_background": "light"
     },
     "output_type": "display_data"
    }
   ],
   "source": [
    "kMP=metrics.confusion_matrix(y_true=ky_test, y_pred=ky_predict, labels=sortedLabelList)\n",
    "kmdfp = pds.DataFrame(data=kMP, copy=True, index=trueLabels, columns=predictLabels)\n",
    "kmdfp = kmdfp.transpose()\n",
    "ax=sns.heatmap(kmdfp, annot=True)\n",
    "_=ax.set_title(u\"Matrice de contingence pour les k plus proches voisins\")"
   ]
  },
  {
   "cell_type": "markdown",
   "metadata": {},
   "source": [
    "Matrice de contingence. Verticalement et en minuscule, les classes prédites. Horizontalement et en majuscules, les classes réelles."
   ]
  },
  {
   "cell_type": "code",
   "execution_count": 165,
   "metadata": {
    "scrolled": true
   },
   "outputs": [
    {
     "name": "stdout",
     "output_type": "stream",
     "text": [
      "              precision    recall  f1-score   support\n",
      "\n",
      "           A       0.69      0.90      0.78        10\n",
      "           B       0.97      0.88      0.92        34\n",
      "\n",
      "   micro avg       0.89      0.89      0.89        44\n",
      "   macro avg       0.83      0.89      0.85        44\n",
      "weighted avg       0.91      0.89      0.89        44\n",
      "\n"
     ]
    }
   ],
   "source": [
    "print metrics.classification_report(ky_test, ky_predict)"
   ]
  },
  {
   "cell_type": "markdown",
   "metadata": {},
   "source": [
    "Ici, le modèle a parfaitement prédit toutes les classes. La précision, le rappel et le f1-score sont maximaux."
   ]
  },
  {
   "cell_type": "markdown",
   "metadata": {},
   "source": [
    "## Détection de sur-apprentissage"
   ]
  },
  {
   "cell_type": "code",
   "execution_count": 53,
   "metadata": {},
   "outputs": [],
   "source": [
    "def plotErrorTest(step,dffeatures,classes,m,start=.01,stop=.99):\n",
    "    \"\"\"Trace le pourcentage d'erreur du modèle en fonction de la taille de la classe test.\n",
    "    step est le pas d'incrémentation de la proportion de classe test.\n",
    "    dffeatures sont les caractérisiques à prédire.\n",
    "    classes est la liste des étiquettes de classes à prédire.\n",
    "    model est le modèle de classificaton (t pour un arbre de décision, k pour les k plus \n",
    "    proches voisins).\n",
    "    start et stop sont les proportions de départ et d'arrivée du jeu test.\"\"\"\n",
    "    if m==\"k\":\n",
    "        model=neighbors.KNeighborsClassifier(n_neighbors=nneighbors, weights='uniform', p=2)\n",
    "    prop=np.arange(start,stop,step)\n",
    "    error=np.ndarray(len(prop))\n",
    "    i=0\n",
    "    for p in prop:\n",
    "        j=0\n",
    "        rep=100\n",
    "        errmoy=np.ndarray(rep)\n",
    "        for k in range(rep):\n",
    "            # on fixe la graine aléatoire mais elle est différente à chaque itération\n",
    "            X_train, X_test, y_train, y_test = train_test_split(dffeatures, \n",
    "                classes, test_size=p,random_state=k)\n",
    "            #train\n",
    "            # 2 cas en fonction du modèle\n",
    "            if m=='t':\n",
    "                #la graine aléatoire est différente à chaque itération\n",
    "                model = DecisionTreeClassifier(criterion = 'entropy', \n",
    "                    random_state=k, min_samples_leaf=nleaf)\n",
    "            model.fit(X_train, y_train)\n",
    "            # test\n",
    "            y_predict = model.predict(X_test)\n",
    "            errmoy[j]=(y_predict != y_test).mean()\n",
    "            j+=1\n",
    "        error_rate = np.mean(errmoy)*100\n",
    "        error[i]=error_rate\n",
    "        i+=1\n",
    "    plt.plot(prop,error)\n",
    "    plt.xlabel(\"Proportion du jeu test\")\n",
    "    plt.ylabel(u\"Taux d'erreur (%)\")\n",
    "    if m=='k':\n",
    "        plt.title(u\"K plus proches voisins\")\n",
    "    elif m=='t':\n",
    "        plt.title(u\"Arbre de décision\")"
   ]
  },
  {
   "cell_type": "code",
   "execution_count": 36,
   "metadata": {},
   "outputs": [],
   "source": [
    "def plotErrorLeaf(dffeatures,classes,start=1,stop=50):\n",
    "    \"\"\"Trace le pourcentage d'erreur du modèle en fonction du nombre minimal \n",
    "    d'objets pour faire une feuille.\n",
    "    dffeatures sont les caractérisiques à prédire.\n",
    "    classes est la liste des étiquettes de classes à prédire.\n",
    "    start et stop sont la taille de départ et d'arrivée de la feuille.\"\"\"\n",
    "    leaf=np.arange(start,stop)\n",
    "    error=np.ndarray(len(leaf))\n",
    "    i=0\n",
    "    for l in leaf:\n",
    "        j=0\n",
    "        rep=100\n",
    "        errmoy=np.ndarray(rep)\n",
    "        for k in range(rep):\n",
    "            # on fait une moyenne sur plusieurs jeux de test/d'entraînement\n",
    "            model = DecisionTreeClassifier(criterion = 'entropy', \n",
    "                random_state=k, min_samples_leaf=l)\n",
    "            X_train, X_test, y_train, y_test = train_test_split(dffeatures, \n",
    "                classes, test_size=prop_tree,random_state=k)\n",
    "            #train\n",
    "            model.fit(X_train, y_train)\n",
    "            # test\n",
    "            y_predict = model.predict(X_test)\n",
    "            errmoy[j]=(y_predict != y_test).mean()\n",
    "            j+=1\n",
    "        error_rate = np.mean(errmoy)*100\n",
    "        error[i]=error_rate\n",
    "        i+=1\n",
    "    plt.plot(leaf,error)\n",
    "    plt.xlabel(\"Nombre minimal d'objets dans un noeud\")\n",
    "    plt.ylabel(u\"Taux d'erreur (%)\")\n",
    "    plt.title(u\"Arbre de décision\")"
   ]
  },
  {
   "cell_type": "code",
   "execution_count": 37,
   "metadata": {},
   "outputs": [],
   "source": [
    "def plotErrorNeighbors(dffeatures,classes,start=1,stop=50):\n",
    "    \"\"\"Trace le pourcentage d'erreur du modèle en fonction du nombre \n",
    "    de voisins utilisé.\n",
    "    dffeatures sont les caractérisiques à prédire.\n",
    "    classes est la liste des étiquettes de classes à prédire.\n",
    "    start et stop sont le nombre de voisins de départ et d'arrivée.\"\"\"\n",
    "    neighb=np.arange(start,stop)\n",
    "    error=np.ndarray(len(neighb))\n",
    "    i=0\n",
    "    for n in neighb:\n",
    "        j=0\n",
    "        rep=100\n",
    "        errmoy=np.ndarray(rep)\n",
    "        for k in range(rep):\n",
    "            # On fait une moyenne car l'arbre de décision est aléatoire\n",
    "            # On change aussi le jeu de test/d'entraînement\n",
    "            model = neighbors.KNeighborsClassifier(n_neighbors=n, weights='uniform', p=2)\n",
    "            X_train, X_test, y_train, y_test = train_test_split(dffeatures, \n",
    "                classes, test_size=prop_k,random_state=k)\n",
    "            #train\n",
    "            model.fit(X_train, y_train)\n",
    "            # test\n",
    "            y_predict = model.predict(X_test)\n",
    "            errmoy[j]=(y_predict != y_test).mean()\n",
    "            j+=1\n",
    "        error_rate = np.mean(errmoy)*100\n",
    "        error[i]=error_rate\n",
    "        i+=1\n",
    "    plt.plot(neighb,error)\n",
    "    plt.xlabel(\"Nombre de voisins\")\n",
    "    plt.ylabel(u\"Taux d'erreur (%)\")\n",
    "    plt.title(u\"K plus proches voisins\")"
   ]
  },
  {
   "cell_type": "markdown",
   "metadata": {},
   "source": [
    "### Erreur en fonction de la proportion du jeu test"
   ]
  },
  {
   "cell_type": "code",
   "execution_count": 38,
   "metadata": {},
   "outputs": [
    {
     "data": {
      "image/png": "[encoded data removed]",
      "text/plain": [
       "<Figure size 432x288 with 1 Axes>"
      ]
     },
     "metadata": {
      "needs_background": "light"
     },
     "output_type": "display_data"
    }
   ],
   "source": [
    "plotErrorTest(.01,dffea,classes,'t')"
   ]
  },
  {
   "cell_type": "code",
   "execution_count": 39,
   "metadata": {},
   "outputs": [
    {
     "data": {
      "image/png": "[encoded data removed]",
      "text/plain": [
       "<Figure size 432x288 with 1 Axes>"
      ]
     },
     "metadata": {
      "needs_background": "light"
     },
     "output_type": "display_data"
    }
   ],
   "source": [
    "plotErrorTest(.01,dffea,classes,'t',.2,.3)"
   ]
  },
  {
   "cell_type": "markdown",
   "metadata": {},
   "source": [
    "L'erreur augmente avec la proportion de jeu test. En effet, plus cette proportion est grande et moins le modèle a pu s'entraîner. Cependant, cela n'a aucun sens de choisir un jeu test trop petit (surtout dans notre cas où cela correspondrait à deux ou trois objets).\n",
    "\n",
    "On choisira une proportion de test de 0,24."
   ]
  },
  {
   "cell_type": "code",
   "execution_count": 40,
   "metadata": {},
   "outputs": [
    {
     "data": {
      "image/png": "[encoded data removed]",
      "text/plain": [
       "<Figure size 432x288 with 1 Axes>"
      ]
     },
     "metadata": {
      "needs_background": "light"
     },
     "output_type": "display_data"
    }
   ],
   "source": [
    "plotErrorTest(.01,dffea,classes,'k',.01,.9)"
   ]
  },
  {
   "cell_type": "markdown",
   "metadata": {},
   "source": [
    "On choisit une proportion de test de 0,2. "
   ]
  },
  {
   "cell_type": "markdown",
   "metadata": {},
   "source": [
    "On remarque que l'erreur associée à l'arbre de décision augmente plus vite que l'erreur associée aux k plus proches voisins."
   ]
  },
  {
   "cell_type": "markdown",
   "metadata": {},
   "source": [
    "### Erreur en fonction du nombre minimal d'items pour donner une feuille (arbre de décision)"
   ]
  },
  {
   "cell_type": "code",
   "execution_count": 41,
   "metadata": {},
   "outputs": [
    {
     "data": {
      "image/png": "[encoded data removed]",
      "text/plain": [
       "<Figure size 432x288 with 1 Axes>"
      ]
     },
     "metadata": {
      "needs_background": "light"
     },
     "output_type": "display_data"
    }
   ],
   "source": [
    "plotErrorLeaf(dffea,classes,1,50)"
   ]
  },
  {
   "cell_type": "markdown",
   "metadata": {},
   "source": [
    "Le nombre d'objets optimal dans un noeud semble être de 10. En dessous, il y a trop de feuiles et il y a sur-apprentissage. Au dessus, le modèle est trop simple."
   ]
  },
  {
   "cell_type": "markdown",
   "metadata": {},
   "source": [
    "### Erreur en fonction du nombre de voisins (knn)"
   ]
  },
  {
   "cell_type": "code",
   "execution_count": 42,
   "metadata": {},
   "outputs": [
    {
     "data": {
      "image/png": "[encoded data removed]",
      "text/plain": [
       "<Figure size 432x288 with 1 Axes>"
      ]
     },
     "metadata": {
      "needs_background": "light"
     },
     "output_type": "display_data"
    }
   ],
   "source": [
    "plotErrorNeighbors(dffea,classes,1,50)"
   ]
  },
  {
   "cell_type": "code",
   "execution_count": 43,
   "metadata": {},
   "outputs": [
    {
     "data": {
      "image/png": "[encoded data removed]",
      "text/plain": [
       "<Figure size 432x288 with 1 Axes>"
      ]
     },
     "metadata": {
      "needs_background": "light"
     },
     "output_type": "display_data"
    }
   ],
   "source": [
    "plotErrorNeighbors(dffea,classes,1,10)"
   ]
  },
  {
   "cell_type": "markdown",
   "metadata": {},
   "source": [
    "Si l'algorithme ne considère pas assez de voisins, les résultats sont mauvais car l'apprentissage est trop spécifique (par exemple, s'il y a du bruit, un point peut-être classifié à tort comme un voisin proche). Si on considère trop de voisins, les classes sont trop générales et donc mal définies.\n",
    "Le nombre de voisins optimal semble être 6."
   ]
  },
  {
   "cell_type": "markdown",
   "metadata": {},
   "source": [
    "## Comparaison des deux méthodes de classification"
   ]
  },
  {
   "cell_type": "markdown",
   "metadata": {},
   "source": [
    "### Accuracy"
   ]
  },
  {
   "cell_type": "markdown",
   "metadata": {},
   "source": [
    "Comme l'arbre de décision est une méthode aléatoire et qu'on peut tester plusieurs jeux test/entraînement, on considère un score d'accurracy moyen sur plusieurs runs.\n",
    "\n",
    "\n",
    "Pour les k plus proches voisins, même si l'algorithme est déterministe, on considère également un score d'accuracy moyen sur plusieurs pour plusieurs jeux de test/entraînement."
   ]
  },
  {
   "cell_type": "code",
   "execution_count": 121,
   "metadata": {},
   "outputs": [],
   "source": [
    "def meanAccuracy(ni,m,f,c):\n",
    "    \"\"\"Calcule l'accuracy pondérée moyenne sur un nombre d'itérations défini par \n",
    "    l'utilisateur ni.\n",
    "    m est le modèle ('t' pour l'arbre de décision, 'k' pour les k plus proches voisins.)\n",
    "    f est le tableau de features, c est la liste des classes.'\"\"\"\n",
    "    n=ni\n",
    "    accuracy=np.ndarray(n)\n",
    "    dffea=f\n",
    "    classes=c\n",
    "    if m=='k':\n",
    "        model = neighbors.KNeighborsClassifier(n_neighbors=nneighbors, weights='uniform', p=2)\n",
    "\n",
    "    for i in range(n):\n",
    "        if m=='t':\n",
    "            X_train, X_test, y_train, y_test = train_test_split(dffea, classes, test_size=prop_tree, random_state=i)\n",
    "            model = DecisionTreeClassifier(criterion = 'entropy', random_state=i, min_samples_leaf=nleaf)\n",
    "            train=model.fit(X_train, y_train)\n",
    "            y_predict = model.predict(X_test)\n",
    "        elif m=='k':\n",
    "            X_train, X_test, y_train, y_test = train_test_split(dffea, classes, test_size=prop_k, random_state=i)\n",
    "            train=model.fit(X_train, y_train)\n",
    "            y_predict = model.predict(X_test)\n",
    "        accuracy[i]=metrics.balanced_accuracy_score(y_test, y_predict)   \n",
    "    mean=np.mean(accuracy)\n",
    "    return mean"
   ]
  },
  {
   "cell_type": "code",
   "execution_count": 123,
   "metadata": {},
   "outputs": [
    {
     "name": "stderr",
     "output_type": "stream",
     "text": [
      "/Users/lisa/anaconda2/lib/python2.7/site-packages/sklearn/metrics/classification.py:1437: UserWarning: y_pred contains classes not in y_true\n",
      "  warnings.warn('y_pred contains classes not in y_true')\n",
      "/Users/lisa/anaconda2/lib/python2.7/site-packages/sklearn/metrics/classification.py:1437: UserWarning: y_pred contains classes not in y_true\n",
      "  warnings.warn('y_pred contains classes not in y_true')\n",
      "/Users/lisa/anaconda2/lib/python2.7/site-packages/sklearn/metrics/classification.py:1437: UserWarning: y_pred contains classes not in y_true\n",
      "  warnings.warn('y_pred contains classes not in y_true')\n"
     ]
    },
    {
     "name": "stdout",
     "output_type": "stream",
     "text": [
      "Accuracy moyenne pondérée pour l'arbre de décision ( 100  runs) : 0.8421403560749535\n",
      "Accuracy pondérée des k plus proches voisins ( 100  runs) : 0.8817367632367633\n"
     ]
    }
   ],
   "source": [
    "# Il y a un warning\n",
    "n=100\n",
    "meanAccuracyTree=meanAccuracy(n,'t',dffea,classes)\n",
    "meanAccuracyKnn=meanAccuracy(n,'k',dffea,classes)\n",
    "print u\"Accuracy moyenne pondérée pour l'arbre de décision (\",n,\" runs) :\", meanAccuracyTree\n",
    "print u\"Accuracy pondérée des k plus proches voisins (\",n,\" runs) :\",meanAccuracyKnn"
   ]
  },
  {
   "cell_type": "markdown",
   "metadata": {},
   "source": [
    "Les scores d'accuracy sont comparables : mais l'algorithme de l'arbre de décision est légèrement plus performant."
   ]
  },
  {
   "cell_type": "markdown",
   "metadata": {},
   "source": [
    "## Précision et rappel"
   ]
  },
  {
   "cell_type": "markdown",
   "metadata": {},
   "source": [
    "Par simplicité, on considère cette fois des runs uniques."
   ]
  },
  {
   "cell_type": "code",
   "execution_count": 124,
   "metadata": {},
   "outputs": [
    {
     "name": "stdout",
     "output_type": "stream",
     "text": [
      "----------------------------- Arbre de décision -----------------------------\n",
      "              precision    recall  f1-score   support\n",
      "\n",
      "           A       1.00      1.00      1.00         4\n",
      "           B       1.00      1.00      1.00        16\n",
      "\n",
      "   micro avg       1.00      1.00      1.00        20\n",
      "   macro avg       1.00      1.00      1.00        20\n",
      "weighted avg       1.00      1.00      1.00        20\n",
      "\n",
      "----------------------------- k plus proches voisins -----------------------------\n",
      "              precision    recall  f1-score   support\n",
      "\n",
      "           A       1.00      1.00      1.00         4\n",
      "           B       1.00      1.00      1.00        12\n",
      "\n",
      "   micro avg       1.00      1.00      1.00        16\n",
      "   macro avg       1.00      1.00      1.00        16\n",
      "weighted avg       1.00      1.00      1.00        16\n",
      "\n"
     ]
    }
   ],
   "source": [
    "print \"----------------------------- Arbre de décision -----------------------------\\n\", metrics.classification_report(ty_test, ty_predict)\n",
    "print \"----------------------------- k plus proches voisins -----------------------------\\n\", metrics.classification_report(ky_test, ky_predict)"
   ]
  },
  {
   "cell_type": "markdown",
   "metadata": {},
   "source": [
    "Comme on l'a vu ci-dessus, pour nos runs, les modèles sont parfaits. Cependant, il faudrait répéter plusieurs fois et faire une moyenne pour pouvoir interpréter les résultats."
   ]
  },
  {
   "cell_type": "markdown",
   "metadata": {},
   "source": [
    "### Entropie"
   ]
  },
  {
   "cell_type": "markdown",
   "metadata": {},
   "source": [
    "De même, on considère une entropie moyenne sur plusieurs runs. On utilise ici l'entropie normalisée ($\\frac{entropie}{log_2(n_{classes}}$)"
   ]
  },
  {
   "cell_type": "code",
   "execution_count": 156,
   "metadata": {},
   "outputs": [],
   "source": [
    "def meanEntropy(ni,m,f,c):\n",
    "    \"\"\"Calcule l'entropie moyenne sur un nombre d'itérations défini par \n",
    "    l'utilisateur ni.\n",
    "    m est le modèle ('t' pour l'arbre de décision, 'k' pour les k plus proches voisins.)\n",
    "    f est le tableau de features, c est la liste des classes.'\"\"\"\n",
    "    n=ni\n",
    "    dffea=f\n",
    "    classes=c\n",
    "    fentropy=np.ndarray((n,len(set(classes))))\n",
    "    mean=np.ndarray(2)\n",
    "    entrop_max=math.log(len(set(classes)),2.)\n",
    "    print entrop_max\n",
    "    if m=='k':\n",
    "        model = neighbors.KNeighborsClassifier(n_neighbors=nneighbors, weights='uniform', p=2)\n",
    "    for i in range(0,n):\n",
    "        if m=='t':\n",
    "            X_train, X_test, y_train, y_test = train_test_split(dffea, classes, test_size=prop_tree, random_state=i)\n",
    "            model = DecisionTreeClassifier(criterion = 'entropy', random_state=i, min_samples_leaf=nleaf)\n",
    "            train=model.fit(X_train, y_train)\n",
    "            y_predict = model.predict(X_test)\n",
    "        elif m=='k':\n",
    "            X_train, X_test, y_train, y_test = train_test_split(dffea, classes, test_size=prop_k, random_state=i)\n",
    "            train=model.fit(X_train, y_train)\n",
    "            y_predict = model.predict(X_test)\n",
    "        M=metrics.confusion_matrix(y_true=y_test, y_pred=y_predict, labels=sortedLabelList)\n",
    "        mdf = pds.DataFrame(data=M, copy=True, index=trueLabels, columns=predictLabels)\n",
    "        mdf = mdf.transpose()\n",
    "        if mdf.values.sum(axis=1, keepdims=True)[0]==0 or mdf.values.sum(axis=1, keepdims=True)[1]==0:\n",
    "            # case divide by zero\n",
    "            i=i-1\n",
    "        else:\n",
    "            proba = mdf.values/mdf.values.sum(axis=1, keepdims=True)\n",
    "            entrop = np.array([stats.entropy(row, base=2) for row in proba])/entrop_max\n",
    "            fentropy[i,:]=entrop\n",
    "    mean=np.sum(fentropy,axis=0)/n \n",
    "    return mean"
   ]
  },
  {
   "cell_type": "code",
   "execution_count": 153,
   "metadata": {},
   "outputs": [
    {
     "name": "stdout",
     "output_type": "stream",
     "text": [
      "1.0\n",
      "1.0\n",
      "--- Entropie pour l'arbre de décision ( 100  runs) --- \n",
      "A :  0.7306871679167531  | B :  0.29930055395479577\n",
      "--- Entropie pour les k plus proches voisins ( 100  runs) ---\n",
      " : 0.6278111768110831  | B :  0.21740735685729537\n"
     ]
    }
   ],
   "source": [
    "n=100\n",
    "meanEntropyTree=meanEntropy(n,'t',dffea,classes)\n",
    "meanEntropyKnn=meanEntropy(n,'k',dffea,classes)\n",
    "print u\"--- Entropie pour l'arbre de décision (\",n,\" runs) --- \\n\", \"A : \", meanEntropyTree[0], \" | B : \", meanEntropyTree[1] \n",
    "print u\"--- Entropie pour les k plus proches voisins (\",n,\" runs) ---\\n :\",meanEntropyKnn[0], \" | B : \", meanEntropyKnn[1] "
   ]
  },
  {
   "cell_type": "markdown",
   "metadata": {},
   "source": [
    "L'entropie de la classe A est élevée pour les deux méthodes (autour de 0,7). C'est un mauvais score, puisque l'entropie maximale est 1. \n",
    "\n",
    "\n",
    "L'entropie est plus faible pour la classe B, autour de 0,2 pour les deux méthodes. En effet, la classe B étant plus grande, on peut supposer que le modèle apprend mieux : d'autre part, un objet mal classé est donc moins coûteur pour cette classe car elle est plus grande.\n",
    "\n",
    "L'entropie mesurée pour les deux classes est plus faible pour l'algorithme des k plus proches voisins.\n"
   ]
  },
  {
   "cell_type": "markdown",
   "metadata": {},
   "source": [
    "On voit ici l'intérêt de lancer plusieurs fois la simulation : pour les deux algorithmes lancés au début, on obtenait des modèles parfaits alors que c'est loin d'être le cas pour les simulations répétées."
   ]
  },
  {
   "cell_type": "markdown",
   "metadata": {},
   "source": [
    "**Conclusion :**\n",
    "\n",
    "**Accuracy : l'arbre de décision semble plus performant.**\n",
    "\n",
    "**Entropie : les k plus proches voisins semblent plus performants.**"
   ]
  }
 ],
 "metadata": {
  "kernelspec": {
   "display_name": "Python 2",
   "language": "python",
   "name": "python2"
  },
  "language_info": {
   "codemirror_mode": {
    "name": "ipython",
    "version": 2
   },
   "file_extension": ".py",
   "mimetype": "text/x-python",
   "name": "python",
   "nbconvert_exporter": "python",
   "pygments_lexer": "ipython2",
   "version": "2.7.15"
  }
 },
 "nbformat": 4,
 "nbformat_minor": 2
}
