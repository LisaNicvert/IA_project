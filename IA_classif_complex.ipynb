{
 "cells": [
  {
   "cell_type": "code",
   "execution_count": 5,
   "metadata": {},
   "outputs": [],
   "source": [
    "%matplotlib inline\n",
    "from __future__ import division\n",
    "import matplotlib.pyplot as plt\n",
    "import pandas as pds\n",
    "import scipy\n",
    "import seaborn as sns\n",
    "import numpy as np\n",
    "import random\n",
    "from sklearn.cluster import KMeans\n",
    "from sklearn.cluster import DBSCAN\n",
    "from sklearn import metrics\n",
    "from scipy import stats\n",
    "from sklearn.neighbors import NearestNeighbors\n",
    "from sklearn.tree import DecisionTreeClassifier\n",
    "from pandas.plotting import parallel_coordinates\n",
    "import graphviz \n",
    "from sklearn import tree\n",
    "from sklearn.metrics import silhouette_score\n",
    "from sklearn.model_selection import train_test_split\n",
    "from sklearn import neighbors\n",
    "from sklearn.metrics import balanced_accuracy_score\n",
    "\n",
    "#np.random.seed(10)\n",
    "#random.seed(10)"
   ]
  },
  {
   "cell_type": "code",
   "execution_count": 6,
   "metadata": {},
   "outputs": [],
   "source": [
    "df_global = pds.read_csv('./Data_Classif/Data.txt', sep=\"\\t\") # load a pandas dataframe from csv"
   ]
  },
  {
   "cell_type": "markdown",
   "metadata": {},
   "source": [
    "Les données comportent des champs inutiles à notre étude, et des valeurs manquantes qu'il faut trier."
   ]
  },
  {
   "cell_type": "markdown",
   "metadata": {},
   "source": [
    "## Nettoyage des lignes"
   ]
  },
  {
   "cell_type": "markdown",
   "metadata": {},
   "source": [
    "Suppression des time codes."
   ]
  },
  {
   "cell_type": "code",
   "execution_count": 7,
   "metadata": {},
   "outputs": [],
   "source": [
    "df_global=df_global.drop([\"Time\",\"Time Code\",\"Country Code\"],axis=1)"
   ]
  },
  {
   "cell_type": "markdown",
   "metadata": {},
   "source": [
    "Supression des lignes contenant des valeurs manquantes"
   ]
  },
  {
   "cell_type": "code",
   "execution_count": 8,
   "metadata": {},
   "outputs": [
    {
     "data": {
      "text/html": [
       "<div>\n",
       "<style scoped>\n",
       "    .dataframe tbody tr th:only-of-type {\n",
       "        vertical-align: middle;\n",
       "    }\n",
       "\n",
       "    .dataframe tbody tr th {\n",
       "        vertical-align: top;\n",
       "    }\n",
       "\n",
       "    .dataframe thead th {\n",
       "        text-align: right;\n",
       "    }\n",
       "</style>\n",
       "<table border=\"1\" class=\"dataframe\">\n",
       "  <thead>\n",
       "    <tr style=\"text-align: right;\">\n",
       "      <th></th>\n",
       "      <th>Country Name</th>\n",
       "      <th>Children out of school</th>\n",
       "      <th>CO2</th>\n",
       "      <th>NR electricity</th>\n",
       "      <th>Life expectancy</th>\n",
       "      <th>Population</th>\n",
       "      <th>Urban population</th>\n",
       "      <th>Area</th>\n",
       "      <th>GDP</th>\n",
       "      <th>Compulsory education</th>\n",
       "      <th>Labor force</th>\n",
       "      <th>Agricultural land</th>\n",
       "    </tr>\n",
       "  </thead>\n",
       "  <tbody>\n",
       "    <tr>\n",
       "      <th>1</th>\n",
       "      <td>Albania</td>\n",
       "      <td>5.63382</td>\n",
       "      <td>1.749211</td>\n",
       "      <td>0.000000</td>\n",
       "      <td>77.70200</td>\n",
       "      <td>2895092.0</td>\n",
       "      <td>55.387</td>\n",
       "      <td>27400.0</td>\n",
       "      <td>4413.081697</td>\n",
       "      <td>9.0</td>\n",
       "      <td>53.652000</td>\n",
       "      <td>43.332117</td>\n",
       "    </tr>\n",
       "    <tr>\n",
       "      <th>7</th>\n",
       "      <td>Argentina</td>\n",
       "      <td>0.64461</td>\n",
       "      <td>4.462904</td>\n",
       "      <td>64.000402</td>\n",
       "      <td>76.08900</td>\n",
       "      <td>42539925.0</td>\n",
       "      <td>91.249</td>\n",
       "      <td>2736690.0</td>\n",
       "      <td>12976.636425</td>\n",
       "      <td>13.0</td>\n",
       "      <td>60.403000</td>\n",
       "      <td>54.518049</td>\n",
       "    </tr>\n",
       "    <tr>\n",
       "      <th>10</th>\n",
       "      <td>Australia</td>\n",
       "      <td>2.50737</td>\n",
       "      <td>16.083474</td>\n",
       "      <td>86.735892</td>\n",
       "      <td>82.14878</td>\n",
       "      <td>23145901.0</td>\n",
       "      <td>85.502</td>\n",
       "      <td>7682300.0</td>\n",
       "      <td>67990.290030</td>\n",
       "      <td>10.0</td>\n",
       "      <td>65.008003</td>\n",
       "      <td>51.627156</td>\n",
       "    </tr>\n",
       "    <tr>\n",
       "      <th>12</th>\n",
       "      <td>Azerbaijan</td>\n",
       "      <td>6.32932</td>\n",
       "      <td>3.785069</td>\n",
       "      <td>93.041877</td>\n",
       "      <td>71.65600</td>\n",
       "      <td>9416801.0</td>\n",
       "      <td>54.145</td>\n",
       "      <td>82659.0</td>\n",
       "      <td>7875.756953</td>\n",
       "      <td>10.0</td>\n",
       "      <td>64.546997</td>\n",
       "      <td>57.704545</td>\n",
       "    </tr>\n",
       "    <tr>\n",
       "      <th>14</th>\n",
       "      <td>Bahrain</td>\n",
       "      <td>6.26169</td>\n",
       "      <td>23.804357</td>\n",
       "      <td>100.000000</td>\n",
       "      <td>76.48200</td>\n",
       "      <td>1315411.0</td>\n",
       "      <td>88.835</td>\n",
       "      <td>770.0</td>\n",
       "      <td>24737.171783</td>\n",
       "      <td>9.0</td>\n",
       "      <td>71.518997</td>\n",
       "      <td>11.168831</td>\n",
       "    </tr>\n",
       "  </tbody>\n",
       "</table>\n",
       "</div>"
      ],
      "text/plain": [
       "   Country Name  Children out of school        CO2  NR electricity  \\\n",
       "1       Albania                 5.63382   1.749211        0.000000   \n",
       "7     Argentina                 0.64461   4.462904       64.000402   \n",
       "10    Australia                 2.50737  16.083474       86.735892   \n",
       "12   Azerbaijan                 6.32932   3.785069       93.041877   \n",
       "14      Bahrain                 6.26169  23.804357      100.000000   \n",
       "\n",
       "    Life expectancy  Population  Urban population       Area           GDP  \\\n",
       "1          77.70200   2895092.0            55.387    27400.0   4413.081697   \n",
       "7          76.08900  42539925.0            91.249  2736690.0  12976.636425   \n",
       "10         82.14878  23145901.0            85.502  7682300.0  67990.290030   \n",
       "12         71.65600   9416801.0            54.145    82659.0   7875.756953   \n",
       "14         76.48200   1315411.0            88.835      770.0  24737.171783   \n",
       "\n",
       "    Compulsory education  Labor force  Agricultural land  \n",
       "1                    9.0    53.652000          43.332117  \n",
       "7                   13.0    60.403000          54.518049  \n",
       "10                  10.0    65.008003          51.627156  \n",
       "12                  10.0    64.546997          57.704545  \n",
       "14                   9.0    71.518997          11.168831  "
      ]
     },
     "execution_count": 8,
     "metadata": {},
     "output_type": "execute_result"
    }
   ],
   "source": [
    "filtered_df = df_global.dropna()\n",
    "filtered_df.head()"
   ]
  },
  {
   "cell_type": "markdown",
   "metadata": {},
   "source": [
    "Les données retenues pour l'étude sont :\n",
    "* Country name : nom du pays.\n",
    "* Children out of school : proportion des enfants non scolarisés parmi ceux d'âge inférieur à l'âge de scolarisaton de premier et second degré (%).\n",
    "* CO2 : émissions de CO2 (tonnes/habitant).\n",
    "* NR electricity : proportion d'électricité issue de sources non renouvelables et émettrices de CO2 (essence, gaz et charbon) parmi la production totale (%).\n",
    "* Life expectancy : espérance de vie moyenne à la naissance (années).\n",
    "* Population : population totale.\n",
    "* Urban population : proportion d'urbains dans la population totale (%).\n",
    "* Area : aire terrsetre du pays (km^2).\n",
    "* GDP : PIB par habitant d'âge moyen (en Dollars US actuels).\n",
    "* Compulsory education : durée légale minimale d'enseignement obligatoire (années).\n",
    "* Labor force : proportion de personnes âgées de 15 ans et plus économiquement actives dans la population (%).\n",
    "* Agricultural land : proportion du territoire utilisé pour l'agrigulture (%).\n",
    "\n"
   ]
  },
  {
   "cell_type": "markdown",
   "metadata": {},
   "source": [
    "## Normalisation des données"
   ]
  },
  {
   "cell_type": "markdown",
   "metadata": {},
   "source": [
    "### Centrage"
   ]
  },
  {
   "cell_type": "markdown",
   "metadata": {},
   "source": [
    "On centre les données car elles sont exprimées dans des variables différentes et ont des ordres de grandeur complètement différents."
   ]
  },
  {
   "cell_type": "code",
   "execution_count": 9,
   "metadata": {},
   "outputs": [
    {
     "data": {
      "image/png": "[encoded data removed]",
      "text/plain": [
       "<Figure size 432x288 with 1 Axes>"
      ]
     },
     "metadata": {
      "needs_background": "light"
     },
     "output_type": "display_data"
    }
   ],
   "source": [
    "ax=sns.boxplot(data=(filtered_df.drop(\"Country Name\",axis=1) - filtered_df.drop(\"Country Name\",axis=1).mean()),\n",
    "               orient=\"h\", palette=\"Set2\")\n",
    "_=ax.set_title(u\"Données centrées\")"
   ]
  },
  {
   "cell_type": "markdown",
   "metadata": {},
   "source": [
    "Nous devons également réduire en raison de la variance élevée de la population."
   ]
  },
  {
   "cell_type": "markdown",
   "metadata": {},
   "source": [
    "### Réduction "
   ]
  },
  {
   "cell_type": "code",
   "execution_count": 10,
   "metadata": {},
   "outputs": [
    {
     "data": {
      "image/png": "[encoded data removed]",
      "text/plain": [
       "<Figure size 432x288 with 1 Axes>"
      ]
     },
     "metadata": {
      "needs_background": "light"
     },
     "output_type": "display_data"
    }
   ],
   "source": [
    "ax=sns.boxplot(data=((filtered_df.drop(\"Country Name\",axis=1) - filtered_df.drop(\"Country Name\",axis=1).mean())\n",
    "                     /filtered_df.drop(\"Country Name\",axis=1).std()), orient=\"h\", palette=\"Set2\")\n",
    "_=ax.set_title(u\"Données centrées\")"
   ]
  },
  {
   "cell_type": "code",
   "execution_count": 11,
   "metadata": {},
   "outputs": [],
   "source": [
    "dfo=(filtered_df.drop(\"Country Name\",axis=1) - filtered_df.drop(\"Country Name\",axis=1).mean())/filtered_df.drop(\"Country Name\",axis=1).std()\n",
    "dfoc=dfo.copy()\n",
    "dfoc[\"Country\"]=filtered_df[\"Country Name\"]"
   ]
  },
  {
   "cell_type": "markdown",
   "metadata": {},
   "source": [
    "# Recherche des outliers"
   ]
  },
  {
   "cell_type": "markdown",
   "metadata": {},
   "source": [
    "Comme précédemment nous allons chercher les outliers grâce à DBSCAN. La première étape sera donc de paramétriser ce modèle en traçant la distance pour chaque point à son 4$^{ème}$  plus proche voisin grâce à l'algorithme des KNN."
   ]
  },
  {
   "cell_type": "markdown",
   "metadata": {},
   "source": [
    "### Définition des paramètres de DBSCAN grâce à KNN"
   ]
  },
  {
   "cell_type": "code",
   "execution_count": 12,
   "metadata": {},
   "outputs": [],
   "source": [
    "nbrs = NearestNeighbors(n_neighbors=4, algorithm='ball_tree').fit(dfo)\n",
    "distances, indices = nbrs.kneighbors(dfo)\n",
    "distances_to_4 = distances[:,3]\n",
    "distances_to_4 = sorted(distances_to_4 , reverse = False)"
   ]
  },
  {
   "cell_type": "code",
   "execution_count": 13,
   "metadata": {},
   "outputs": [
    {
     "data": {
      "image/png": "[encoded data removed]",
      "text/plain": [
       "<Figure size 432x288 with 1 Axes>"
      ]
     },
     "metadata": {
      "needs_background": "light"
     },
     "output_type": "display_data"
    }
   ],
   "source": [
    "Index = range(0,len(distances_to_4))\n",
    "plt.plot(Index , distances_to_4)\n",
    "plt.xlabel('Points sorted according to their distance to the 4th neighbor')\n",
    "t=plt.ylabel('Distance to the 4th neighbor')\n",
    "_=plt.xticks(np.arange(0, 100, step=5))"
   ]
  },
  {
   "cell_type": "markdown",
   "metadata": {},
   "source": [
    "D'après le graphique ci-dessus on observe un coude pour les pays d'indices entre 80 et 90."
   ]
  },
  {
   "cell_type": "code",
   "execution_count": 14,
   "metadata": {},
   "outputs": [
    {
     "data": {
      "text/plain": [
       "3.576514777149344"
      ]
     },
     "execution_count": 14,
     "metadata": {},
     "output_type": "execute_result"
    }
   ],
   "source": [
    "mean_dist_knee = sum(distances_to_4[80:90])/10\n",
    "mean_dist_knee"
   ]
  },
  {
   "cell_type": "markdown",
   "metadata": {},
   "source": [
    "On considérera donc un rayon de recherche d'environs 3.576, et un nombre minimum de point égal à 10, pour construire un cluster."
   ]
  },
  {
   "cell_type": "markdown",
   "metadata": {},
   "source": [
    "### Analyse des résultats de DBSCAN"
   ]
  },
  {
   "cell_type": "code",
   "execution_count": 15,
   "metadata": {},
   "outputs": [
    {
     "name": "stdout",
     "output_type": "stream",
     "text": [
      "Nombre d'outliers : 6\n"
     ]
    }
   ],
   "source": [
    "outliers_det = DBSCAN(min_samples=10,eps=mean_dist_knee).fit(dfo)\n",
    "print \"Nombre d'outliers :\",sum(outliers_det.labels_ == -1)"
   ]
  },
  {
   "cell_type": "code",
   "execution_count": 16,
   "metadata": {},
   "outputs": [],
   "source": [
    "dfol= dfo.copy(deep=True) # Copy of DF_kmeans1\n",
    "dfol['Labels'] = outliers_det.labels_"
   ]
  },
  {
   "cell_type": "code",
   "execution_count": 17,
   "metadata": {},
   "outputs": [
    {
     "data": {
      "image/png": "[encoded data removed]",
      "text/plain": [
       "<Figure size 432x288 with 1 Axes>"
      ]
     },
     "metadata": {
      "needs_background": "light"
     },
     "output_type": "display_data"
    }
   ],
   "source": [
    "parallel_coordinates(dfol,'Labels', alpha=0.8)\n",
    "plt.show()"
   ]
  },
  {
   "cell_type": "code",
   "execution_count": 18,
   "metadata": {},
   "outputs": [
    {
     "name": "stdout",
     "output_type": "stream",
     "text": [
      "10              Australia\n",
      "35                 Canada\n",
      "47          Cote d'Ivoire\n",
      "89                  India\n",
      "159                 Qatar\n",
      "161    Russian Federation\n",
      "Name: Country, dtype: object\n"
     ]
    }
   ],
   "source": [
    "print(dfoc[\"Country\"][dfol['Labels'] == -1])"
   ]
  },
  {
   "cell_type": "markdown",
   "metadata": {},
   "source": [
    "Les pays ci-dessus sont les outliers."
   ]
  },
  {
   "cell_type": "code",
   "execution_count": 19,
   "metadata": {},
   "outputs": [
    {
     "data": {
      "text/html": [
       "<div>\n",
       "<style scoped>\n",
       "    .dataframe tbody tr th:only-of-type {\n",
       "        vertical-align: middle;\n",
       "    }\n",
       "\n",
       "    .dataframe tbody tr th {\n",
       "        vertical-align: top;\n",
       "    }\n",
       "\n",
       "    .dataframe thead th {\n",
       "        text-align: right;\n",
       "    }\n",
       "</style>\n",
       "<table border=\"1\" class=\"dataframe\">\n",
       "  <thead>\n",
       "    <tr style=\"text-align: right;\">\n",
       "      <th></th>\n",
       "      <th>Children out of school</th>\n",
       "      <th>CO2</th>\n",
       "      <th>NR electricity</th>\n",
       "      <th>Life expectancy</th>\n",
       "      <th>Population</th>\n",
       "      <th>Urban population</th>\n",
       "      <th>Area</th>\n",
       "      <th>GDP</th>\n",
       "      <th>Compulsory education</th>\n",
       "      <th>Labor force</th>\n",
       "      <th>Agricultural land</th>\n",
       "      <th>Country</th>\n",
       "    </tr>\n",
       "  </thead>\n",
       "  <tbody>\n",
       "    <tr>\n",
       "      <th>1</th>\n",
       "      <td>0.055405</td>\n",
       "      <td>-0.696201</td>\n",
       "      <td>-1.876930</td>\n",
       "      <td>0.432529</td>\n",
       "      <td>-0.291573</td>\n",
       "      <td>-0.652658</td>\n",
       "      <td>-0.370542</td>\n",
       "      <td>-0.696435</td>\n",
       "      <td>-0.612305</td>\n",
       "      <td>-0.862056</td>\n",
       "      <td>0.131700</td>\n",
       "      <td>Albania</td>\n",
       "    </tr>\n",
       "    <tr>\n",
       "      <th>7</th>\n",
       "      <td>-0.764361</td>\n",
       "      <td>-0.275301</td>\n",
       "      <td>0.134525</td>\n",
       "      <td>0.172820</td>\n",
       "      <td>-0.004043</td>\n",
       "      <td>1.213444</td>\n",
       "      <td>0.829788</td>\n",
       "      <td>-0.337704</td>\n",
       "      <td>1.347071</td>\n",
       "      <td>-0.108451</td>\n",
       "      <td>0.671874</td>\n",
       "      <td>Argentina</td>\n",
       "    </tr>\n",
       "    <tr>\n",
       "      <th>12</th>\n",
       "      <td>0.169681</td>\n",
       "      <td>-0.380435</td>\n",
       "      <td>1.047264</td>\n",
       "      <td>-0.540938</td>\n",
       "      <td>-0.244274</td>\n",
       "      <td>-0.717287</td>\n",
       "      <td>-0.346060</td>\n",
       "      <td>-0.551382</td>\n",
       "      <td>-0.122461</td>\n",
       "      <td>0.354138</td>\n",
       "      <td>0.825752</td>\n",
       "      <td>Azerbaijan</td>\n",
       "    </tr>\n",
       "    <tr>\n",
       "      <th>14</th>\n",
       "      <td>0.158569</td>\n",
       "      <td>2.724599</td>\n",
       "      <td>1.265949</td>\n",
       "      <td>0.236097</td>\n",
       "      <td>-0.303030</td>\n",
       "      <td>1.087830</td>\n",
       "      <td>-0.382340</td>\n",
       "      <td>0.154949</td>\n",
       "      <td>-0.612305</td>\n",
       "      <td>1.132413</td>\n",
       "      <td>-1.421480</td>\n",
       "      <td>Bahrain</td>\n",
       "    </tr>\n",
       "    <tr>\n",
       "      <th>17</th>\n",
       "      <td>0.246590</td>\n",
       "      <td>0.077362</td>\n",
       "      <td>1.236223</td>\n",
       "      <td>-0.409758</td>\n",
       "      <td>-0.243917</td>\n",
       "      <td>0.430308</td>\n",
       "      <td>-0.292783</td>\n",
       "      <td>-0.547063</td>\n",
       "      <td>-0.612305</td>\n",
       "      <td>0.282584</td>\n",
       "      <td>0.115869</td>\n",
       "      <td>Belarus</td>\n",
       "    </tr>\n",
       "  </tbody>\n",
       "</table>\n",
       "</div>"
      ],
      "text/plain": [
       "    Children out of school       CO2  NR electricity  Life expectancy  \\\n",
       "1                 0.055405 -0.696201       -1.876930         0.432529   \n",
       "7                -0.764361 -0.275301        0.134525         0.172820   \n",
       "12                0.169681 -0.380435        1.047264        -0.540938   \n",
       "14                0.158569  2.724599        1.265949         0.236097   \n",
       "17                0.246590  0.077362        1.236223        -0.409758   \n",
       "\n",
       "    Population  Urban population      Area       GDP  Compulsory education  \\\n",
       "1    -0.291573         -0.652658 -0.370542 -0.696435             -0.612305   \n",
       "7    -0.004043          1.213444  0.829788 -0.337704              1.347071   \n",
       "12   -0.244274         -0.717287 -0.346060 -0.551382             -0.122461   \n",
       "14   -0.303030          1.087830 -0.382340  0.154949             -0.612305   \n",
       "17   -0.243917          0.430308 -0.292783 -0.547063             -0.612305   \n",
       "\n",
       "    Labor force  Agricultural land     Country  \n",
       "1     -0.862056           0.131700     Albania  \n",
       "7     -0.108451           0.671874   Argentina  \n",
       "12     0.354138           0.825752  Azerbaijan  \n",
       "14     1.132413          -1.421480     Bahrain  \n",
       "17     0.282584           0.115869     Belarus  "
      ]
     },
     "execution_count": 19,
     "metadata": {},
     "output_type": "execute_result"
    }
   ],
   "source": [
    "dff=dfol[dfol.Labels != -1]\n",
    "dff=dff.drop('Labels',axis=1)\n",
    "dff[\"Country\"]=dfoc[\"Country\"][dfol['Labels'] != -1]\n",
    "dff.head()"
   ]
  },
  {
   "cell_type": "markdown",
   "metadata": {},
   "source": [
    "Ce sont les données finales sur lesquelles on va travailler."
   ]
  },
  {
   "cell_type": "markdown",
   "metadata": {},
   "source": [
    "# Labels de classe par discrétisation"
   ]
  },
  {
   "cell_type": "markdown",
   "metadata": {},
   "source": [
    "Dans la suite de notre étude nous allons étudier nos données à l'aide d'une étiquette de classe, en triant les pays en fonction de leur PIB par habitant."
   ]
  },
  {
   "cell_type": "markdown",
   "metadata": {},
   "source": [
    "On discrétise le PIB par habitant à l'aide d'un Kmeans en 1D. Pour avoir une idée du nombre de classes, on trace l'histogramme sur les données réduites."
   ]
  },
  {
   "cell_type": "code",
   "execution_count": 20,
   "metadata": {},
   "outputs": [
    {
     "data": {
      "image/png": "[encoded data removed]",
      "text/plain": [
       "<Figure size 432x288 with 1 Axes>"
      ]
     },
     "metadata": {
      "needs_background": "light"
     },
     "output_type": "display_data"
    }
   ],
   "source": [
    "h=plt.hist(dff[\"GDP\"])\n",
    "plt.xlabel(u\"PIB/habitant centré réduit\")\n",
    "plt.ylabel(\"Effectif (pays)\")\n",
    "_=plt.xticks(np.arange(-1,4,.5))"
   ]
  },
  {
   "cell_type": "markdown",
   "metadata": {},
   "source": [
    "On distingue 3 classes (<0.25 / 0.25-2.2 / >2.0)."
   ]
  },
  {
   "cell_type": "code",
   "execution_count": 21,
   "metadata": {},
   "outputs": [],
   "source": [
    "def kmeans_1D(attribute,n):\n",
    "    \"\"\"Prend en entrée un nparray et n clusters\"\"\"\n",
    "    km1 = KMeans(n_clusters=n) # create a KMeans object\n",
    "    km1.fit(attribute.reshape(-1,1))\n",
    "    return km1"
   ]
  },
  {
   "cell_type": "code",
   "execution_count": 22,
   "metadata": {},
   "outputs": [
    {
     "data": {
      "image/png": "[encoded data removed]",
      "text/plain": [
       "<Figure size 432x288 with 1 Axes>"
      ]
     },
     "metadata": {
      "needs_background": "light"
     },
     "output_type": "display_data"
    }
   ],
   "source": [
    "V_GDP  = np.array(sorted(dff['GDP']))\n",
    "km_gdp = kmeans_1D(V_GDP,3)\n",
    "plt.scatter(dff.index,sorted(dff['GDP']),c=km_gdp.labels_.astype(np.float))\n",
    "plt.ylabel(u\"PIB/habitant centré réduit\")\n",
    "_=plt.xlabel(\"Rang du PIB (croissant)\")"
   ]
  },
  {
   "cell_type": "code",
   "execution_count": 23,
   "metadata": {},
   "outputs": [
    {
     "data": {
      "text/plain": [
       "116     Luxembourg\n",
       "147         Norway\n",
       "188    Switzerland\n",
       "Name: Country, dtype: object"
      ]
     },
     "execution_count": 23,
     "metadata": {},
     "output_type": "execute_result"
    }
   ],
   "source": [
    "dff.sort_values(by =['GDP'] , ascending = False).iloc[:3,-1]"
   ]
  },
  {
   "cell_type": "markdown",
   "metadata": {},
   "source": [
    "On observe 3 pays très riches par rapport aux autres groupes (le Danemark, la Norvèg et la Suisse). Les limites de classes de kmeans sont proches de celles trouvées graphiquement par l'histogramme."
   ]
  },
  {
   "cell_type": "markdown",
   "metadata": {},
   "source": [
    "On compte le nombre de labels de chaque classe."
   ]
  },
  {
   "cell_type": "code",
   "execution_count": 24,
   "metadata": {},
   "outputs": [
    {
     "name": "stdout",
     "output_type": "stream",
     "text": [
      "[64 19  3]\n",
      "(1.6820208216541859, -0.7301121309860221)\n"
     ]
    }
   ],
   "source": [
    "unique, counts = np.unique(km_gdp.labels_, return_counts=True)\n",
    "print counts\n",
    "c=counts[1]-1\n",
    "b=counts[1]+counts[0]-1\n",
    "print(V_GDP[b],V_GDP[c])"
   ]
  },
  {
   "cell_type": "markdown",
   "metadata": {},
   "source": [
    "On associe un label à chaque PIB.\n",
    "On considèrera 3 groupes :\n",
    "* Les pays pauvres (C)\n",
    "* Les pays riches (B)\n",
    "* Les pays très riches (A)"
   ]
  },
  {
   "cell_type": "markdown",
   "metadata": {},
   "source": [
    "On transforme la colonne correspondante."
   ]
  },
  {
   "cell_type": "code",
   "execution_count": 25,
   "metadata": {},
   "outputs": [],
   "source": [
    "def discretize_GDP(counts,df,vect,c,b):\n",
    "    \"\"\"Fonction pour discrétiser le PIB dans un dataframe à partir des effectifs de classe de K-means counts.\n",
    "        Attention, le PIB doit être en colonne 7.\n",
    "        Attention, il faut vérifier dans quel ordre sont les clusters.\n",
    "        Retourne un dataframe discrétisé dfd.\"\"\"\n",
    "    # Bornes des classes\n",
    "    dfd=df.copy()\n",
    "    i=0\n",
    "    for i in range(len(df)):\n",
    "        # column 7 = GDP\n",
    "        if df.iloc[i,7]<=vect[c]:\n",
    "            dfd.iloc[i,7]=\"C\"\n",
    "        elif df.iloc[i,7]<=vect[b] and dff.iloc[i,7]>vect[c]:\n",
    "            dfd.iloc[i,7]=\"B\"\n",
    "        elif dff.iloc[i,7]>vect[b]:\n",
    "            dfd.iloc[i,7]=\"A\"\n",
    "    return dfd"
   ]
  },
  {
   "cell_type": "code",
   "execution_count": 26,
   "metadata": {
    "scrolled": false
   },
   "outputs": [
    {
     "data": {
      "text/html": [
       "<div>\n",
       "<style scoped>\n",
       "    .dataframe tbody tr th:only-of-type {\n",
       "        vertical-align: middle;\n",
       "    }\n",
       "\n",
       "    .dataframe tbody tr th {\n",
       "        vertical-align: top;\n",
       "    }\n",
       "\n",
       "    .dataframe thead th {\n",
       "        text-align: right;\n",
       "    }\n",
       "</style>\n",
       "<table border=\"1\" class=\"dataframe\">\n",
       "  <thead>\n",
       "    <tr style=\"text-align: right;\">\n",
       "      <th></th>\n",
       "      <th>Children out of school</th>\n",
       "      <th>CO2</th>\n",
       "      <th>NR electricity</th>\n",
       "      <th>Life expectancy</th>\n",
       "      <th>Population</th>\n",
       "      <th>Urban population</th>\n",
       "      <th>Area</th>\n",
       "      <th>GDP</th>\n",
       "      <th>Compulsory education</th>\n",
       "      <th>Labor force</th>\n",
       "      <th>Agricultural land</th>\n",
       "      <th>Country</th>\n",
       "    </tr>\n",
       "  </thead>\n",
       "  <tbody>\n",
       "    <tr>\n",
       "      <th>1</th>\n",
       "      <td>0.055405</td>\n",
       "      <td>-0.696201</td>\n",
       "      <td>-1.876930</td>\n",
       "      <td>0.432529</td>\n",
       "      <td>-0.291573</td>\n",
       "      <td>-0.652658</td>\n",
       "      <td>-0.370542</td>\n",
       "      <td>B</td>\n",
       "      <td>-0.612305</td>\n",
       "      <td>-0.862056</td>\n",
       "      <td>0.131700</td>\n",
       "      <td>Albania</td>\n",
       "    </tr>\n",
       "    <tr>\n",
       "      <th>7</th>\n",
       "      <td>-0.764361</td>\n",
       "      <td>-0.275301</td>\n",
       "      <td>0.134525</td>\n",
       "      <td>0.172820</td>\n",
       "      <td>-0.004043</td>\n",
       "      <td>1.213444</td>\n",
       "      <td>0.829788</td>\n",
       "      <td>B</td>\n",
       "      <td>1.347071</td>\n",
       "      <td>-0.108451</td>\n",
       "      <td>0.671874</td>\n",
       "      <td>Argentina</td>\n",
       "    </tr>\n",
       "    <tr>\n",
       "      <th>12</th>\n",
       "      <td>0.169681</td>\n",
       "      <td>-0.380435</td>\n",
       "      <td>1.047264</td>\n",
       "      <td>-0.540938</td>\n",
       "      <td>-0.244274</td>\n",
       "      <td>-0.717287</td>\n",
       "      <td>-0.346060</td>\n",
       "      <td>B</td>\n",
       "      <td>-0.122461</td>\n",
       "      <td>0.354138</td>\n",
       "      <td>0.825752</td>\n",
       "      <td>Azerbaijan</td>\n",
       "    </tr>\n",
       "    <tr>\n",
       "      <th>14</th>\n",
       "      <td>0.158569</td>\n",
       "      <td>2.724599</td>\n",
       "      <td>1.265949</td>\n",
       "      <td>0.236097</td>\n",
       "      <td>-0.303030</td>\n",
       "      <td>1.087830</td>\n",
       "      <td>-0.382340</td>\n",
       "      <td>B</td>\n",
       "      <td>-0.612305</td>\n",
       "      <td>1.132413</td>\n",
       "      <td>-1.421480</td>\n",
       "      <td>Bahrain</td>\n",
       "    </tr>\n",
       "    <tr>\n",
       "      <th>17</th>\n",
       "      <td>0.246590</td>\n",
       "      <td>0.077362</td>\n",
       "      <td>1.236223</td>\n",
       "      <td>-0.409758</td>\n",
       "      <td>-0.243917</td>\n",
       "      <td>0.430308</td>\n",
       "      <td>-0.292783</td>\n",
       "      <td>B</td>\n",
       "      <td>-0.612305</td>\n",
       "      <td>0.282584</td>\n",
       "      <td>0.115869</td>\n",
       "      <td>Belarus</td>\n",
       "    </tr>\n",
       "  </tbody>\n",
       "</table>\n",
       "</div>"
      ],
      "text/plain": [
       "    Children out of school       CO2  NR electricity  Life expectancy  \\\n",
       "1                 0.055405 -0.696201       -1.876930         0.432529   \n",
       "7                -0.764361 -0.275301        0.134525         0.172820   \n",
       "12                0.169681 -0.380435        1.047264        -0.540938   \n",
       "14                0.158569  2.724599        1.265949         0.236097   \n",
       "17                0.246590  0.077362        1.236223        -0.409758   \n",
       "\n",
       "    Population  Urban population      Area GDP  Compulsory education  \\\n",
       "1    -0.291573         -0.652658 -0.370542   B             -0.612305   \n",
       "7    -0.004043          1.213444  0.829788   B              1.347071   \n",
       "12   -0.244274         -0.717287 -0.346060   B             -0.122461   \n",
       "14   -0.303030          1.087830 -0.382340   B             -0.612305   \n",
       "17   -0.243917          0.430308 -0.292783   B             -0.612305   \n",
       "\n",
       "    Labor force  Agricultural land     Country  \n",
       "1     -0.862056           0.131700     Albania  \n",
       "7     -0.108451           0.671874   Argentina  \n",
       "12     0.354138           0.825752  Azerbaijan  \n",
       "14     1.132413          -1.421480     Bahrain  \n",
       "17     0.282584           0.115869     Belarus  "
      ]
     },
     "execution_count": 26,
     "metadata": {},
     "output_type": "execute_result"
    }
   ],
   "source": [
    "dfd=discretize_GDP(counts,dff,V_GDP,c,b)\n",
    "dfd.head()"
   ]
  },
  {
   "cell_type": "markdown",
   "metadata": {},
   "source": [
    "On a un dafaframe avec les PIB discrétisés."
   ]
  },
  {
   "cell_type": "markdown",
   "metadata": {},
   "source": [
    "## Préparation des données pour la classification"
   ]
  },
  {
   "cell_type": "code",
   "execution_count": 27,
   "metadata": {},
   "outputs": [],
   "source": [
    "dffea = dfd.drop(['GDP','Country'],axis=1)\n",
    "classes = dfd[\"GDP\"]\n",
    "sortedLabelList = sorted(list(set(classes)))"
   ]
  },
  {
   "cell_type": "markdown",
   "metadata": {},
   "source": [
    "## Arbre de décision"
   ]
  },
  {
   "cell_type": "markdown",
   "metadata": {},
   "source": [
    "### Jeu d'entraiement"
   ]
  },
  {
   "cell_type": "code",
   "execution_count": 28,
   "metadata": {},
   "outputs": [],
   "source": [
    "tX_train, tX_test, ty_train, ty_test = train_test_split(dffea, classes, test_size=0.2, random_state=5)"
   ]
  },
  {
   "cell_type": "code",
   "execution_count": 67,
   "metadata": {},
   "outputs": [],
   "source": [
    "treeModel = DecisionTreeClassifier(criterion = 'entropy', random_state=10, min_samples_leaf=1)\n",
    "t=treeModel.fit(tX_train, ty_train)"
   ]
  },
  {
   "cell_type": "code",
   "execution_count": 68,
   "metadata": {},
   "outputs": [
    {
     "name": "stdout",
     "output_type": "stream",
     "text": [
      "[[ 2  0  0]\n",
      " [ 0 49  0]\n",
      " [ 0  0 17]]\n"
     ]
    }
   ],
   "source": [
    "tM=metrics.confusion_matrix(y_true=ty_train, y_pred=ty_train, labels=sortedLabelList)\n",
    "print(tM)"
   ]
  },
  {
   "cell_type": "code",
   "execution_count": 69,
   "metadata": {},
   "outputs": [],
   "source": [
    "trueLabels=['A','B','C']\n",
    "predictLabels=['a','b','c']\n",
    "allLabels=trueLabels+predictLabels"
   ]
  },
  {
   "cell_type": "code",
   "execution_count": 70,
   "metadata": {},
   "outputs": [
    {
     "data": {
      "image/svg+xml": [
       "<?xml version=\"1.0\" encoding=\"UTF-8\" standalone=\"no\"?>\n",
       "<!DOCTYPE svg PUBLIC \"-//W3C//DTD SVG 1.1//EN\"\n",
       " \"http://www.w3.org/Graphics/SVG/1.1/DTD/svg11.dtd\">\n",
       "<!-- Generated by graphviz version 2.40.1 (20161225.0304)\n",
       " -->\n",
       "<!-- Title: Tree Pages: 1 -->\n",
       "<svg width=\"598pt\" height=\"552pt\"\n",
       " viewBox=\"0.00 0.00 598.00 552.00\" xmlns=\"http://www.w3.org/2000/svg\" xmlns:xlink=\"http://www.w3.org/1999/xlink\">\n",
       "<g id=\"graph0\" class=\"graph\" transform=\"scale(1 1) rotate(0) translate(4 548)\">\n",
       "<title>Tree</title>\n",
       "<polygon fill=\"#ffffff\" stroke=\"transparent\" points=\"-4,4 -4,-548 594,-548 594,4 -4,4\"/>\n",
       "<!-- 0 -->\n",
       "<g id=\"node1\" class=\"node\">\n",
       "<title>0</title>\n",
       "<path fill=\"#39e581\" fill-opacity=\"0.627451\" stroke=\"#000000\" d=\"M230.5,-544C230.5,-544 126.5,-544 126.5,-544 120.5,-544 114.5,-538 114.5,-532 114.5,-532 114.5,-473 114.5,-473 114.5,-467 120.5,-461 126.5,-461 126.5,-461 230.5,-461 230.5,-461 236.5,-461 242.5,-467 242.5,-473 242.5,-473 242.5,-532 242.5,-532 242.5,-538 236.5,-544 230.5,-544\"/>\n",
       "<text text-anchor=\"start\" x=\"136.5\" y=\"-528.8\" font-family=\"Helvetica,sans-Serif\" font-size=\"14.00\" fill=\"#000000\">CO2 ≤ &#45;0.696</text>\n",
       "<text text-anchor=\"start\" x=\"133.5\" y=\"-513.8\" font-family=\"Helvetica,sans-Serif\" font-size=\"14.00\" fill=\"#000000\">entropy = 0.99</text>\n",
       "<text text-anchor=\"start\" x=\"136.5\" y=\"-498.8\" font-family=\"Helvetica,sans-Serif\" font-size=\"14.00\" fill=\"#000000\">samples = 68</text>\n",
       "<text text-anchor=\"start\" x=\"122.5\" y=\"-483.8\" font-family=\"Helvetica,sans-Serif\" font-size=\"14.00\" fill=\"#000000\">value = [2, 49, 17]</text>\n",
       "<text text-anchor=\"start\" x=\"149.5\" y=\"-468.8\" font-family=\"Helvetica,sans-Serif\" font-size=\"14.00\" fill=\"#000000\">class = B</text>\n",
       "</g>\n",
       "<!-- 1 -->\n",
       "<g id=\"node2\" class=\"node\">\n",
       "<title>1</title>\n",
       "<path fill=\"#8139e5\" stroke=\"#000000\" d=\"M145.5,-417.5C145.5,-417.5 49.5,-417.5 49.5,-417.5 43.5,-417.5 37.5,-411.5 37.5,-405.5 37.5,-405.5 37.5,-361.5 37.5,-361.5 37.5,-355.5 43.5,-349.5 49.5,-349.5 49.5,-349.5 145.5,-349.5 145.5,-349.5 151.5,-349.5 157.5,-355.5 157.5,-361.5 157.5,-361.5 157.5,-405.5 157.5,-405.5 157.5,-411.5 151.5,-417.5 145.5,-417.5\"/>\n",
       "<text text-anchor=\"start\" x=\"56\" y=\"-402.3\" font-family=\"Helvetica,sans-Serif\" font-size=\"14.00\" fill=\"#000000\">entropy = 0.0</text>\n",
       "<text text-anchor=\"start\" x=\"55.5\" y=\"-387.3\" font-family=\"Helvetica,sans-Serif\" font-size=\"14.00\" fill=\"#000000\">samples = 15</text>\n",
       "<text text-anchor=\"start\" x=\"45.5\" y=\"-372.3\" font-family=\"Helvetica,sans-Serif\" font-size=\"14.00\" fill=\"#000000\">value = [0, 0, 15]</text>\n",
       "<text text-anchor=\"start\" x=\"68.5\" y=\"-357.3\" font-family=\"Helvetica,sans-Serif\" font-size=\"14.00\" fill=\"#000000\">class = C</text>\n",
       "</g>\n",
       "<!-- 0&#45;&gt;1 -->\n",
       "<g id=\"edge1\" class=\"edge\">\n",
       "<title>0&#45;&gt;1</title>\n",
       "<path fill=\"none\" stroke=\"#000000\" d=\"M150.1701,-460.8796C142.5357,-449.6636 134.2652,-437.5131 126.5901,-426.2372\"/>\n",
       "<polygon fill=\"#000000\" stroke=\"#000000\" points=\"129.3775,-424.1122 120.8572,-417.8149 123.5908,-428.0511 129.3775,-424.1122\"/>\n",
       "<text text-anchor=\"middle\" x=\"116.1907\" y=\"-438.6755\" font-family=\"Helvetica,sans-Serif\" font-size=\"14.00\" fill=\"#000000\">True</text>\n",
       "</g>\n",
       "<!-- 2 -->\n",
       "<g id=\"node3\" class=\"node\">\n",
       "<title>2</title>\n",
       "<path fill=\"#39e581\" fill-opacity=\"0.921569\" stroke=\"#000000\" d=\"M333,-425C333,-425 188,-425 188,-425 182,-425 176,-419 176,-413 176,-413 176,-354 176,-354 176,-348 182,-342 188,-342 188,-342 333,-342 333,-342 339,-342 345,-348 345,-354 345,-354 345,-413 345,-413 345,-419 339,-425 333,-425\"/>\n",
       "<text text-anchor=\"start\" x=\"184\" y=\"-409.8\" font-family=\"Helvetica,sans-Serif\" font-size=\"14.00\" fill=\"#000000\">Life expectancy ≤ &#45;0.661</text>\n",
       "<text text-anchor=\"start\" x=\"211.5\" y=\"-394.8\" font-family=\"Helvetica,sans-Serif\" font-size=\"14.00\" fill=\"#000000\">entropy = 0.461</text>\n",
       "<text text-anchor=\"start\" x=\"218.5\" y=\"-379.8\" font-family=\"Helvetica,sans-Serif\" font-size=\"14.00\" fill=\"#000000\">samples = 53</text>\n",
       "<text text-anchor=\"start\" x=\"208.5\" y=\"-364.8\" font-family=\"Helvetica,sans-Serif\" font-size=\"14.00\" fill=\"#000000\">value = [2, 49, 2]</text>\n",
       "<text text-anchor=\"start\" x=\"231.5\" y=\"-349.8\" font-family=\"Helvetica,sans-Serif\" font-size=\"14.00\" fill=\"#000000\">class = B</text>\n",
       "</g>\n",
       "<!-- 0&#45;&gt;2 -->\n",
       "<g id=\"edge2\" class=\"edge\">\n",
       "<title>0&#45;&gt;2</title>\n",
       "<path fill=\"none\" stroke=\"#000000\" d=\"M207.1796,-460.8796C213.2615,-452.0534 219.7422,-442.6485 226.0141,-433.5466\"/>\n",
       "<polygon fill=\"#000000\" stroke=\"#000000\" points=\"228.9059,-435.5184 231.698,-425.2981 223.1418,-431.5465 228.9059,-435.5184\"/>\n",
       "<text text-anchor=\"middle\" x=\"236.2239\" y=\"-446.185\" font-family=\"Helvetica,sans-Serif\" font-size=\"14.00\" fill=\"#000000\">False</text>\n",
       "</g>\n",
       "<!-- 3 -->\n",
       "<g id=\"node4\" class=\"node\">\n",
       "<title>3</title>\n",
       "<path fill=\"transparent\" stroke=\"#000000\" d=\"M226,-306C226,-306 137,-306 137,-306 131,-306 125,-300 125,-294 125,-294 125,-235 125,-235 125,-229 131,-223 137,-223 137,-223 226,-223 226,-223 232,-223 238,-229 238,-235 238,-235 238,-294 238,-294 238,-300 232,-306 226,-306\"/>\n",
       "<text text-anchor=\"start\" x=\"141\" y=\"-290.8\" font-family=\"Helvetica,sans-Serif\" font-size=\"14.00\" fill=\"#000000\">Area ≤ 0.201</text>\n",
       "<text text-anchor=\"start\" x=\"140\" y=\"-275.8\" font-family=\"Helvetica,sans-Serif\" font-size=\"14.00\" fill=\"#000000\">entropy = 1.0</text>\n",
       "<text text-anchor=\"start\" x=\"143.5\" y=\"-260.8\" font-family=\"Helvetica,sans-Serif\" font-size=\"14.00\" fill=\"#000000\">samples = 4</text>\n",
       "<text text-anchor=\"start\" x=\"133\" y=\"-245.8\" font-family=\"Helvetica,sans-Serif\" font-size=\"14.00\" fill=\"#000000\">value = [0, 2, 2]</text>\n",
       "<text text-anchor=\"start\" x=\"152.5\" y=\"-230.8\" font-family=\"Helvetica,sans-Serif\" font-size=\"14.00\" fill=\"#000000\">class = B</text>\n",
       "</g>\n",
       "<!-- 2&#45;&gt;3 -->\n",
       "<g id=\"edge3\" class=\"edge\">\n",
       "<title>2&#45;&gt;3</title>\n",
       "<path fill=\"none\" stroke=\"#000000\" d=\"M232.8696,-341.8796C227.07,-333.1434 220.8941,-323.8404 214.9092,-314.8253\"/>\n",
       "<polygon fill=\"#000000\" stroke=\"#000000\" points=\"217.6951,-312.6935 209.2483,-306.2981 211.8632,-316.5652 217.6951,-312.6935\"/>\n",
       "</g>\n",
       "<!-- 6 -->\n",
       "<g id=\"node7\" class=\"node\">\n",
       "<title>6</title>\n",
       "<path fill=\"#39e581\" fill-opacity=\"0.956863\" stroke=\"#000000\" d=\"M408.5,-306C408.5,-306 268.5,-306 268.5,-306 262.5,-306 256.5,-300 256.5,-294 256.5,-294 256.5,-235 256.5,-235 256.5,-229 262.5,-223 268.5,-223 268.5,-223 408.5,-223 408.5,-223 414.5,-223 420.5,-229 420.5,-235 420.5,-235 420.5,-294 420.5,-294 420.5,-300 414.5,-306 408.5,-306\"/>\n",
       "<text text-anchor=\"start\" x=\"264.5\" y=\"-290.8\" font-family=\"Helvetica,sans-Serif\" font-size=\"14.00\" fill=\"#000000\">Life expectancy ≤ 1.084</text>\n",
       "<text text-anchor=\"start\" x=\"289.5\" y=\"-275.8\" font-family=\"Helvetica,sans-Serif\" font-size=\"14.00\" fill=\"#000000\">entropy = 0.246</text>\n",
       "<text text-anchor=\"start\" x=\"296.5\" y=\"-260.8\" font-family=\"Helvetica,sans-Serif\" font-size=\"14.00\" fill=\"#000000\">samples = 49</text>\n",
       "<text text-anchor=\"start\" x=\"286.5\" y=\"-245.8\" font-family=\"Helvetica,sans-Serif\" font-size=\"14.00\" fill=\"#000000\">value = [2, 47, 0]</text>\n",
       "<text text-anchor=\"start\" x=\"309.5\" y=\"-230.8\" font-family=\"Helvetica,sans-Serif\" font-size=\"14.00\" fill=\"#000000\">class = B</text>\n",
       "</g>\n",
       "<!-- 2&#45;&gt;6 -->\n",
       "<g id=\"edge6\" class=\"edge\">\n",
       "<title>2&#45;&gt;6</title>\n",
       "<path fill=\"none\" stroke=\"#000000\" d=\"M287.7806,-341.8796C293.5068,-333.1434 299.6046,-323.8404 305.5137,-314.8253\"/>\n",
       "<polygon fill=\"#000000\" stroke=\"#000000\" points=\"308.5482,-316.5803 311.1029,-306.2981 302.6937,-312.7429 308.5482,-316.5803\"/>\n",
       "</g>\n",
       "<!-- 4 -->\n",
       "<g id=\"node5\" class=\"node\">\n",
       "<title>4</title>\n",
       "<path fill=\"#8139e5\" stroke=\"#000000\" d=\"M101,-179.5C101,-179.5 12,-179.5 12,-179.5 6,-179.5 0,-173.5 0,-167.5 0,-167.5 0,-123.5 0,-123.5 0,-117.5 6,-111.5 12,-111.5 12,-111.5 101,-111.5 101,-111.5 107,-111.5 113,-117.5 113,-123.5 113,-123.5 113,-167.5 113,-167.5 113,-173.5 107,-179.5 101,-179.5\"/>\n",
       "<text text-anchor=\"start\" x=\"15\" y=\"-164.3\" font-family=\"Helvetica,sans-Serif\" font-size=\"14.00\" fill=\"#000000\">entropy = 0.0</text>\n",
       "<text text-anchor=\"start\" x=\"18.5\" y=\"-149.3\" font-family=\"Helvetica,sans-Serif\" font-size=\"14.00\" fill=\"#000000\">samples = 2</text>\n",
       "<text text-anchor=\"start\" x=\"8\" y=\"-134.3\" font-family=\"Helvetica,sans-Serif\" font-size=\"14.00\" fill=\"#000000\">value = [0, 0, 2]</text>\n",
       "<text text-anchor=\"start\" x=\"27.5\" y=\"-119.3\" font-family=\"Helvetica,sans-Serif\" font-size=\"14.00\" fill=\"#000000\">class = C</text>\n",
       "</g>\n",
       "<!-- 3&#45;&gt;4 -->\n",
       "<g id=\"edge4\" class=\"edge\">\n",
       "<title>3&#45;&gt;4</title>\n",
       "<path fill=\"none\" stroke=\"#000000\" d=\"M137.7811,-222.8796C125.5375,-211.2237 112.2339,-198.5587 100.0029,-186.9148\"/>\n",
       "<polygon fill=\"#000000\" stroke=\"#000000\" points=\"102.2012,-184.1751 92.5451,-179.8149 97.3746,-189.245 102.2012,-184.1751\"/>\n",
       "</g>\n",
       "<!-- 5 -->\n",
       "<g id=\"node6\" class=\"node\">\n",
       "<title>5</title>\n",
       "<path fill=\"#39e581\" stroke=\"#000000\" d=\"M232,-179.5C232,-179.5 143,-179.5 143,-179.5 137,-179.5 131,-173.5 131,-167.5 131,-167.5 131,-123.5 131,-123.5 131,-117.5 137,-111.5 143,-111.5 143,-111.5 232,-111.5 232,-111.5 238,-111.5 244,-117.5 244,-123.5 244,-123.5 244,-167.5 244,-167.5 244,-173.5 238,-179.5 232,-179.5\"/>\n",
       "<text text-anchor=\"start\" x=\"146\" y=\"-164.3\" font-family=\"Helvetica,sans-Serif\" font-size=\"14.00\" fill=\"#000000\">entropy = 0.0</text>\n",
       "<text text-anchor=\"start\" x=\"149.5\" y=\"-149.3\" font-family=\"Helvetica,sans-Serif\" font-size=\"14.00\" fill=\"#000000\">samples = 2</text>\n",
       "<text text-anchor=\"start\" x=\"139\" y=\"-134.3\" font-family=\"Helvetica,sans-Serif\" font-size=\"14.00\" fill=\"#000000\">value = [0, 2, 0]</text>\n",
       "<text text-anchor=\"start\" x=\"158.5\" y=\"-119.3\" font-family=\"Helvetica,sans-Serif\" font-size=\"14.00\" fill=\"#000000\">class = B</text>\n",
       "</g>\n",
       "<!-- 3&#45;&gt;5 -->\n",
       "<g id=\"edge5\" class=\"edge\">\n",
       "<title>3&#45;&gt;5</title>\n",
       "<path fill=\"none\" stroke=\"#000000\" d=\"M183.5985,-222.8796C184.1363,-212.2134 184.7167,-200.7021 185.2613,-189.9015\"/>\n",
       "<polygon fill=\"#000000\" stroke=\"#000000\" points=\"188.7617,-189.9785 185.7698,-179.8149 181.7706,-189.626 188.7617,-189.9785\"/>\n",
       "</g>\n",
       "<!-- 7 -->\n",
       "<g id=\"node8\" class=\"node\">\n",
       "<title>7</title>\n",
       "<path fill=\"#39e581\" stroke=\"#000000\" d=\"M381.5,-179.5C381.5,-179.5 285.5,-179.5 285.5,-179.5 279.5,-179.5 273.5,-173.5 273.5,-167.5 273.5,-167.5 273.5,-123.5 273.5,-123.5 273.5,-117.5 279.5,-111.5 285.5,-111.5 285.5,-111.5 381.5,-111.5 381.5,-111.5 387.5,-111.5 393.5,-117.5 393.5,-123.5 393.5,-123.5 393.5,-167.5 393.5,-167.5 393.5,-173.5 387.5,-179.5 381.5,-179.5\"/>\n",
       "<text text-anchor=\"start\" x=\"292\" y=\"-164.3\" font-family=\"Helvetica,sans-Serif\" font-size=\"14.00\" fill=\"#000000\">entropy = 0.0</text>\n",
       "<text text-anchor=\"start\" x=\"291.5\" y=\"-149.3\" font-family=\"Helvetica,sans-Serif\" font-size=\"14.00\" fill=\"#000000\">samples = 42</text>\n",
       "<text text-anchor=\"start\" x=\"281.5\" y=\"-134.3\" font-family=\"Helvetica,sans-Serif\" font-size=\"14.00\" fill=\"#000000\">value = [0, 42, 0]</text>\n",
       "<text text-anchor=\"start\" x=\"304.5\" y=\"-119.3\" font-family=\"Helvetica,sans-Serif\" font-size=\"14.00\" fill=\"#000000\">class = B</text>\n",
       "</g>\n",
       "<!-- 6&#45;&gt;7 -->\n",
       "<g id=\"edge7\" class=\"edge\">\n",
       "<title>6&#45;&gt;7</title>\n",
       "<path fill=\"none\" stroke=\"#000000\" d=\"M336.7512,-222.8796C336.3031,-212.2134 335.8194,-200.7021 335.3656,-189.9015\"/>\n",
       "<polygon fill=\"#000000\" stroke=\"#000000\" points=\"338.8586,-189.6592 334.9418,-179.8149 331.8648,-189.9531 338.8586,-189.6592\"/>\n",
       "</g>\n",
       "<!-- 8 -->\n",
       "<g id=\"node9\" class=\"node\">\n",
       "<title>8</title>\n",
       "<path fill=\"#39e581\" fill-opacity=\"0.600000\" stroke=\"#000000\" d=\"M513.5,-187C513.5,-187 423.5,-187 423.5,-187 417.5,-187 411.5,-181 411.5,-175 411.5,-175 411.5,-116 411.5,-116 411.5,-110 417.5,-104 423.5,-104 423.5,-104 513.5,-104 513.5,-104 519.5,-104 525.5,-110 525.5,-116 525.5,-116 525.5,-175 525.5,-175 525.5,-181 519.5,-187 513.5,-187\"/>\n",
       "<text text-anchor=\"start\" x=\"428.5\" y=\"-171.8\" font-family=\"Helvetica,sans-Serif\" font-size=\"14.00\" fill=\"#000000\">CO2 ≤ 0.679</text>\n",
       "<text text-anchor=\"start\" x=\"419.5\" y=\"-156.8\" font-family=\"Helvetica,sans-Serif\" font-size=\"14.00\" fill=\"#000000\">entropy = 0.863</text>\n",
       "<text text-anchor=\"start\" x=\"430.5\" y=\"-141.8\" font-family=\"Helvetica,sans-Serif\" font-size=\"14.00\" fill=\"#000000\">samples = 7</text>\n",
       "<text text-anchor=\"start\" x=\"420\" y=\"-126.8\" font-family=\"Helvetica,sans-Serif\" font-size=\"14.00\" fill=\"#000000\">value = [2, 5, 0]</text>\n",
       "<text text-anchor=\"start\" x=\"439.5\" y=\"-111.8\" font-family=\"Helvetica,sans-Serif\" font-size=\"14.00\" fill=\"#000000\">class = B</text>\n",
       "</g>\n",
       "<!-- 6&#45;&gt;8 -->\n",
       "<g id=\"edge8\" class=\"edge\">\n",
       "<title>6&#45;&gt;8</title>\n",
       "<path fill=\"none\" stroke=\"#000000\" d=\"M383.9677,-222.8796C394.1017,-213.6031 404.934,-203.6874 415.3465,-194.1559\"/>\n",
       "<polygon fill=\"#000000\" stroke=\"#000000\" points=\"417.8252,-196.6319 422.8382,-187.2981 413.0987,-191.4685 417.8252,-196.6319\"/>\n",
       "</g>\n",
       "<!-- 9 -->\n",
       "<g id=\"node10\" class=\"node\">\n",
       "<title>9</title>\n",
       "<path fill=\"#39e581\" stroke=\"#000000\" d=\"M447,-68C447,-68 358,-68 358,-68 352,-68 346,-62 346,-56 346,-56 346,-12 346,-12 346,-6 352,0 358,0 358,0 447,0 447,0 453,0 459,-6 459,-12 459,-12 459,-56 459,-56 459,-62 453,-68 447,-68\"/>\n",
       "<text text-anchor=\"start\" x=\"361\" y=\"-52.8\" font-family=\"Helvetica,sans-Serif\" font-size=\"14.00\" fill=\"#000000\">entropy = 0.0</text>\n",
       "<text text-anchor=\"start\" x=\"364.5\" y=\"-37.8\" font-family=\"Helvetica,sans-Serif\" font-size=\"14.00\" fill=\"#000000\">samples = 5</text>\n",
       "<text text-anchor=\"start\" x=\"354\" y=\"-22.8\" font-family=\"Helvetica,sans-Serif\" font-size=\"14.00\" fill=\"#000000\">value = [0, 5, 0]</text>\n",
       "<text text-anchor=\"start\" x=\"373.5\" y=\"-7.8\" font-family=\"Helvetica,sans-Serif\" font-size=\"14.00\" fill=\"#000000\">class = B</text>\n",
       "</g>\n",
       "<!-- 8&#45;&gt;9 -->\n",
       "<g id=\"edge9\" class=\"edge\">\n",
       "<title>8&#45;&gt;9</title>\n",
       "<path fill=\"none\" stroke=\"#000000\" d=\"M443.924,-103.9815C438.7014,-95.1585 433.1771,-85.8258 427.9237,-76.9506\"/>\n",
       "<polygon fill=\"#000000\" stroke=\"#000000\" points=\"430.8874,-75.0863 422.7816,-68.2637 424.8636,-78.652 430.8874,-75.0863\"/>\n",
       "</g>\n",
       "<!-- 10 -->\n",
       "<g id=\"node11\" class=\"node\">\n",
       "<title>10</title>\n",
       "<path fill=\"#e58139\" stroke=\"#000000\" d=\"M578,-68C578,-68 489,-68 489,-68 483,-68 477,-62 477,-56 477,-56 477,-12 477,-12 477,-6 483,0 489,0 489,0 578,0 578,0 584,0 590,-6 590,-12 590,-12 590,-56 590,-56 590,-62 584,-68 578,-68\"/>\n",
       "<text text-anchor=\"start\" x=\"492\" y=\"-52.8\" font-family=\"Helvetica,sans-Serif\" font-size=\"14.00\" fill=\"#000000\">entropy = 0.0</text>\n",
       "<text text-anchor=\"start\" x=\"495.5\" y=\"-37.8\" font-family=\"Helvetica,sans-Serif\" font-size=\"14.00\" fill=\"#000000\">samples = 2</text>\n",
       "<text text-anchor=\"start\" x=\"485\" y=\"-22.8\" font-family=\"Helvetica,sans-Serif\" font-size=\"14.00\" fill=\"#000000\">value = [2, 0, 0]</text>\n",
       "<text text-anchor=\"start\" x=\"504.5\" y=\"-7.8\" font-family=\"Helvetica,sans-Serif\" font-size=\"14.00\" fill=\"#000000\">class = A</text>\n",
       "</g>\n",
       "<!-- 8&#45;&gt;10 -->\n",
       "<g id=\"edge10\" class=\"edge\">\n",
       "<title>8&#45;&gt;10</title>\n",
       "<path fill=\"none\" stroke=\"#000000\" d=\"M492.7036,-103.9815C497.8471,-95.1585 503.2877,-85.8258 508.4616,-76.9506\"/>\n",
       "<polygon fill=\"#000000\" stroke=\"#000000\" points=\"511.513,-78.6656 513.5257,-68.2637 505.4656,-75.1402 511.513,-78.6656\"/>\n",
       "</g>\n",
       "</g>\n",
       "</svg>\n"
      ],
      "text/plain": [
       "<graphviz.files.Source at 0x1a1de22c50>"
      ]
     },
     "execution_count": 70,
     "metadata": {},
     "output_type": "execute_result"
    }
   ],
   "source": [
    "dot_data = tree.export_graphviz(t, out_file=None, \n",
    "                         feature_names=dffea.columns,  \n",
    "                         class_names=sortedLabelList, # needs to be lexicographically sorted\n",
    "                         filled=True, rounded=True,  \n",
    "                         special_characters=True) \n",
    "graph = graphviz.Source(dot_data)\n",
    "graph"
   ]
  },
  {
   "cell_type": "markdown",
   "metadata": {},
   "source": [
    "Les pays pauvres (C) sont principalement dinstingués par leurs faibles émissions de CO2. Les pays riches sont quant à eux discriminer à cause de leur fort taux de d'émission de CO2 et grâce une espérance de vie élevée. "
   ]
  },
  {
   "cell_type": "markdown",
   "metadata": {},
   "source": [
    "### Jeu test"
   ]
  },
  {
   "cell_type": "code",
   "execution_count": 66,
   "metadata": {},
   "outputs": [
    {
     "name": "stdout",
     "output_type": "stream",
     "text": [
      "Accurracy classique : 0.8333333333333334\n",
      "Accurracy pondérée : 0.6222222222222222\n"
     ]
    }
   ],
   "source": [
    "ty_predict = treeModel.predict(tX_test)\n",
    "print \"Accurracy classique :\",metrics.accuracy_score(ty_test, ty_predict)\n",
    "print u\"Accurracy pondérée :\",balanced_accuracy_score(ty_test, ty_predict)"
   ]
  },
  {
   "cell_type": "markdown",
   "metadata": {},
   "source": [
    "On choisit pour cette étude d'utiliser l'accuracy pondérée car les classes ont des effectifs très différents.\n",
    "\n",
    "Comme on peut le voir, les deux métriques ne donnent pas les mêmes conclusions : en effet, l'accurracy classique sous-estime le coût d'une mauvaise classification dans la classe de PIB A (très petite), alors que l'accurracy pondérée prend en compte la taille de la classe cible."
   ]
  },
  {
   "cell_type": "code",
   "execution_count": 34,
   "metadata": {},
   "outputs": [
    {
     "data": {
      "image/png": "[encoded data removed]",
      "text/plain": [
       "<Figure size 432x288 with 2 Axes>"
      ]
     },
     "metadata": {
      "needs_background": "light"
     },
     "output_type": "display_data"
    }
   ],
   "source": [
    "tMP=metrics.confusion_matrix(y_true=ty_test, y_pred=ty_predict, labels=sortedLabelList)\n",
    "tmdfp = pds.DataFrame(data=tMP, copy=True, index=trueLabels, columns=predictLabels)\n",
    "tmdfp = tmdfp.transpose()\n",
    "ax=sns.heatmap(tmdfp, annot=True)\n",
    "_=ax.set_title(u\"Matrice de contingence pour l'arbre de décision\")"
   ]
  },
  {
   "cell_type": "markdown",
   "metadata": {},
   "source": [
    "Matrice de contingence. Verticalement et en minuscule, les classes prédites. Horizontalement et en majuscules, les classes réelles."
   ]
  },
  {
   "cell_type": "code",
   "execution_count": 35,
   "metadata": {},
   "outputs": [
    {
     "name": "stdout",
     "output_type": "stream",
     "text": [
      "              precision    recall  f1-score   support\n",
      "\n",
      "           A       0.00      0.00      0.00         1\n",
      "           B       0.93      0.87      0.90        15\n",
      "           C       0.50      1.00      0.67         2\n",
      "\n",
      "   micro avg       0.83      0.83      0.83        18\n",
      "   macro avg       0.48      0.62      0.52        18\n",
      "weighted avg       0.83      0.83      0.82        18\n",
      "\n"
     ]
    },
    {
     "name": "stderr",
     "output_type": "stream",
     "text": [
      "/Users/mathian/miniconda2/lib/python2.7/site-packages/sklearn/metrics/classification.py:1143: UndefinedMetricWarning: Precision and F-score are ill-defined and being set to 0.0 in labels with no predicted samples.\n",
      "  'precision', 'predicted', average, warn_for)\n",
      "/Users/mathian/miniconda2/lib/python2.7/site-packages/sklearn/metrics/classification.py:1143: UndefinedMetricWarning: Precision and F-score are ill-defined and being set to 0.0 in labels with no predicted samples.\n",
      "  'precision', 'predicted', average, warn_for)\n",
      "/Users/mathian/miniconda2/lib/python2.7/site-packages/sklearn/metrics/classification.py:1143: UndefinedMetricWarning: Precision and F-score are ill-defined and being set to 0.0 in labels with no predicted samples.\n",
      "  'precision', 'predicted', average, warn_for)\n"
     ]
    }
   ],
   "source": [
    "print metrics.classification_report(ty_test, ty_predict)"
   ]
  },
  {
   "cell_type": "markdown",
   "metadata": {},
   "source": [
    "On remarque que la classe A est mal prédite (d'ailleurs, on a un warning car l'effectif est trop faible pour obtenir des mesures pertinentes pour cette classe). C'est dû au petit effectif des pays riches. En effet, le modèle de test avait seulement un seul vrai A..."
   ]
  },
  {
   "cell_type": "markdown",
   "metadata": {},
   "source": [
    "Ici, le problème est qu'on a des classes d'effectif très hétérogènes. Pour remédier à cela, il faudrait peut-être en faire des outliers, ou inclure des outliers exclus auparavant qui augmenteraient l'effectif de la classe A."
   ]
  },
  {
   "cell_type": "markdown",
   "metadata": {},
   "source": [
    " <span style=\"color:red\"> Tu penses pas qu'il faudrait changer les proportions du jeu test et train car on a quasi que des B dans le test ?</span>"
   ]
  },
  {
   "cell_type": "markdown",
   "metadata": {},
   "source": [
    "## K-NN"
   ]
  },
  {
   "cell_type": "code",
   "execution_count": 71,
   "metadata": {},
   "outputs": [
    {
     "name": "stdout",
     "output_type": "stream",
     "text": [
      "[[ 2  0  0]\n",
      " [ 0 51  0]\n",
      " [ 0  0 15]]\n"
     ]
    }
   ],
   "source": [
    "kX_train, kX_test, ky_train, ky_test = train_test_split(dffea, classes, test_size=0.2, random_state=15)\n",
    "\n",
    "knnModel = neighbors.KNeighborsClassifier(n_neighbors=5, weights='uniform', p=2)\n",
    "knnModel.fit(kX_train, ky_train)\n",
    "kM=metrics.confusion_matrix(y_true=ky_train, y_pred=ky_train, labels=sortedLabelList)\n",
    "print(kM)"
   ]
  },
  {
   "cell_type": "code",
   "execution_count": 72,
   "metadata": {},
   "outputs": [
    {
     "name": "stdout",
     "output_type": "stream",
     "text": [
      "Accurracy classique : 0.8333333333333334\n",
      "Accurracy pondérée : 0.5\n"
     ]
    }
   ],
   "source": [
    "ky_predict = knnModel.predict(kX_test)\n",
    "print \"Accurracy classique :\",metrics.accuracy_score(ky_test, ky_predict)\n",
    "print u\"Accurracy pondérée :\",balanced_accuracy_score(ky_test, ky_predict)"
   ]
  },
  {
   "cell_type": "markdown",
   "metadata": {},
   "source": [
    "De même que pour l'arbre de décision, on remarque le coût élevé d'une petite classe sur l'accurracy pondérée."
   ]
  },
  {
   "cell_type": "code",
   "execution_count": 73,
   "metadata": {},
   "outputs": [
    {
     "data": {
      "image/png": "[encoded data removed]",
      "text/plain": [
       "<Figure size 432x288 with 2 Axes>"
      ]
     },
     "metadata": {
      "needs_background": "light"
     },
     "output_type": "display_data"
    }
   ],
   "source": [
    "kMP=metrics.confusion_matrix(y_true=ky_test, y_pred=ky_predict, labels=sortedLabelList)\n",
    "kmdfp = pds.DataFrame(data=kMP, copy=True, index=trueLabels, columns=predictLabels)\n",
    "kmdfp = kmdfp.transpose()\n",
    "ax=sns.heatmap(kmdfp, annot=True)\n",
    "_=ax.set_title(u\"Matrice de contingence pour les k plus proches voisins\")"
   ]
  },
  {
   "cell_type": "markdown",
   "metadata": {},
   "source": [
    "Matrice de contingence. Verticalement et en minuscule, les classes prédites. Horizontalement et en majuscules, les classes réelles."
   ]
  },
  {
   "cell_type": "code",
   "execution_count": 74,
   "metadata": {
    "scrolled": true
   },
   "outputs": [
    {
     "name": "stdout",
     "output_type": "stream",
     "text": [
      "              precision    recall  f1-score   support\n",
      "\n",
      "           A       0.00      0.00      0.00         1\n",
      "           B       0.81      1.00      0.90        13\n",
      "           C       1.00      0.50      0.67         4\n",
      "\n",
      "   micro avg       0.83      0.83      0.83        18\n",
      "   macro avg       0.60      0.50      0.52        18\n",
      "weighted avg       0.81      0.83      0.80        18\n",
      "\n"
     ]
    },
    {
     "name": "stderr",
     "output_type": "stream",
     "text": [
      "/Users/mathian/miniconda2/lib/python2.7/site-packages/sklearn/metrics/classification.py:1143: UndefinedMetricWarning: Precision and F-score are ill-defined and being set to 0.0 in labels with no predicted samples.\n",
      "  'precision', 'predicted', average, warn_for)\n",
      "/Users/mathian/miniconda2/lib/python2.7/site-packages/sklearn/metrics/classification.py:1143: UndefinedMetricWarning: Precision and F-score are ill-defined and being set to 0.0 in labels with no predicted samples.\n",
      "  'precision', 'predicted', average, warn_for)\n",
      "/Users/mathian/miniconda2/lib/python2.7/site-packages/sklearn/metrics/classification.py:1143: UndefinedMetricWarning: Precision and F-score are ill-defined and being set to 0.0 in labels with no predicted samples.\n",
      "  'precision', 'predicted', average, warn_for)\n"
     ]
    }
   ],
   "source": [
    "print metrics.classification_report(ky_test, ky_predict)"
   ]
  },
  {
   "cell_type": "markdown",
   "metadata": {},
   "source": [
    "On retrouve le même problème qu'avec l'arbre de classification."
   ]
  },
  {
   "cell_type": "markdown",
   "metadata": {},
   "source": [
    "## Détection de sur-apprentissage"
   ]
  },
  {
   "cell_type": "code",
   "execution_count": 40,
   "metadata": {},
   "outputs": [],
   "source": [
    "def plotErrorTest(step,dffeatures,classes,model,start=.1,stop=.9):\n",
    "    prop=np.arange(start,stop,step)\n",
    "    error=np.ndarray(len(prop))\n",
    "    i=0\n",
    "    for p in prop:\n",
    "        j=0\n",
    "        rep=100\n",
    "        errmoy=np.ndarray(rep)\n",
    "        for k in range(rep):\n",
    "            X_train, X_test, y_train, y_test = train_test_split(dffeatures, classes, test_size=p)\n",
    "            #train\n",
    "            model.fit(X_train, y_train)\n",
    "            # test\n",
    "            y_predict = model.predict(X_test)\n",
    "            errmoy[j]=(y_predict != y_test).mean()\n",
    "            j+=1\n",
    "        error_rate = np.mean(errmoy)*100\n",
    "        error[i]=error_rate\n",
    "        i+=1\n",
    "    plt.plot(prop,error)\n",
    "    plt.xlabel(\"Proportion du jeu test\")\n",
    "    plt.ylabel(u\"Taux d'erreur (%)\")\n",
    "    plt.title(type(model))"
   ]
  },
  {
   "cell_type": "code",
   "execution_count": 41,
   "metadata": {},
   "outputs": [],
   "source": [
    "def plotErrorLeaf(dffeatures,classes,start=1,stop=50):\n",
    "    leaf=np.arange(start,stop)\n",
    "    error=np.ndarray(len(leaf))\n",
    "    i=0\n",
    "    for l in leaf:\n",
    "        j=0\n",
    "        rep=100\n",
    "        errmoy=np.ndarray(rep)\n",
    "        for k in range(rep):\n",
    "            model = DecisionTreeClassifier(criterion = 'entropy', random_state=10, min_samples_leaf=l)\n",
    "            X_train, X_test, y_train, y_test = train_test_split(dffeatures, classes, test_size=.2)\n",
    "            #train\n",
    "            model.fit(X_train, y_train)\n",
    "            # test\n",
    "            y_predict = model.predict(X_test)\n",
    "            errmoy[j]=(y_predict != y_test).mean()\n",
    "            j+=1\n",
    "        error_rate = np.mean(errmoy)*100\n",
    "        error[i]=error_rate\n",
    "        i+=1\n",
    "    plt.plot(leaf,error)\n",
    "    plt.xlabel(\"Nombre minimal d'objets dans un noeud\")\n",
    "    plt.ylabel(u\"Taux d'erreur (%)\")\n",
    "    plt.title(type(model))"
   ]
  },
  {
   "cell_type": "code",
   "execution_count": 42,
   "metadata": {},
   "outputs": [],
   "source": [
    "def plotErrorNeighbors(dffeatures,classes,start=1,stop=50):\n",
    "    neighb=np.arange(start,stop)\n",
    "    error=np.ndarray(len(neighb))\n",
    "    i=0\n",
    "    for n in neighb:\n",
    "        j=0\n",
    "        rep=100\n",
    "        errmoy=np.ndarray(rep)\n",
    "        for k in range(rep):\n",
    "            model = neighbors.KNeighborsClassifier(n_neighbors=n, weights='uniform', p=2)\n",
    "            X_train, X_test, y_train, y_test = train_test_split(dffeatures, classes, test_size=.2)\n",
    "            #train\n",
    "            model.fit(X_train, y_train)\n",
    "            # test\n",
    "            y_predict = model.predict(X_test)\n",
    "            errmoy[j]=(y_predict != y_test).mean()\n",
    "            j+=1\n",
    "        error_rate = np.mean(errmoy)*100\n",
    "        error[i]=error_rate\n",
    "        i+=1\n",
    "    plt.plot(neighb,error)\n",
    "    plt.xlabel(\"Nombrede voisins\")\n",
    "    plt.ylabel(u\"Taux d'erreur (%)\")\n",
    "    plt.title(type(model))"
   ]
  },
  {
   "cell_type": "markdown",
   "metadata": {},
   "source": [
    "### Erreur en fonction de la proportion du jeu test"
   ]
  },
  {
   "cell_type": "code",
   "execution_count": 43,
   "metadata": {},
   "outputs": [
    {
     "data": {
      "image/png": "[encoded data removed]",
      "text/plain": [
       "<Figure size 432x288 with 1 Axes>"
      ]
     },
     "metadata": {
      "needs_background": "light"
     },
     "output_type": "display_data"
    }
   ],
   "source": [
    "plotErrorTest(.01,dffea,classes,treeModel)"
   ]
  },
  {
   "cell_type": "code",
   "execution_count": 44,
   "metadata": {},
   "outputs": [
    {
     "data": {
      "image/png": "[encoded data removed]",
      "text/plain": [
       "<Figure size 432x288 with 1 Axes>"
      ]
     },
     "metadata": {
      "needs_background": "light"
     },
     "output_type": "display_data"
    }
   ],
   "source": [
    "plotErrorTest(.01,dffea,classes,knnModel,.11,.89)"
   ]
  },
  {
   "cell_type": "markdown",
   "metadata": {},
   "source": [
    "On ne détecte pas de surapprentissage. Par contre, à partir de 80 % et 40 % de test respectivement pour l'arbre de décision et pour les k plus proches voisins, l'erreur augmente beaucoup."
   ]
  },
  {
   "cell_type": "markdown",
   "metadata": {},
   "source": [
    "### Erreur en fonction du nombre minimal d'items pour donner une feuille (arbre de décision)"
   ]
  },
  {
   "cell_type": "code",
   "execution_count": 45,
   "metadata": {},
   "outputs": [
    {
     "data": {
      "image/png": "[encoded data removed]",
      "text/plain": [
       "<Figure size 432x288 with 1 Axes>"
      ]
     },
     "metadata": {
      "needs_background": "light"
     },
     "output_type": "display_data"
    }
   ],
   "source": [
    "plotErrorLeaf(dffea,classes)"
   ]
  },
  {
   "cell_type": "markdown",
   "metadata": {},
   "source": [
    "Le nombre d'objets minimal dans un noeud optimal semble être de 10. En dessous, il y a trop de feuiles et il y a sur-apprentissage. Au dessus, le modèle est trop simple."
   ]
  },
  {
   "cell_type": "markdown",
   "metadata": {},
   "source": [
    "### Erreur en fonction du nombre de voisins (knn)"
   ]
  },
  {
   "cell_type": "code",
   "execution_count": 46,
   "metadata": {},
   "outputs": [
    {
     "data": {
      "image/png": "[encoded data removed]",
      "text/plain": [
       "<Figure size 432x288 with 1 Axes>"
      ]
     },
     "metadata": {
      "needs_background": "light"
     },
     "output_type": "display_data"
    }
   ],
   "source": [
    "plotErrorNeighbors(dffea,classes)"
   ]
  },
  {
   "cell_type": "markdown",
   "metadata": {},
   "source": [
    "Si l'algorithme ne considère pas assez de voisins, les résultats sont mauvais car l'apprentissage est trop spécifique (par exemple, s'il y a du bruit un point peut-être classifié comme un voisin proche mais dû au bruit). S'il considère trop de voisins, les classes sont trop générales et donc mal définies.\n",
    "Le nombre de voisins optimal semble être 10."
   ]
  },
  {
   "cell_type": "markdown",
   "metadata": {},
   "source": [
    "## Comparaison des deux méthodes de classification"
   ]
  },
  {
   "cell_type": "markdown",
   "metadata": {},
   "source": [
    "### Accurracy"
   ]
  },
  {
   "cell_type": "markdown",
   "metadata": {},
   "source": [
    "Comme l'arbre de décision est une méthode aléatoire on considère un score d'accurracy moyen sur plusieurs runs (cela n'a pas d'effet, peut-être une graine aléatoire perturbe-t-elle le processus)."
   ]
  },
  {
   "cell_type": "code",
   "execution_count": 47,
   "metadata": {},
   "outputs": [],
   "source": [
    "n=1000\n",
    "accurracy=np.ndarray(n)\n",
    "for i in range(n):\n",
    "    model = DecisionTreeClassifier(criterion = 'entropy', random_state=i, min_samples_leaf=10)\n",
    "    tr=model.fit(tX_train, ty_train)\n",
    "    y_predict = model.predict(tX_test)\n",
    "    accurracy[i]=metrics.balanced_accuracy_score(ty_test, y_predict)\n",
    "meanAccurracy=np.mean(accurracy)"
   ]
  },
  {
   "cell_type": "code",
   "execution_count": 48,
   "metadata": {},
   "outputs": [
    {
     "name": "stdout",
     "output_type": "stream",
     "text": [
      "Accurracy moyenne pondérée pour l'arbre de décision ( 1000  runs) : 0.622222222222222\n",
      "Accurracy pondérée des k plus proches voisins : 0.5\n"
     ]
    }
   ],
   "source": [
    "print u\"Accurracy moyenne pondérée pour l'arbre de décision (\",n,\" runs) :\", meanAccurracy\n",
    "print u\"Accurracy pondérée des k plus proches voisins :\",balanced_accuracy_score(ky_test, ky_predict)"
   ]
  },
  {
   "cell_type": "markdown",
   "metadata": {},
   "source": [
    "Les scores d'accurracy sont comparables : mais l'algorithme de l'arbre de décision a un meilleur score d'accuracy global."
   ]
  },
  {
   "cell_type": "markdown",
   "metadata": {},
   "source": [
    "## Précision et rappel"
   ]
  },
  {
   "cell_type": "markdown",
   "metadata": {},
   "source": [
    "On considère cette fois des runs uniques de l'arbre de décision."
   ]
  },
  {
   "cell_type": "code",
   "execution_count": 49,
   "metadata": {},
   "outputs": [
    {
     "name": "stdout",
     "output_type": "stream",
     "text": [
      "Arbre de décision :\n",
      "              precision    recall  f1-score   support\n",
      "\n",
      "           A       0.00      0.00      0.00         1\n",
      "           B       0.93      0.87      0.90        15\n",
      "           C       0.50      1.00      0.67         2\n",
      "\n",
      "   micro avg       0.83      0.83      0.83        18\n",
      "   macro avg       0.48      0.62      0.52        18\n",
      "weighted avg       0.83      0.83      0.82        18\n",
      "\n",
      "k plus proches voisins :\n",
      "              precision    recall  f1-score   support\n",
      "\n",
      "           A       0.00      0.00      0.00         1\n",
      "           B       0.81      1.00      0.90        13\n",
      "           C       1.00      0.50      0.67         4\n",
      "\n",
      "   micro avg       0.83      0.83      0.83        18\n",
      "   macro avg       0.60      0.50      0.52        18\n",
      "weighted avg       0.81      0.83      0.80        18\n",
      "\n"
     ]
    },
    {
     "name": "stderr",
     "output_type": "stream",
     "text": [
      "/Users/mathian/miniconda2/lib/python2.7/site-packages/sklearn/metrics/classification.py:1143: UndefinedMetricWarning: Precision and F-score are ill-defined and being set to 0.0 in labels with no predicted samples.\n",
      "  'precision', 'predicted', average, warn_for)\n",
      "/Users/mathian/miniconda2/lib/python2.7/site-packages/sklearn/metrics/classification.py:1143: UndefinedMetricWarning: Precision and F-score are ill-defined and being set to 0.0 in labels with no predicted samples.\n",
      "  'precision', 'predicted', average, warn_for)\n",
      "/Users/mathian/miniconda2/lib/python2.7/site-packages/sklearn/metrics/classification.py:1143: UndefinedMetricWarning: Precision and F-score are ill-defined and being set to 0.0 in labels with no predicted samples.\n",
      "  'precision', 'predicted', average, warn_for)\n",
      "/Users/mathian/miniconda2/lib/python2.7/site-packages/sklearn/metrics/classification.py:1143: UndefinedMetricWarning: Precision and F-score are ill-defined and being set to 0.0 in labels with no predicted samples.\n",
      "  'precision', 'predicted', average, warn_for)\n",
      "/Users/mathian/miniconda2/lib/python2.7/site-packages/sklearn/metrics/classification.py:1143: UndefinedMetricWarning: Precision and F-score are ill-defined and being set to 0.0 in labels with no predicted samples.\n",
      "  'precision', 'predicted', average, warn_for)\n",
      "/Users/mathian/miniconda2/lib/python2.7/site-packages/sklearn/metrics/classification.py:1143: UndefinedMetricWarning: Precision and F-score are ill-defined and being set to 0.0 in labels with no predicted samples.\n",
      "  'precision', 'predicted', average, warn_for)\n"
     ]
    }
   ],
   "source": [
    "print \"Arbre de décision :\\n\", metrics.classification_report(ty_test, ty_predict)\n",
    "print \"k plus proches voisins :\\n\", metrics.classification_report(ky_test, ky_predict)"
   ]
  },
  {
   "cell_type": "markdown",
   "metadata": {},
   "source": [
    "L'algorithme de l'arbre de décision a des meilleurs scores de précision et rappel pondérés globaux (ligne weighted avg) que les k plus proches voisins. Par conséquent, le f1-score (moyenne harmonique de précision et rappel) est également meilleur. Précisons cependant que cet algorithme est non déterministe et ses résultats peuvent donc varier d'un run à l'autre.\n",
    "\n",
    "\n",
    "Cependant, il y a toujours le problème de la classe A qui est petite."
   ]
  },
  {
   "cell_type": "markdown",
   "metadata": {},
   "source": [
    "### Entropie"
   ]
  },
  {
   "cell_type": "markdown",
   "metadata": {},
   "source": [
    "On calcule l'entropie pour les deux dernières lignes seulement (classes B et C) car il n'y a pas assez d'éléments dans la classe A."
   ]
  },
  {
   "cell_type": "markdown",
   "metadata": {},
   "source": [
    "De même, pour l'arbre de décision, on considère une entropie moyenne sur plusieurs runs (pas d'effet non plus)."
   ]
  },
  {
   "cell_type": "code",
   "execution_count": 50,
   "metadata": {},
   "outputs": [],
   "source": [
    "n=1000\n",
    "entrop=np.ndarray((n,2))\n",
    "for i in range(n):\n",
    "    model = DecisionTreeClassifier(criterion = 'entropy', random_state=i, min_samples_leaf=10)\n",
    "    t=model.fit(tX_train, ty_train)\n",
    "    y_predict = model.predict(tX_test)\n",
    "    tMP=metrics.confusion_matrix(y_true=ty_test, y_pred=y_predict, labels=sortedLabelList)\n",
    "    tmdfp = pds.DataFrame(data=tMP, copy=True, index=trueLabels, columns=predictLabels)\n",
    "    tmdfp = tmdfp.transpose()\n",
    "    tproba = tmdfp[1:][:].values/tmdfp[1:][:].values.sum(axis=1, keepdims=True) # divide each element of a row by the sum of the row\n",
    "    tentropy = [stats.entropy(row, base=2) for row in tproba]\n",
    "    entrop[i]=tentropy\n",
    "    \n",
    "meanEntropy=np.sum(entrop,axis=0)/n"
   ]
  },
  {
   "cell_type": "code",
   "execution_count": 51,
   "metadata": {
    "scrolled": true
   },
   "outputs": [
    {
     "name": "stdout",
     "output_type": "stream",
     "text": [
      "----------------------------- Arbre de décision -----------------------------\n",
      "Entropie de chaque (pour  1000  runs) : [0.37123233 1.        ]\n",
      "----------------------------- k plus proches voisins -----------------------------\n",
      "Entropie de chaque classe : [0.8683927290103627, 0.0]\n"
     ]
    }
   ],
   "source": [
    "print \"----------------------------- Arbre de décision -----------------------------\"\n",
    "print \"Entropie de chaque (pour \",n,\" runs) :\", meanEntropy\n",
    "kproba = kmdfp[1:][:].values/kmdfp[1:][:].values.sum(axis=1, keepdims=True) # divide each element of a row by the sum of the row\n",
    "kentropy = [stats.entropy(row, base=2) for row in kproba]\n",
    "print \"----------------------------- k plus proches voisins -----------------------------\"\n",
    "print \"Entropie de chaque classe :\", kentropy"
   ]
  },
  {
   "cell_type": "markdown",
   "metadata": {},
   "source": [
    "On a des entropies supérieures à 1, peut-être à cause des NaN dus à la classe A ?"
   ]
  },
  {
   "cell_type": "markdown",
   "metadata": {},
   "source": [
    "L'entropie mesurée pour les deux classes B et C est plus faible pour l'algorithme de l'arbre de décision (cependant, ."
   ]
  },
  {
   "cell_type": "markdown",
   "metadata": {},
   "source": [
    "**Conclusion : l'algorithme de l'arbre de décision semble plus performant pour ces données.**"
   ]
  }
 ],
 "metadata": {
  "kernelspec": {
   "display_name": "Python 2",
   "language": "python",
   "name": "python2"
  },
  "language_info": {
   "codemirror_mode": {
    "name": "ipython",
    "version": 2
   },
   "file_extension": ".py",
   "mimetype": "text/x-python",
   "name": "python",
   "nbconvert_exporter": "python",
   "pygments_lexer": "ipython2",
   "version": "2.7.15"
  }
 },
 "nbformat": 4,
 "nbformat_minor": 2
}
