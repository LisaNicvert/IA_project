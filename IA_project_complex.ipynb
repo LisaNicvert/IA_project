{
 "cells": [
  {
   "cell_type": "markdown",
   "metadata": {},
   "source": [
    "# Libraries"
   ]
  },
  {
   "cell_type": "code",
   "execution_count": 46,
   "metadata": {},
   "outputs": [],
   "source": [
    "from __future__ import division\n",
    "import matplotlib.pyplot as plt\n",
    "import pandas as pds\n",
    "import scipy\n",
    "import seaborn as sns\n",
    "import numpy as np\n",
    "import random\n",
    "from sklearn.cluster import KMeans\n",
    "from sklearn.cluster import DBSCAN\n",
    "from sklearn import metrics\n",
    "from IPython.core.display import Image, display\n",
    "from scipy import stats\n",
    "from sklearn.cluster import DBSCAN\n",
    "from sklearn.neighbors import NearestNeighbors\n",
    "from plot_sklearn_dendrogram import plot_sklearn_dendrogram\n",
    "from sklearn.cluster import AgglomerativeClustering\n",
    "from sklearn.tree import DecisionTreeClassifier\n",
    "from scipy.cluster.hierarchy import fcluster\n",
    "from scipy.cluster.hierarchy import dendrogram, linkage\n",
    "from pandas.plotting import parallel_coordinates\n",
    "import graphviz \n",
    "from sklearn import tree\n",
    "%matplotlib inline\n",
    "np.random.seed(10)\n",
    "random.seed(10)\n",
    "from mpl_toolkits.mplot3d import Axes3D\n",
    "from sklearn import preprocessing # to scale data\n",
    "from sklearn.metrics import silhouette_score\n",
    "from pandas.plotting import parallel_coordinates"
   ]
  },
  {
   "cell_type": "markdown",
   "metadata": {},
   "source": [
    "# Définition des fonctions"
   ]
  },
  {
   "cell_type": "code",
   "execution_count": 47,
   "metadata": {},
   "outputs": [],
   "source": [
    "def confusion_matrix(c1,c2, alg1 , alg2, Labc1_def , Labc2_def, labc1 , labc2 ):\n",
    "    \"\"\"Retourne la matrice de contingence de deux clusterings c1 et c2.\"\"\"\n",
    "    if Labc1_def == True :\n",
    "        Cla1 = c1.labels_\n",
    "    else : \n",
    "        Cla1 = labc1      \n",
    "    if Labc2_def == True :\n",
    "        Cla2 = c2.labels_\n",
    "    else :\n",
    "        Cla2 = labc2\n",
    "    Cla1 = list(Cla1) \n",
    "    Cla2 = list(Cla2)\n",
    "    for i in range(len(Cla1)):            \n",
    "        if alg1 == 'km':\n",
    "            Cla1[i] = 'km' + str(Cla1[i])\n",
    "        elif alg1 == 'db':\n",
    "            Cla1[i] = 'db' + str(Cla1[i])\n",
    "        elif alg1 == 'cah':\n",
    "            Cla1[i] = 'cah' + str(Cla1[i])\n",
    "        else :\n",
    "            return ('wrong name')              \n",
    "    for i in range(len(Cla2)):            \n",
    "        if alg2 == 'km':\n",
    "            Cla2[i] = 'km' + str(Cla2[i])\n",
    "        elif alg2 == 'db':\n",
    "            Cla2[i] = 'db' + str(Cla2[i])            \n",
    "        elif alg2 == 'cah':\n",
    "            Cla2[i] = 'cah' + str(Cla2[i])\n",
    "        else :\n",
    "            return ('wrong name')        \n",
    "    Lab1 = map(str,sorted(set(Cla1)))\n",
    "    Lab2 = map(str,sorted(set(Cla2)))\n",
    "    allLabels = Lab1 + Lab2\n",
    "    cm = metrics.confusion_matrix(Cla1, Cla2, labels=allLabels)\n",
    "    cmdf = pds.DataFrame(data=cm, copy=True, index=allLabels, \n",
    "                         columns=allLabels).loc[Lab1, Lab2]\n",
    "    cmdf = cmdf.transpose() \n",
    "    # pour avoir les classes en ligne et les cluster en colonne (ou l'invese)\n",
    "    return cmdf"
   ]
  },
  {
   "cell_type": "code",
   "execution_count": 48,
   "metadata": {},
   "outputs": [],
   "source": [
    "def compute_stability(k,df,iterations=100):\n",
    "    silhouette_coef = []\n",
    "    for i in range(iterations):\n",
    "        km = KMeans(n_clusters=k, n_init=1, random_state=i) \n",
    "        # create a KMeans object\n",
    "        km.fit(DF_kmeans1)\n",
    "        labels = km.predict(DF_kmeans1)\n",
    "        silhouette_coef.append(silhouette_score(DF_kmeans1, \n",
    "            labels, metric='euclidean', sample_size=None))\n",
    "    silhouette_coef = np.asarray(silhouette_coef)\n",
    "    return(silhouette_coef.std())"
   ]
  },
  {
   "cell_type": "code",
   "execution_count": 49,
   "metadata": {},
   "outputs": [],
   "source": [
    "def dendro_SSE (df, means_by_clusters):\n",
    "    \"\"\"df is a data frame containing a last column named \n",
    "    'clusters', calculated by hierarhical clustering\"\"\"\n",
    "    SSE =0\n",
    "    for i in range(means_by_clusters.shape[0]):\n",
    "        subset = df[df['clusters']==i]\n",
    "        SSE+= sum((subset - means_by_clusters[i])**2)\n",
    "    return SSE"
   ]
  },
  {
   "cell_type": "code",
   "execution_count": 50,
   "metadata": {},
   "outputs": [],
   "source": [
    "def entropy_between_clusterings (cmdf , nc ):\n",
    "    proba = cmdf.values/cmdf.values.sum(axis=1, keepdims=True)\n",
    "    entropy = [stats.entropy(row, base=2) for row in proba]\n",
    "    return entropy "
   ]
  },
  {
   "cell_type": "code",
   "execution_count": 51,
   "metadata": {},
   "outputs": [],
   "source": [
    "def fancy_dendrogram(*args, **kwargs):\n",
    "    '''This function allows to draw a dendrogram, \n",
    "    with distances annoted inside the dendogram\n",
    "    Function of Jörn's Blog : (https://joernhees.de/blog/2015/08/26/\n",
    "    scipy-hierarchical-clustering-and-dendrogram-tutorial/)  '''\n",
    "    max_d = kwargs.pop('max_d', None)\n",
    "    if max_d and 'color_threshold' not in kwargs:\n",
    "        kwargs['color_threshold'] = max_d\n",
    "    annotate_above = kwargs.pop('annotate_above', 0)\n",
    "    ddata = dendrogram(*args, **kwargs)\n",
    "    if not kwargs.get('no_plot', False):\n",
    "        plt.title('Hierarchical Clustering Dendrogram (truncated)')\n",
    "        plt.xlabel('sample index or (cluster size)')\n",
    "        plt.ylabel('distance')\n",
    "        for i, d, c in zip(ddata['icoord'], ddata['dcoord'], ddata['color_list']):\n",
    "            x = 0.5 * sum(i[1:3])\n",
    "            y = d[1]\n",
    "            if y > annotate_above:\n",
    "                plt.plot(x, y, 'o', c=c)\n",
    "                plt.annotate(\"%.3g\" % y, (x, y), xytext=(0, -5),\n",
    "                             textcoords='offset points',\n",
    "                             va='top', ha='center')\n",
    "        if max_d:\n",
    "            plt.axhline(y=max_d, c='k')\n",
    "    return ddata"
   ]
  },
  {
   "cell_type": "code",
   "execution_count": 52,
   "metadata": {},
   "outputs": [],
   "source": [
    "def kmeans_SSE(df,ax):\n",
    "    \"\"\"Plots SSE evolution for different clusters numbers \n",
    "    (from 1 to 15) for a dataframe df.\"\"\"\n",
    "    sse = []\n",
    "    Ks = range(1, 15)\n",
    "    for k in Ks:\n",
    "        km = KMeans(n_clusters=k, n_init=20, random_state=k) # create a KMeans object\n",
    "        km.fit(df)\n",
    "        #distance.append(np.sqrt(km.inertia_))\n",
    "        sse.append(km.inertia_)\n",
    "    ax.plot(Ks,sse)\n",
    "    ax.set_xlabel(\"$k$\",fontsize=20)\n",
    "    ax.set_ylabel(\"SSE\",fontsize=14)\n",
    "    return sse"
   ]
  },
  {
   "cell_type": "code",
   "execution_count": 53,
   "metadata": {},
   "outputs": [],
   "source": [
    "def kmeans_1D(attribute,n):\n",
    "    \"\"\"Prend en entrée un nparray et n clusters\"\"\"\n",
    "    km1 = KMeans(n_clusters=n) # create a KMeans object\n",
    "    km1.fit(attribute.reshape(-1,1))\n",
    "    return km1"
   ]
  },
  {
   "cell_type": "code",
   "execution_count": 54,
   "metadata": {},
   "outputs": [],
   "source": [
    "def plot_dendro_km(df,km):\n",
    "    \"\"\"Plots the dendrogram for a specified clustering km and a table df.\n",
    "    Returns the Agglomerative clustering object.\"\"\"\n",
    "    DF_Dendro1 = df.copy(deep=True)\n",
    "    agc = AgglomerativeClustering(n_clusters=len(km.cluster_centers_), \n",
    "        affinity=\"euclidean\", linkage=\"complete\")\n",
    "    agc.fit(DF_Dendro1)\n",
    "    plt.title('Hierarchical Clustering Dendrogram')\n",
    "    plot_sklearn_dendrogram(agc, labels=agc.labels_)\n",
    "    plt.show()\n",
    "    return agc"
   ]
  },
  {
   "cell_type": "code",
   "execution_count": 55,
   "metadata": {},
   "outputs": [],
   "source": [
    "def plot_kmeans1D(attr,labels):\n",
    "    \"\"\"Entree : liste ou nparray\"\"\"\n",
    "   # at  = sorted(attr )\n",
    "    at = attr\n",
    "    x_ind = range(0, len(at))\n",
    "    plt.hist(at);\n",
    "    plt.show()"
   ]
  },
  {
   "cell_type": "code",
   "execution_count": 56,
   "metadata": {},
   "outputs": [],
   "source": [
    "# 3D plot using pyplot\n",
    "def plot_km3d(km,df):\n",
    "    \"\"\"km est un objet de Kmeans. df est le dataframe \n",
    "    correspondant sur lequel on a fait l'analyse.\"\"\"\n",
    "    fig = plt.figure() #opens a figure environment\n",
    "    ax = Axes3D(fig) #to perform a 3D plot\n",
    "    x=df.loc[:,'CO2']\n",
    "    y=df.loc[:,'Population']\n",
    "    z=df.loc[:,'Life_expectancy']\n",
    "    ax.scatter(x, y, z,c=km.labels_.astype(np.float)) #plot definition and options \n",
    "    ax.scatter(km.cluster_centers_[:,0],km.cluster_centers_[:,1],km.cluster_centers_[:,2],c='r',s=100)\n",
    "    # We set the colors to be in function of the labels of each cluster, ie each category\n",
    "    # Cluster centers are in red\n",
    "    ax.set_xlabel('CO2')\n",
    "    ax.set_ylabel('Population')\n",
    "    ax.set_zlabel('Life_expectancy')"
   ]
  },
  {
   "cell_type": "code",
   "execution_count": 57,
   "metadata": {},
   "outputs": [],
   "source": [
    "def plot_pred_nbclusters(attr):\n",
    "    \"\"\"Entree : liste ou nparray\"\"\"\n",
    "   # at  = sorted(attr )\n",
    "    at =attr\n",
    "    x_ind = range(0, len(at))\n",
    "    plt.hist(at )\n",
    "    plt.show()"
   ]
  },
  {
   "cell_type": "code",
   "execution_count": 58,
   "metadata": {},
   "outputs": [],
   "source": [
    "def rand_sse(df, nb_clusters, obs_SSE):\n",
    "    SSE = []\n",
    "    for i in range(500):\n",
    "        dfv = df.values\n",
    "        np.random.shuffle(dfv)\n",
    "        km = KMeans(n_clusters= nb_clusters).fit(dfv)\n",
    "        SSE.append(km.inertia_)\n",
    "    sns.distplot(SSE)\n",
    "    plt.axvline(obs_SSE, 0,7, c= \"red\")\n",
    "    r = SSE < obs_SSE\n",
    "    return r"
   ]
  },
  {
   "cell_type": "code",
   "execution_count": 59,
   "metadata": {},
   "outputs": [],
   "source": [
    "def silhouette_kmeans(df,ax):\n",
    "    \"\"\"Plots Silhouette coefficient evolution for different values of k \n",
    "    (clusters number).\"\"\"\n",
    "    silhouette_coef = []\n",
    "    Ks = range(2, 30)\n",
    "    for k in Ks:\n",
    "        km = KMeans(n_clusters=k, n_init=20, random_state=k) \n",
    "        km.fit(df)\n",
    "        labels = km.predict(df)\n",
    "        silhouette_coef.append(silhouette_score(df, labels, \n",
    "            metric='euclidean', sample_size=None))\n",
    "    ax.plot(Ks,silhouette_coef)\n",
    "    ax.set_xlabel(\"$k$\",fontsize=20)\n",
    "    ax.set_ylabel(\"Silhouette Coef.\",fontsize=14)"
   ]
  },
  {
   "cell_type": "code",
   "execution_count": 60,
   "metadata": {},
   "outputs": [],
   "source": [
    "def silhouette_dbscan(df,minpts,min_knee):\n",
    "    \"\"\"Plots Silhouette coefficient evolution for different values \n",
    "    of eps with a specified minpts parameter.\n",
    "    Min_knee is the above limit value for eps.\n",
    "    If one cluster (or only one cluster + noise points), \n",
    "    silhouette arbitrary set to 0.\"\"\"\n",
    "    silhouette_coef = []\n",
    "    Eps = np.arange(0.01,min_knee,0.01)\n",
    "    for e in Eps:\n",
    "        db = DBSCAN(min_samples=minpts,eps=e)\n",
    "        db.fit(df)\n",
    "        labels = db.labels_\n",
    "        if len(set(labels))>2: \n",
    "            silhouette_coef.append(silhouette_score(df, \n",
    "                labels, metric='euclidean', sample_size=None))\n",
    "        else:\n",
    "            silhouette_coef.append(0)\n",
    "    plt.plot(Eps,silhouette_coef)\n",
    "    plt.xlabel(\"$eps$\",fontsize=20)\n",
    "    plt.ylabel(\"Silhouette Coef.\",fontsize=14)"
   ]
  },
  {
   "cell_type": "code",
   "execution_count": 61,
   "metadata": {},
   "outputs": [],
   "source": [
    "def stability_kmeans(df,ki):\n",
    "    silhouette_coef = []\n",
    "    sse = []\n",
    "    k = ki\n",
    "    n_init=1\n",
    "    for i in range(100):\n",
    "        km = KMeans(n_clusters=k, n_init=n_init, random_state=i)\n",
    "        km.fit(df)\n",
    "        labels = km.predict(df)\n",
    "        sse.append(km.inertia_)\n",
    "        silhouette_coef.append(silhouette_score(df, \n",
    "            labels, metric='euclidean', sample_size=None))\n",
    "    ax1=plt.subplot(2, 2, 1)\n",
    "    ax1.hist(sse)\n",
    "    ax1.set_xlabel(\"SSE\")\n",
    "    ax2=plt.subplot(2, 2, 2)\n",
    "    ax2.hist(silhouette_coef)\n",
    "    ax2.set_xlabel(\"Silhouette\")\n",
    "    plt.show()"
   ]
  },
  {
   "cell_type": "code",
   "execution_count": 62,
   "metadata": {},
   "outputs": [],
   "source": [
    "def plot_stability(df):\n",
    "    stability = []\n",
    "    Ks = range(2,30)\n",
    "    for k in Ks:\n",
    "        stability.append(compute_stability(k,df))\n",
    "    plt.plot(Ks,stability,\"o-\")\n",
    "    plt.xlabel(\"$k$\",fontsize=20)\n",
    "    plt.ylabel(\"Instability: std(Silhouette Coef. 100 iterations)\")\n",
    "    plt.show()"
   ]
  },
  {
   "cell_type": "code",
   "execution_count": 63,
   "metadata": {},
   "outputs": [],
   "source": [
    "def compute_stability(k,df,iterations=100):\n",
    "    silhouette_coef = []\n",
    "    for i in range(iterations):\n",
    "        km = KMeans(n_clusters=k, n_init=1, random_state=i)\n",
    "        km.fit(df)\n",
    "        labels = km.predict(df)\n",
    "        silhouette_coef.append(silhouette_score(df, \n",
    "            labels, metric='euclidean', sample_size=None))\n",
    "    silhouette_coef = np.asarray(silhouette_coef)\n",
    "    return(silhouette_coef.std())"
   ]
  },
  {
   "cell_type": "markdown",
   "metadata": {},
   "source": [
    "# Introduction "
   ]
  },
  {
   "cell_type": "markdown",
   "metadata": {},
   "source": [
    "Ce second Notebook est dans la continuité du premier. Dans le premier, Projet_IA_Clustering_simple, nous avions mis en place une stratégie pour l'analyse du clustering ( recherche des outliers, choix du nombre de clusters, évaluation de la qualité du clustering...). Dans seconde partie, nous allons reprendre cette stratégie sur des données en plus grande dimension."
   ]
  },
  {
   "cell_type": "markdown",
   "metadata": {},
   "source": [
    "# Importation des données"
   ]
  },
  {
   "cell_type": "markdown",
   "metadata": {},
   "source": [
    "## Définition des variables "
   ]
  },
  {
   "cell_type": "code",
   "execution_count": 64,
   "metadata": {},
   "outputs": [
    {
     "data": {
      "text/html": [
       "<div>\n",
       "<style scoped>\n",
       "    .dataframe tbody tr th:only-of-type {\n",
       "        vertical-align: middle;\n",
       "    }\n",
       "\n",
       "    .dataframe tbody tr th {\n",
       "        vertical-align: top;\n",
       "    }\n",
       "\n",
       "    .dataframe thead th {\n",
       "        text-align: right;\n",
       "    }\n",
       "</style>\n",
       "<table border=\"1\" class=\"dataframe\">\n",
       "  <thead>\n",
       "    <tr style=\"text-align: right;\">\n",
       "      <th></th>\n",
       "      <th>Time</th>\n",
       "      <th>Time Code</th>\n",
       "      <th>Country Name</th>\n",
       "      <th>Country Code</th>\n",
       "      <th>Children out of school</th>\n",
       "      <th>CO2 emissions (kt)</th>\n",
       "      <th>Non-renewable lectricity production (% of total)</th>\n",
       "      <th>Renewable electricity production excluding hydroelectric (% of total)</th>\n",
       "      <th>Life expectancy (years)</th>\n",
       "      <th>Population</th>\n",
       "      <th>Rural population</th>\n",
       "      <th>Urban population</th>\n",
       "      <th>Surface area (sq. km)</th>\n",
       "    </tr>\n",
       "  </thead>\n",
       "  <tbody>\n",
       "    <tr>\n",
       "      <th>0</th>\n",
       "      <td>2013</td>\n",
       "      <td>YR2013</td>\n",
       "      <td>Afghanistan</td>\n",
       "      <td>AFG</td>\n",
       "      <td>NaN</td>\n",
       "      <td>10014.577</td>\n",
       "      <td>NaN</td>\n",
       "      <td>NaN</td>\n",
       "      <td>62.494</td>\n",
       "      <td>31731688.0</td>\n",
       "      <td>23997724.0</td>\n",
       "      <td>7733964.0</td>\n",
       "      <td>652860.0</td>\n",
       "    </tr>\n",
       "    <tr>\n",
       "      <th>1</th>\n",
       "      <td>2013</td>\n",
       "      <td>YR2013</td>\n",
       "      <td>Albania</td>\n",
       "      <td>ALB</td>\n",
       "      <td>10957.0</td>\n",
       "      <td>5064.127</td>\n",
       "      <td>0.00000</td>\n",
       "      <td>0.0</td>\n",
       "      <td>77.702</td>\n",
       "      <td>2895092.0</td>\n",
       "      <td>1291587.0</td>\n",
       "      <td>1603505.0</td>\n",
       "      <td>28750.0</td>\n",
       "    </tr>\n",
       "    <tr>\n",
       "      <th>2</th>\n",
       "      <td>2013</td>\n",
       "      <td>YR2013</td>\n",
       "      <td>Algeria</td>\n",
       "      <td>DZA</td>\n",
       "      <td>NaN</td>\n",
       "      <td>134465.223</td>\n",
       "      <td>99.44899</td>\n",
       "      <td>0.0</td>\n",
       "      <td>75.418</td>\n",
       "      <td>38338562.0</td>\n",
       "      <td>11664124.0</td>\n",
       "      <td>26674438.0</td>\n",
       "      <td>2381740.0</td>\n",
       "    </tr>\n",
       "    <tr>\n",
       "      <th>3</th>\n",
       "      <td>2013</td>\n",
       "      <td>YR2013</td>\n",
       "      <td>American Samoa</td>\n",
       "      <td>ASM</td>\n",
       "      <td>NaN</td>\n",
       "      <td>NaN</td>\n",
       "      <td>NaN</td>\n",
       "      <td>NaN</td>\n",
       "      <td>NaN</td>\n",
       "      <td>55307.0</td>\n",
       "      <td>6997.0</td>\n",
       "      <td>48310.0</td>\n",
       "      <td>200.0</td>\n",
       "    </tr>\n",
       "    <tr>\n",
       "      <th>4</th>\n",
       "      <td>2013</td>\n",
       "      <td>YR2013</td>\n",
       "      <td>Andorra</td>\n",
       "      <td>AND</td>\n",
       "      <td>NaN</td>\n",
       "      <td>476.710</td>\n",
       "      <td>NaN</td>\n",
       "      <td>NaN</td>\n",
       "      <td>NaN</td>\n",
       "      <td>80788.0</td>\n",
       "      <td>9261.0</td>\n",
       "      <td>71527.0</td>\n",
       "      <td>470.0</td>\n",
       "    </tr>\n",
       "  </tbody>\n",
       "</table>\n",
       "</div>"
      ],
      "text/plain": [
       "   Time Time Code    Country Name Country Code  Children out of school  \\\n",
       "0  2013    YR2013     Afghanistan          AFG                     NaN   \n",
       "1  2013    YR2013         Albania          ALB                 10957.0   \n",
       "2  2013    YR2013         Algeria          DZA                     NaN   \n",
       "3  2013    YR2013  American Samoa          ASM                     NaN   \n",
       "4  2013    YR2013         Andorra          AND                     NaN   \n",
       "\n",
       "   CO2 emissions (kt)  Non-renewable lectricity production (% of total)  \\\n",
       "0           10014.577                                               NaN   \n",
       "1            5064.127                                           0.00000   \n",
       "2          134465.223                                          99.44899   \n",
       "3                 NaN                                               NaN   \n",
       "4             476.710                                               NaN   \n",
       "\n",
       "   Renewable electricity production excluding hydroelectric (% of total)  \\\n",
       "0                                                NaN                       \n",
       "1                                                0.0                       \n",
       "2                                                0.0                       \n",
       "3                                                NaN                       \n",
       "4                                                NaN                       \n",
       "\n",
       "   Life expectancy (years)  Population  Rural population  Urban population  \\\n",
       "0                   62.494  31731688.0        23997724.0         7733964.0   \n",
       "1                   77.702   2895092.0         1291587.0         1603505.0   \n",
       "2                   75.418  38338562.0        11664124.0        26674438.0   \n",
       "3                      NaN     55307.0            6997.0           48310.0   \n",
       "4                      NaN     80788.0            9261.0           71527.0   \n",
       "\n",
       "   Surface area (sq. km)  \n",
       "0               652860.0  \n",
       "1                28750.0  \n",
       "2              2381740.0  \n",
       "3                  200.0  \n",
       "4                  470.0  "
      ]
     },
     "execution_count": 64,
     "metadata": {},
     "output_type": "execute_result"
    }
   ],
   "source": [
    "df_global = pds.read_csv('./Data2/Data2.txt', sep=\"\\t\")\n",
    "df_global.head()"
   ]
  },
  {
   "cell_type": "code",
   "execution_count": 65,
   "metadata": {},
   "outputs": [
    {
     "name": "stderr",
     "output_type": "stream",
     "text": [
      "/Users/lisa/anaconda2/lib/python2.7/site-packages/ipykernel_launcher.py:2: FutureWarning: convert_objects is deprecated.  To re-infer data dtypes for object columns, use DataFrame.infer_objects()\n",
      "For all other conversions use the data-type specific converters pd.to_datetime, pd.to_timedelta and pd.to_numeric.\n",
      "  \n"
     ]
    }
   ],
   "source": [
    "df_GDP = pds.read_csv('./Data_GDP/Data_GDP.txt', sep=\"\\t\")\n",
    "df_GDP =df_GDP.convert_objects(convert_numeric=True)"
   ]
  },
  {
   "cell_type": "markdown",
   "metadata": {},
   "source": [
    "On choisit de construire les attributs dérivés suivants : \n",
    "* CO2/habitant\n",
    "* PIB/habitant\n",
    "* population unbaine/population totale \n",
    "\n",
    "En effet, on veut vérifier le lien entre les variables à ressources égales (en considérant que les ressources correspondent au nombre  d'habitants).\n",
    "\n",
    "On a choisi ces attributs qui n'ont pas de lien direct entre eux, même si on peut s'attendre à une corrélation relative entre le taux de CO2 par habitant et la population urbaine."
   ]
  },
  {
   "cell_type": "code",
   "execution_count": 66,
   "metadata": {},
   "outputs": [
    {
     "data": {
      "text/html": [
       "<div>\n",
       "<style scoped>\n",
       "    .dataframe tbody tr th:only-of-type {\n",
       "        vertical-align: middle;\n",
       "    }\n",
       "\n",
       "    .dataframe tbody tr th {\n",
       "        vertical-align: top;\n",
       "    }\n",
       "\n",
       "    .dataframe thead th {\n",
       "        text-align: right;\n",
       "    }\n",
       "</style>\n",
       "<table border=\"1\" class=\"dataframe\">\n",
       "  <thead>\n",
       "    <tr style=\"text-align: right;\">\n",
       "      <th></th>\n",
       "      <th>Life_expectancy</th>\n",
       "      <th>CO2_hab</th>\n",
       "      <th>GDP_hab</th>\n",
       "      <th>Prop_urb</th>\n",
       "      <th>Country</th>\n",
       "    </tr>\n",
       "  </thead>\n",
       "  <tbody>\n",
       "    <tr>\n",
       "      <th>0</th>\n",
       "      <td>62.494</td>\n",
       "      <td>0.000316</td>\n",
       "      <td>638.612543</td>\n",
       "      <td>0.243730</td>\n",
       "      <td>Afghanistan</td>\n",
       "    </tr>\n",
       "    <tr>\n",
       "      <th>1</th>\n",
       "      <td>77.702</td>\n",
       "      <td>0.001749</td>\n",
       "      <td>4413.081697</td>\n",
       "      <td>0.553870</td>\n",
       "      <td>Albania</td>\n",
       "    </tr>\n",
       "    <tr>\n",
       "      <th>2</th>\n",
       "      <td>75.418</td>\n",
       "      <td>0.003507</td>\n",
       "      <td>5471.123389</td>\n",
       "      <td>0.695760</td>\n",
       "      <td>Algeria</td>\n",
       "    </tr>\n",
       "    <tr>\n",
       "      <th>3</th>\n",
       "      <td>NaN</td>\n",
       "      <td>NaN</td>\n",
       "      <td>11589.853002</td>\n",
       "      <td>0.873488</td>\n",
       "      <td>American Samoa</td>\n",
       "    </tr>\n",
       "    <tr>\n",
       "      <th>4</th>\n",
       "      <td>NaN</td>\n",
       "      <td>0.005901</td>\n",
       "      <td>40619.711298</td>\n",
       "      <td>0.885367</td>\n",
       "      <td>Andorra</td>\n",
       "    </tr>\n",
       "  </tbody>\n",
       "</table>\n",
       "</div>"
      ],
      "text/plain": [
       "   Life_expectancy   CO2_hab       GDP_hab  Prop_urb        Country \n",
       "0           62.494  0.000316    638.612543  0.243730     Afghanistan\n",
       "1           77.702  0.001749   4413.081697  0.553870         Albania\n",
       "2           75.418  0.003507   5471.123389  0.695760         Algeria\n",
       "3              NaN       NaN  11589.853002  0.873488  American Samoa\n",
       "4              NaN  0.005901  40619.711298  0.885367         Andorra"
      ]
     },
     "execution_count": 66,
     "metadata": {},
     "output_type": "execute_result"
    }
   ],
   "source": [
    "df = pds.DataFrame()\n",
    "df ['Life_expectancy'] = df_global['Life expectancy (years)']\n",
    "df ['CO2_hab']  = df_global['CO2 emissions (kt)']/df_global['Population']\n",
    "df ['GDP_hab'] =df_GDP['GDP (current US$)'] / df_global['Population']\n",
    "df ['Prop_urb'] = df_global['Urban population']/df_global['Population']\n",
    "df ['Country '] = df_global['Country Name']\n",
    "df.head() "
   ]
  },
  {
   "cell_type": "markdown",
   "metadata": {},
   "source": [
    "## Nettoyage des lignes"
   ]
  },
  {
   "cell_type": "markdown",
   "metadata": {},
   "source": [
    "Supression des lignes contenant des valeurs manquantes"
   ]
  },
  {
   "cell_type": "code",
   "execution_count": 67,
   "metadata": {},
   "outputs": [],
   "source": [
    "filtered_df = df.dropna(subset=['Life_expectancy', \n",
    "    'CO2_hab','GDP_hab', 'Prop_urb'])"
   ]
  },
  {
   "cell_type": "markdown",
   "metadata": {},
   "source": [
    "## Sélection des données à analyser"
   ]
  },
  {
   "cell_type": "code",
   "execution_count": 68,
   "metadata": {},
   "outputs": [],
   "source": [
    "df_clustering=filtered_df[['Life_expectancy', 'CO2_hab','GDP_hab', 'Prop_urb']]"
   ]
  },
  {
   "cell_type": "markdown",
   "metadata": {},
   "source": [
    "## Normalisation des données"
   ]
  },
  {
   "cell_type": "markdown",
   "metadata": {},
   "source": [
    "### Centrage"
   ]
  },
  {
   "cell_type": "markdown",
   "metadata": {},
   "source": [
    "On centre les données car elles sont exprimées dans des variables différentes et ont des ordres de grandeur complètement différents."
   ]
  },
  {
   "cell_type": "code",
   "execution_count": 69,
   "metadata": {},
   "outputs": [
    {
     "data": {
      "image/png": "[encoded data removed]",
      "text/plain": [
       "<Figure size 432x288 with 1 Axes>"
      ]
     },
     "metadata": {
      "needs_background": "light"
     },
     "output_type": "display_data"
    }
   ],
   "source": [
    "ax=sns.boxplot(data=(df_clustering - df_clustering.mean()), orient=\"v\", \n",
    "    palette=\"Set2\")"
   ]
  },
  {
   "cell_type": "markdown",
   "metadata": {},
   "source": [
    "Nous devons également réduire en raison de la variance élevée du PIB par habitant."
   ]
  },
  {
   "cell_type": "markdown",
   "metadata": {},
   "source": [
    "### Réduction "
   ]
  },
  {
   "cell_type": "code",
   "execution_count": 70,
   "metadata": {},
   "outputs": [
    {
     "data": {
      "image/png": "[encoded data removed]",
      "text/plain": [
       "<Figure size 432x288 with 1 Axes>"
      ]
     },
     "metadata": {
      "needs_background": "light"
     },
     "output_type": "display_data"
    }
   ],
   "source": [
    "ax=sns.boxplot(data=(( df_clustering - df_clustering.mean() )/df_clustering.std()), \n",
    "    orient=\"v\", palette=\"Set2\")\n",
    "_=ax.set_ylim(-2,2)"
   ]
  },
  {
   "cell_type": "markdown",
   "metadata": {},
   "source": [
    "Ce sont les données finales sur lesquelles on va travailler."
   ]
  },
  {
   "cell_type": "code",
   "execution_count": 71,
   "metadata": {},
   "outputs": [],
   "source": [
    "df_clustering_norm=(df_clustering - df_clustering.mean()\n",
    "    )/df_clustering.std()"
   ]
  },
  {
   "cell_type": "markdown",
   "metadata": {},
   "source": [
    "# Recherche des outliers"
   ]
  },
  {
   "cell_type": "markdown",
   "metadata": {},
   "source": [
    "Comme précédemment nous allons chercher les outliers grâce à DBSCAN. La première étape sera donc de paramétriser ce modèle en traçant la distance pour chaque point à son 4e voisin plus proche grâce à l'algorithme des KNN."
   ]
  },
  {
   "cell_type": "markdown",
   "metadata": {},
   "source": [
    "## Définition des paramètres de DBSCAN"
   ]
  },
  {
   "cell_type": "code",
   "execution_count": 72,
   "metadata": {},
   "outputs": [],
   "source": [
    "nbrs = NearestNeighbors(n_neighbors=4, algorithm='ball_tree').fit(df_clustering_norm)\n",
    "distances, indices = nbrs.kneighbors(df_clustering_norm)\n",
    "distances_to_4 = distances[:,3]\n",
    "distances_to_4 = sorted(distances_to_4 , reverse = False)"
   ]
  },
  {
   "cell_type": "code",
   "execution_count": 73,
   "metadata": {},
   "outputs": [
    {
     "data": {
      "image/png": "[encoded data removed]",
      "text/plain": [
       "<Figure size 432x288 with 1 Axes>"
      ]
     },
     "metadata": {
      "needs_background": "light"
     },
     "output_type": "display_data"
    }
   ],
   "source": [
    "Index = range(0,len(distances_to_4))\n",
    "plt.plot(Index , distances_to_4)\n",
    "plt.xlabel('''Points sorted according to their \n",
    "    distance to the 4th neighbor''')\n",
    "t=plt.ylabel('''Distance to the 4th \n",
    "    neighbour''')"
   ]
  },
  {
   "cell_type": "markdown",
   "metadata": {},
   "source": [
    "Le graphique ci-dessus montre un coude pour les pays d'indices entre 160 et 165 : mais en conservant cet intervalle DBSCAN ne construit qu'un cluster. Ceci implique que les données ont une densité assez homogène. Pour repérer les pays \"aberrants\", il faut considérer les pays d'indices 180 à 185 (par rapport à la liste triée de la distance au quatrième voisin)."
   ]
  },
  {
   "cell_type": "code",
   "execution_count": 74,
   "metadata": {},
   "outputs": [
    {
     "data": {
      "text/plain": [
       "2.03497490342813"
      ]
     },
     "execution_count": 74,
     "metadata": {},
     "output_type": "execute_result"
    }
   ],
   "source": [
    "mean_dist_knee = sum(distances_to_4[180:185])/5\n",
    "mean_dist_knee"
   ]
  },
  {
   "cell_type": "markdown",
   "metadata": {},
   "source": [
    "On considérera donc un rayon de recherche d'environs 2.034, et un nombre minimum de point égal à trois, pour considérer un cluster."
   ]
  },
  {
   "cell_type": "markdown",
   "metadata": {},
   "source": [
    "## Annalyse des résultats de DBSCAN"
   ]
  },
  {
   "cell_type": "code",
   "execution_count": 75,
   "metadata": {},
   "outputs": [
    {
     "data": {
      "text/plain": [
       "3"
      ]
     },
     "execution_count": 75,
     "metadata": {},
     "output_type": "execute_result"
    }
   ],
   "source": [
    "outliers_det = DBSCAN(min_samples=3,eps=mean_dist_knee).fit(df_clustering_norm)\n",
    "sum(outliers_det.labels_ == -1) "
   ]
  },
  {
   "cell_type": "markdown",
   "metadata": {},
   "source": [
    "D'après le rayon définit ci-dessus, DBSCAN exclut 11 pays considérés comme outliers."
   ]
  },
  {
   "cell_type": "code",
   "execution_count": 76,
   "metadata": {},
   "outputs": [],
   "source": [
    "df_clustering_norm_lab= df_clustering_norm.copy(deep=True)\n",
    "df_clustering_norm_lab['Labels'] = outliers_det.labels_"
   ]
  },
  {
   "cell_type": "markdown",
   "metadata": {},
   "source": [
    "# Représentation de DBSCAN"
   ]
  },
  {
   "cell_type": "code",
   "execution_count": 78,
   "metadata": {},
   "outputs": [
    {
     "data": {
      "image/png": "[encoded data removed]",
      "text/plain": [
       "<Figure size 432x288 with 1 Axes>"
      ]
     },
     "metadata": {
      "needs_background": "light"
     },
     "output_type": "display_data"
    }
   ],
   "source": [
    "parallel_coordinates(df_clustering_norm_lab,'Labels', alpha=0.8)\n",
    "plt.show()"
   ]
  },
  {
   "cell_type": "code",
   "execution_count": 79,
   "metadata": {},
   "outputs": [
    {
     "name": "stdout",
     "output_type": "stream",
     "text": [
      "     Life_expectancy   CO2_hab   GDP_hab  Prop_urb  Labels  \\\n",
      "114         1.337238 -0.542794  6.456734 -1.817349      -1   \n",
      "159         0.790985  5.578079  2.962941  1.774427      -1   \n",
      "196        -0.110061  5.029676  0.150981 -0.150322      -1   \n",
      "\n",
      "                 Country  \n",
      "114        Liechtenstein  \n",
      "159                Qatar  \n",
      "196  Trinidad and Tobago  \n"
     ]
    }
   ],
   "source": [
    "df_clustering_countries= df_clustering_norm_lab.copy(deep=True) # Copy of DF_kmeans1\n",
    "df_clustering_countries['Country'] = filtered_df.iloc[:, 4] \n",
    "print(df_clustering_countries[df_clustering_countries['Labels'] == -1])"
   ]
  },
  {
   "cell_type": "markdown",
   "metadata": {},
   "source": [
    "DBSCAN exclut le Lichetenstein à cause du PIB par habitant élevé et la République de Trinite et Tobago à cause des émissions de CO2 par habitant élevées. Le Quatar est exclu à cause des deux."
   ]
  },
  {
   "cell_type": "code",
   "execution_count": 80,
   "metadata": {},
   "outputs": [],
   "source": [
    "df_without_outliers=df_clustering_norm_lab[df_clustering_norm_lab.Labels != -1]\n",
    "df_without_outliers=df_without_outliers.drop('Labels',axis=1)"
   ]
  },
  {
   "cell_type": "markdown",
   "metadata": {},
   "source": [
    "# Clustering"
   ]
  },
  {
   "cell_type": "markdown",
   "metadata": {},
   "source": [
    "##  Détermination des centroïdes initiaux à l'aide d'un clustering hiérarchique\n"
   ]
  },
  {
   "cell_type": "code",
   "execution_count": 81,
   "metadata": {},
   "outputs": [
    {
     "data": {
      "text/plain": [
       "AgglomerativeClustering(affinity='euclidean', compute_full_tree='auto',\n",
       "            connectivity=None, linkage='complete', memory=None,\n",
       "            n_clusters=5, pooling_func='deprecated')"
      ]
     },
     "execution_count": 81,
     "metadata": {},
     "output_type": "execute_result"
    }
   ],
   "source": [
    "acwo = AgglomerativeClustering(affinity=\"euclidean\", \n",
    "    linkage=\"complete\",n_clusters=5)\n",
    "acwo.fit(df_without_outliers)"
   ]
  },
  {
   "cell_type": "code",
   "execution_count": 83,
   "metadata": {},
   "outputs": [
    {
     "data": {
      "image/png": "[encoded data removed]",
      "text/plain": [
       "<Figure size 432x288 with 1 Axes>"
      ]
     },
     "metadata": {
      "needs_background": "light"
     },
     "output_type": "display_data"
    }
   ],
   "source": [
    "Z = linkage(df_without_outliers, 'complete')\n",
    "# Z is a linkage matrix where distances are \n",
    "# calculated owing complete method which is also named max\n",
    "dn = dendrogram(Z)\n",
    "plt.title('Hierarchical Clustering Dendrogram (truncated)')\n",
    "plt.xlabel('sample index or (cluster size)')\n",
    "plt.ylabel('distance')\n",
    "plt.show()"
   ]
  },
  {
   "cell_type": "code",
   "execution_count": 84,
   "metadata": {},
   "outputs": [
    {
     "data": {
      "image/png": "[encoded data removed]",
      "text/plain": [
       "<Figure size 432x288 with 1 Axes>"
      ]
     },
     "metadata": {
      "needs_background": "light"
     },
     "output_type": "display_data"
    }
   ],
   "source": [
    "max_d = 3.2\n",
    "fancy_dendrogram(\n",
    "    Z,\n",
    "    truncate_mode='lastp',\n",
    "    p=12,\n",
    "    leaf_rotation=90.,\n",
    "    leaf_font_size=12.,\n",
    "    show_contracted=True,\n",
    "    annotate_above=10,\n",
    "    max_d=max_d,  # plot a horizontal cut-off line\n",
    ")\n",
    "plt.show()"
   ]
  },
  {
   "cell_type": "markdown",
   "metadata": {},
   "source": [
    "Avec le clustering hiérarchique, on peut aussi initialiser les centroides de Kmeans."
   ]
  },
  {
   "cell_type": "code",
   "execution_count": 85,
   "metadata": {},
   "outputs": [],
   "source": [
    "clusters = fcluster(Z, max_d, criterion='distance')\n",
    "df_without_outliers_dendro_cluster = df_without_outliers.copy()\n",
    "df_without_outliers_dendro_cluster['clusters'] = clusters"
   ]
  },
  {
   "cell_type": "code",
   "execution_count": 87,
   "metadata": {},
   "outputs": [
    {
     "data": {
      "text/html": [
       "<div>\n",
       "<style scoped>\n",
       "    .dataframe tbody tr th:only-of-type {\n",
       "        vertical-align: middle;\n",
       "    }\n",
       "\n",
       "    .dataframe tbody tr th {\n",
       "        vertical-align: top;\n",
       "    }\n",
       "\n",
       "    .dataframe thead th {\n",
       "        text-align: right;\n",
       "    }\n",
       "</style>\n",
       "<table border=\"1\" class=\"dataframe\">\n",
       "  <thead>\n",
       "    <tr style=\"text-align: right;\">\n",
       "      <th>col_0</th>\n",
       "      <th>count</th>\n",
       "    </tr>\n",
       "    <tr>\n",
       "      <th>clusters</th>\n",
       "      <th></th>\n",
       "    </tr>\n",
       "  </thead>\n",
       "  <tbody>\n",
       "    <tr>\n",
       "      <th>1</th>\n",
       "      <td>86</td>\n",
       "    </tr>\n",
       "    <tr>\n",
       "      <th>2</th>\n",
       "      <td>23</td>\n",
       "    </tr>\n",
       "    <tr>\n",
       "      <th>3</th>\n",
       "      <td>35</td>\n",
       "    </tr>\n",
       "    <tr>\n",
       "      <th>4</th>\n",
       "      <td>5</td>\n",
       "    </tr>\n",
       "    <tr>\n",
       "      <th>5</th>\n",
       "      <td>7</td>\n",
       "    </tr>\n",
       "    <tr>\n",
       "      <th>6</th>\n",
       "      <td>28</td>\n",
       "    </tr>\n",
       "  </tbody>\n",
       "</table>\n",
       "</div>"
      ],
      "text/plain": [
       "col_0     count\n",
       "clusters       \n",
       "1            86\n",
       "2            23\n",
       "3            35\n",
       "4             5\n",
       "5             7\n",
       "6            28"
      ]
     },
     "execution_count": 87,
     "metadata": {},
     "output_type": "execute_result"
    }
   ],
   "source": [
    "cluster_dendro_tab = pds.crosstab(index=df_without_outliers_dendro_cluster\n",
    "    ['clusters'], columns=\"count\")\n",
    "cluster_dendro_tab"
   ]
  },
  {
   "cell_type": "markdown",
   "metadata": {},
   "source": [
    "Les groupes sont assez déséquilibrés, le cluster 1 est composé de 86 pays et le cluster 5 de 7 pays."
   ]
  },
  {
   "cell_type": "code",
   "execution_count": null,
   "metadata": {},
   "outputs": [],
   "source": [
    "# NE PAS COMPILER !!!!!!\n",
    "fig=plt.figure(figsize=(10, 8), dpi= 80, facecolor='w', edgecolor='k')\n",
    "parallel_coordinates(df_without_outliers_dendro_cluster,'clusters', alpha=0.2,  color=('violet' , 'mediumblue', 'gold', 'firebrick', 'forestgreen') , linewidth = 3)\n",
    "plt.show()"
   ]
  },
  {
   "cell_type": "code",
   "execution_count": 88,
   "metadata": {},
   "outputs": [],
   "source": [
    "df_wo_dendro_cluster_country=df_without_outliers_dendro_cluster.copy()\n",
    "df_wo_dendro_cluster_country['Country'] = filtered_df.iloc[:, 4] \n",
    "\n",
    "Subset_df_wo_dendro_cluster_country =df_wo_dendro_cluster_country.iloc[:,4:]\n",
    "\n",
    "#Subset_df_wo_dendro_cluster_country[Subset_df_wo_dendro_cluster_country['clusters'] == 2]"
   ]
  },
  {
   "cell_type": "markdown",
   "metadata": {},
   "source": [
    "* Le cluster 4 (rose) rassemble les pays pays ayant la plus faible espérance de vie. On retrouve ainsi des pays comme le Burkina Faso, la Somalie ou encore la Zambie.\n",
    "* Le cluster 5 (jaune) rassemble des pays avec une espérance de vie plus forte que les pays du cluster 4. Ces pays ont le même taux d'urbanisation que les pays du cluster 4, mais un taux d'émission de CO2 et un PIB par habitant plus grand.\n",
    "* Le cluster 1 (vert) rassemble les pays qui ont de fortes émissions de CO2 par habitant. On retrouve les pays producteurs de pétrole (Arabie Saoudite Oman), ou les pays producteur de gaz comme la Russie, ou les pays dont la principale ressource d'énergie est le charbon comme l'Estonie.\n",
    "* Le cluster 2 (rouge) rassemble les pays riches qui émettent nécessairement beaucoup de CO2. On retrouve les pays de l'Europe Occidentale, le Canada ou encore l'Australie.\n",
    "* Finalement le cluster 3 rouge rassemble les pays que nous pourrions qualifier de médians. "
   ]
  },
  {
   "cell_type": "code",
   "execution_count": 89,
   "metadata": {},
   "outputs": [
    {
     "data": {
      "text/plain": [
       "(6, 4)"
      ]
     },
     "execution_count": 89,
     "metadata": {},
     "output_type": "execute_result"
    }
   ],
   "source": [
    "means = df_without_outliers_dendro_cluster.groupby('clusters').mean()\n",
    "Means =np.array(means)\n",
    "Means.shape\n"
   ]
  },
  {
   "cell_type": "markdown",
   "metadata": {},
   "source": [
    "## Kmeans"
   ]
  },
  {
   "cell_type": "markdown",
   "metadata": {},
   "source": [
    "Pour définir le nombre de clusters optimal, on se base sur la SSE et le coefficient Silhouette.\n",
    "\n",
    "La SSE permet de mesurer à quel point les objets sont liés à leur cluster (c'est la somme des carrés des écarts entre chaque point et son centroïde).\n",
    "\n",
    "Le coefficient Silhouette traduit d'une part le degré d'apartenance des objets à leur cluster (en calculant la distance moyenne de chaque point aux différents points de son cluster), et d'autre part la séparation des clusters. Plus le coefficient Silhouette est grand, meilleur est le clustering."
   ]
  },
  {
   "cell_type": "code",
   "execution_count": 90,
   "metadata": {
    "scrolled": true
   },
   "outputs": [
    {
     "data": {
      "image/png": "[encoded data removed]",
      "text/plain": [
       "<Figure size 432x288 with 2 Axes>"
      ]
     },
     "metadata": {
      "needs_background": "light"
     },
     "output_type": "display_data"
    }
   ],
   "source": [
    "fig=plt.figure()\n",
    "ax = fig.add_subplot(121)\n",
    "sse=kmeans_SSE(df_without_outliers,ax)\n",
    "ax = fig.add_subplot(122)\n",
    "sil=silhouette_kmeans(df_without_outliers,ax)"
   ]
  },
  {
   "cell_type": "markdown",
   "metadata": {},
   "source": [
    "La SSE suggère entre 2 et 5 clusters et le coefficient silhouette moins de 10. On choisira donc 5 clusters."
   ]
  },
  {
   "cell_type": "markdown",
   "metadata": {},
   "source": [
    "###  Premier Kmeans avec des centroïdes initiaux aléatoires"
   ]
  },
  {
   "cell_type": "code",
   "execution_count": 91,
   "metadata": {},
   "outputs": [],
   "source": [
    "km=KMeans(n_clusters=5).fit(df_without_outliers)"
   ]
  },
  {
   "cell_type": "markdown",
   "metadata": {},
   "source": [
    "###  Second Kmeans avec des centroïdes  initiaux du clustering hiérarchique"
   ]
  },
  {
   "cell_type": "markdown",
   "metadata": {},
   "source": [
    "On initialise des centroïdes grâce au clustering hiérarchique avec 5 clusters : cela permet de ne pas répéter KMeans plusieurs fois."
   ]
  },
  {
   "cell_type": "code",
   "execution_count": 94,
   "metadata": {},
   "outputs": [
    {
     "ename": "ValueError",
     "evalue": "The shape of the initial centers ((6, 4)) does not match the number of clusters 5",
     "output_type": "error",
     "traceback": [
      "\u001b[0;31m---------------------------------------------------------------------------\u001b[0m",
      "\u001b[0;31mValueError\u001b[0m                                Traceback (most recent call last)",
      "\u001b[0;32m<ipython-input-94-e547def12dbf>\u001b[0m in \u001b[0;36m<module>\u001b[0;34m()\u001b[0m\n\u001b[1;32m      1\u001b[0m \u001b[0;31m# NE COMPILE PAS ???\u001b[0m\u001b[0;34m\u001b[0m\u001b[0;34m\u001b[0m\u001b[0m\n\u001b[0;32m----> 2\u001b[0;31m \u001b[0mkmdendro_max\u001b[0m \u001b[0;34m=\u001b[0m \u001b[0mKMeans\u001b[0m\u001b[0;34m(\u001b[0m\u001b[0mn_clusters\u001b[0m\u001b[0;34m=\u001b[0m\u001b[0;36m5\u001b[0m\u001b[0;34m,\u001b[0m \u001b[0minit\u001b[0m \u001b[0;34m=\u001b[0m \u001b[0mMeans\u001b[0m\u001b[0;34m)\u001b[0m\u001b[0;34m.\u001b[0m\u001b[0mfit\u001b[0m\u001b[0;34m(\u001b[0m\u001b[0mdf_without_outliers\u001b[0m\u001b[0;34m)\u001b[0m\u001b[0;34m\u001b[0m\u001b[0m\n\u001b[0m",
      "\u001b[0;32m/Users/lisa/anaconda2/lib/python2.7/site-packages/sklearn/cluster/k_means_.pyc\u001b[0m in \u001b[0;36mfit\u001b[0;34m(self, X, y, sample_weight)\u001b[0m\n\u001b[1;32m    969\u001b[0m                 \u001b[0mtol\u001b[0m\u001b[0;34m=\u001b[0m\u001b[0mself\u001b[0m\u001b[0;34m.\u001b[0m\u001b[0mtol\u001b[0m\u001b[0;34m,\u001b[0m \u001b[0mrandom_state\u001b[0m\u001b[0;34m=\u001b[0m\u001b[0mrandom_state\u001b[0m\u001b[0;34m,\u001b[0m \u001b[0mcopy_x\u001b[0m\u001b[0;34m=\u001b[0m\u001b[0mself\u001b[0m\u001b[0;34m.\u001b[0m\u001b[0mcopy_x\u001b[0m\u001b[0;34m,\u001b[0m\u001b[0;34m\u001b[0m\u001b[0m\n\u001b[1;32m    970\u001b[0m                 \u001b[0mn_jobs\u001b[0m\u001b[0;34m=\u001b[0m\u001b[0mself\u001b[0m\u001b[0;34m.\u001b[0m\u001b[0mn_jobs\u001b[0m\u001b[0;34m,\u001b[0m \u001b[0malgorithm\u001b[0m\u001b[0;34m=\u001b[0m\u001b[0mself\u001b[0m\u001b[0;34m.\u001b[0m\u001b[0malgorithm\u001b[0m\u001b[0;34m,\u001b[0m\u001b[0;34m\u001b[0m\u001b[0m\n\u001b[0;32m--> 971\u001b[0;31m                 return_n_iter=True)\n\u001b[0m\u001b[1;32m    972\u001b[0m         \u001b[0;32mreturn\u001b[0m \u001b[0mself\u001b[0m\u001b[0;34m\u001b[0m\u001b[0m\n\u001b[1;32m    973\u001b[0m \u001b[0;34m\u001b[0m\u001b[0m\n",
      "\u001b[0;32m/Users/lisa/anaconda2/lib/python2.7/site-packages/sklearn/cluster/k_means_.pyc\u001b[0m in \u001b[0;36mk_means\u001b[0;34m(X, n_clusters, sample_weight, init, precompute_distances, n_init, max_iter, verbose, tol, random_state, copy_x, n_jobs, algorithm, return_n_iter)\u001b[0m\n\u001b[1;32m    334\u001b[0m     \u001b[0;32mif\u001b[0m \u001b[0mhasattr\u001b[0m\u001b[0;34m(\u001b[0m\u001b[0minit\u001b[0m\u001b[0;34m,\u001b[0m \u001b[0;34m'__array__'\u001b[0m\u001b[0;34m)\u001b[0m\u001b[0;34m:\u001b[0m\u001b[0;34m\u001b[0m\u001b[0m\n\u001b[1;32m    335\u001b[0m         \u001b[0minit\u001b[0m \u001b[0;34m=\u001b[0m \u001b[0mcheck_array\u001b[0m\u001b[0;34m(\u001b[0m\u001b[0minit\u001b[0m\u001b[0;34m,\u001b[0m \u001b[0mdtype\u001b[0m\u001b[0;34m=\u001b[0m\u001b[0mX\u001b[0m\u001b[0;34m.\u001b[0m\u001b[0mdtype\u001b[0m\u001b[0;34m.\u001b[0m\u001b[0mtype\u001b[0m\u001b[0;34m,\u001b[0m \u001b[0mcopy\u001b[0m\u001b[0;34m=\u001b[0m\u001b[0mTrue\u001b[0m\u001b[0;34m)\u001b[0m\u001b[0;34m\u001b[0m\u001b[0m\n\u001b[0;32m--> 336\u001b[0;31m         \u001b[0m_validate_center_shape\u001b[0m\u001b[0;34m(\u001b[0m\u001b[0mX\u001b[0m\u001b[0;34m,\u001b[0m \u001b[0mn_clusters\u001b[0m\u001b[0;34m,\u001b[0m \u001b[0minit\u001b[0m\u001b[0;34m)\u001b[0m\u001b[0;34m\u001b[0m\u001b[0m\n\u001b[0m\u001b[1;32m    337\u001b[0m \u001b[0;34m\u001b[0m\u001b[0m\n\u001b[1;32m    338\u001b[0m         \u001b[0;32mif\u001b[0m \u001b[0mn_init\u001b[0m \u001b[0;34m!=\u001b[0m \u001b[0;36m1\u001b[0m\u001b[0;34m:\u001b[0m\u001b[0;34m\u001b[0m\u001b[0m\n",
      "\u001b[0;32m/Users/lisa/anaconda2/lib/python2.7/site-packages/sklearn/cluster/k_means_.pyc\u001b[0m in \u001b[0;36m_validate_center_shape\u001b[0;34m(X, n_centers, centers)\u001b[0m\n\u001b[1;32m    152\u001b[0m         raise ValueError('The shape of the initial centers (%s) '\n\u001b[1;32m    153\u001b[0m                          \u001b[0;34m'does not match the number of clusters %i'\u001b[0m\u001b[0;34m\u001b[0m\u001b[0m\n\u001b[0;32m--> 154\u001b[0;31m                          % (centers.shape, n_centers))\n\u001b[0m\u001b[1;32m    155\u001b[0m     \u001b[0;32mif\u001b[0m \u001b[0mcenters\u001b[0m\u001b[0;34m.\u001b[0m\u001b[0mshape\u001b[0m\u001b[0;34m[\u001b[0m\u001b[0;36m1\u001b[0m\u001b[0;34m]\u001b[0m \u001b[0;34m!=\u001b[0m \u001b[0mX\u001b[0m\u001b[0;34m.\u001b[0m\u001b[0mshape\u001b[0m\u001b[0;34m[\u001b[0m\u001b[0;36m1\u001b[0m\u001b[0;34m]\u001b[0m\u001b[0;34m:\u001b[0m\u001b[0;34m\u001b[0m\u001b[0m\n\u001b[1;32m    156\u001b[0m         raise ValueError(\n",
      "\u001b[0;31mValueError\u001b[0m: The shape of the initial centers ((6, 4)) does not match the number of clusters 5"
     ]
    }
   ],
   "source": [
    "# NE COMPILE PAS ???\n",
    "kmdendro_max = KMeans(n_clusters=5, init = Means).fit(df_without_outliers)"
   ]
  },
  {
   "cell_type": "code",
   "execution_count": 93,
   "metadata": {},
   "outputs": [
    {
     "name": "stdout",
     "output_type": "stream",
     "text": [
      "Centroïdes avec des centroïdes  initiaux du clustering hiérarchique\n"
     ]
    },
    {
     "ename": "NameError",
     "evalue": "name 'kmdendro_max' is not defined",
     "output_type": "error",
     "traceback": [
      "\u001b[0;31m---------------------------------------------------------------------------\u001b[0m",
      "\u001b[0;31mNameError\u001b[0m                                 Traceback (most recent call last)",
      "\u001b[0;32m<ipython-input-93-bfce55b497d4>\u001b[0m in \u001b[0;36m<module>\u001b[0;34m()\u001b[0m\n\u001b[1;32m      1\u001b[0m \u001b[0;32mprint\u001b[0m\u001b[0;34m(\u001b[0m\u001b[0;34m'Centroïdes avec des centroïdes  initiaux du clustering hiérarchique'\u001b[0m\u001b[0;34m)\u001b[0m\u001b[0;34m\u001b[0m\u001b[0m\n\u001b[0;32m----> 2\u001b[0;31m \u001b[0;32mprint\u001b[0m\u001b[0;34m(\u001b[0m\u001b[0mkmdendro_max\u001b[0m\u001b[0;34m.\u001b[0m\u001b[0mcluster_centers_\u001b[0m\u001b[0;34m)\u001b[0m\u001b[0;34m\u001b[0m\u001b[0m\n\u001b[0m\u001b[1;32m      3\u001b[0m \u001b[0;34m\u001b[0m\u001b[0m\n\u001b[1;32m      4\u001b[0m \u001b[0;32mprint\u001b[0m\u001b[0;34m(\u001b[0m\u001b[0;34m'Centroïdes   avec des centroïdes initiaux aléatoirese'\u001b[0m\u001b[0;34m)\u001b[0m\u001b[0;34m\u001b[0m\u001b[0m\n\u001b[1;32m      5\u001b[0m \u001b[0;32mprint\u001b[0m\u001b[0;34m(\u001b[0m\u001b[0mkm\u001b[0m\u001b[0;34m.\u001b[0m\u001b[0mcluster_centers_\u001b[0m\u001b[0;34m)\u001b[0m\u001b[0;34m\u001b[0m\u001b[0m\n",
      "\u001b[0;31mNameError\u001b[0m: name 'kmdendro_max' is not defined"
     ]
    }
   ],
   "source": [
    "print('Centroïdes avec des centroïdes  initiaux du clustering hiérarchique')\n",
    "print(kmdendro_max.cluster_centers_)\n",
    "\n",
    "print('Centroïdes   avec des centroïdes initiaux aléatoirese')\n",
    "print(km.cluster_centers_)"
   ]
  },
  {
   "cell_type": "markdown",
   "metadata": {},
   "source": [
    "On retrouve des centroïdes quasi équivalents."
   ]
  },
  {
   "cell_type": "code",
   "execution_count": null,
   "metadata": {},
   "outputs": [],
   "source": [
    "df_km_lab=df_without_outliers.copy()\n",
    "df_km_lab['Labels']=km.labels_"
   ]
  },
  {
   "cell_type": "code",
   "execution_count": null,
   "metadata": {},
   "outputs": [],
   "source": [
    "# NE PAS COMPILER !!! (Sinon les commentaire doivent être modifié, nom des clusters et couleur en particulier !)\n",
    "fig=plt.figure(figsize=(10,8), dpi= 80, facecolor='w', edgecolor='k')\n",
    "parallel_coordinates(df_km_lab,'Labels', alpha=0.2,  color=('violet' , 'mediumblue', 'gold', 'firebrick', 'forestgreen') , linewidth = 3)\n",
    "plt.show()"
   ]
  },
  {
   "cell_type": "markdown",
   "metadata": {},
   "source": [
    "La variable la mieux discriminée par ce clustering est l'espérance de vie, l'interprétation des autres variables est moins évidente étant donné le chevauchement des groupes."
   ]
  },
  {
   "cell_type": "code",
   "execution_count": null,
   "metadata": {},
   "outputs": [],
   "source": [
    "df_km_lab_country=df_km_lab.copy()\n",
    "df_km_lab_country['Country'] = filtered_df.iloc[:, 4] \n",
    "Subset_df_km_lab_country =df_km_lab_country .iloc[:,4:]\n",
    "#Subset_df_km_lab_country[Subset_df_km_lab_country['Labels'] == 3]"
   ]
  },
  {
   "cell_type": "markdown",
   "metadata": {},
   "source": [
    "* Le cluster 1 (jaune) rassemble les pays ayant la plus faible espérance de vie : les pays les plus les plus pauvres comme la Somalie, l'Ouganda ou les pays en guerre comme le Tchad, et le Sud Soudan. \n",
    "* Le cluster 4 (rose) regroupe des pays avec une espérance de vie plus grande que celle du cluster 1. Ce cluster rassemble des pays avec un PIB plus habitant légèrement plus élevé. Remarquons que le cluster 1 et 4 ont le même profil au niveau du taux d'urbanisation.\n",
    "* Les pays du cluster 3 (bleu) ont une meilleure espérance de vie que les pays des clusters 1 et 4, leur taux d'urbanisation est relativement plus important que celui des pays des cluster 1 et 4. Ce cluster regroupe des pays plus \"divers\" : on retrouve notamment des pays très industrialisés comme l'Inde, le Bangladesh, ou encore le Vietman, mais aussi des pays moyennement riche d'Europe comme le Portugal, la Pologne ou la Roumanie.\n",
    "* De la même manière, les pays du cluster 2 (vert) ont en moyenne une meilleure espérance de vie que les pays des clusters précédents. Ces pays ont un taux d'urbaniation important, des émissions de CO2 par habitant très élevées. Ce cluster rassemble en effet les pays producteurs de pétrole comme les Emirats Arabes Unis, l'Arabie Soudite ou la Turquie.\n",
    "* Enfin le cluster 0 (rouge) rassemble les pays riches qui ont une forte espérance de vie, un fort taux d'urbanisation, et un PIB par habitant élévé. Ces pays émetttent moins de CO2 par habitant que les pays producteurs de pétrole. On retrouve la France, le Royaume-Uni, l'Allemagne ou encore le Japon, et les Etats-Unis."
   ]
  },
  {
   "cell_type": "markdown",
   "metadata": {},
   "source": [
    "### Analyse de stabilité de Kmeans"
   ]
  },
  {
   "cell_type": "code",
   "execution_count": 95,
   "metadata": {},
   "outputs": [
    {
     "data": {
      "image/png": "[encoded data removed]",
      "text/plain": [
       "<Figure size 432x288 with 1 Axes>"
      ]
     },
     "metadata": {
      "needs_background": "light"
     },
     "output_type": "display_data"
    }
   ],
   "source": [
    "plot_stability(df_without_outliers)"
   ]
  },
  {
   "cell_type": "markdown",
   "metadata": {},
   "source": [
    "Le coefficient Silhouette varie beaucoup autour des cinq clusters choisis : donc les clusters trouvés sont souvent différents."
   ]
  },
  {
   "cell_type": "markdown",
   "metadata": {},
   "source": [
    "## Evaluation de la qualité du Clustering par la SSE"
   ]
  },
  {
   "cell_type": "code",
   "execution_count": 96,
   "metadata": {},
   "outputs": [
    {
     "data": {
      "text/plain": [
       "(184, 4)"
      ]
     },
     "execution_count": 96,
     "metadata": {},
     "output_type": "execute_result"
    }
   ],
   "source": [
    "df_without_outliers.shape"
   ]
  },
  {
   "cell_type": "code",
   "execution_count": 97,
   "metadata": {},
   "outputs": [
    {
     "ename": "NameError",
     "evalue": "name 'kmdendro_max' is not defined",
     "output_type": "error",
     "traceback": [
      "\u001b[0;31m---------------------------------------------------------------------------\u001b[0m",
      "\u001b[0;31mNameError\u001b[0m                                 Traceback (most recent call last)",
      "\u001b[0;32m<ipython-input-97-51802e599366>\u001b[0m in \u001b[0;36m<module>\u001b[0;34m()\u001b[0m\n\u001b[0;32m----> 1\u001b[0;31m \u001b[0mr\u001b[0m \u001b[0;34m=\u001b[0m \u001b[0mrand_sse\u001b[0m\u001b[0;34m(\u001b[0m\u001b[0mdf_without_outliers\u001b[0m\u001b[0;34m,\u001b[0m  \u001b[0;36m5\u001b[0m\u001b[0;34m,\u001b[0m\u001b[0mkmdendro_max\u001b[0m\u001b[0;34m.\u001b[0m\u001b[0minertia_\u001b[0m \u001b[0;34m)\u001b[0m\u001b[0;34m\u001b[0m\u001b[0m\n\u001b[0m",
      "\u001b[0;31mNameError\u001b[0m: name 'kmdendro_max' is not defined"
     ]
    }
   ],
   "source": [
    "r = rand_sse(df_without_outliers,  5,kmdendro_max.inertia_ )"
   ]
  },
  {
   "cell_type": "code",
   "execution_count": 98,
   "metadata": {},
   "outputs": [
    {
     "ename": "NameError",
     "evalue": "name 'kmdendro_max' is not defined",
     "output_type": "error",
     "traceback": [
      "\u001b[0;31m---------------------------------------------------------------------------\u001b[0m",
      "\u001b[0;31mNameError\u001b[0m                                 Traceback (most recent call last)",
      "\u001b[0;32m<ipython-input-98-84e1e1414377>\u001b[0m in \u001b[0;36m<module>\u001b[0;34m()\u001b[0m\n\u001b[0;32m----> 1\u001b[0;31m \u001b[0;32mprint\u001b[0m\u001b[0;34m(\u001b[0m\u001b[0mkmdendro_max\u001b[0m\u001b[0;34m.\u001b[0m\u001b[0minertia_\u001b[0m\u001b[0;34m)\u001b[0m\u001b[0;34m\u001b[0m\u001b[0m\n\u001b[0m\u001b[1;32m      2\u001b[0m \u001b[0;32mprint\u001b[0m \u001b[0;34m'Number of cases where SSE is inferior to the SSE that we observed : '\u001b[0m \u001b[0;34m,\u001b[0m\u001b[0msum\u001b[0m\u001b[0;34m(\u001b[0m\u001b[0mr\u001b[0m\u001b[0;34m)\u001b[0m\u001b[0;34m\u001b[0m\u001b[0m\n",
      "\u001b[0;31mNameError\u001b[0m: name 'kmdendro_max' is not defined"
     ]
    }
   ],
   "source": [
    "print(kmdendro_max.inertia_)\n",
    "print 'Number of cases where SSE is inferior to the SSE that we observed : ' ,sum(r)"
   ]
  },
  {
   "cell_type": "markdown",
   "metadata": {},
   "source": [
    "Dans 116 cas sur 500 pour un clustering sur données aléatoires, on obtient une SSE inférieure à celle obtenue par les Kmeans. Donc la probabilité d'observer par hasard une SSE inférieure à celle observée (112.16) est de 23.2%. La validité de ce clustering peut être discutée."
   ]
  },
  {
   "cell_type": "markdown",
   "metadata": {},
   "source": [
    "## DBSCAN"
   ]
  },
  {
   "cell_type": "code",
   "execution_count": 100,
   "metadata": {},
   "outputs": [
    {
     "data": {
      "image/png": "[encoded data removed]",
      "text/plain": [
       "<Figure size 432x288 with 1 Axes>"
      ]
     },
     "metadata": {
      "needs_background": "light"
     },
     "output_type": "display_data"
    }
   ],
   "source": [
    "minpts=10\n",
    "silhouette_dbscan(df_without_outliers,minpts,mean_dist_knee)"
   ]
  },
  {
   "cell_type": "markdown",
   "metadata": {},
   "source": [
    "Le coefficient Silhouette est maximisé pour un rayon autour de 0.7"
   ]
  },
  {
   "cell_type": "code",
   "execution_count": null,
   "metadata": {},
   "outputs": [],
   "source": [
    "db=DBSCAN(min_samples=3,eps=.7).fit(df_without_outliers)"
   ]
  },
  {
   "cell_type": "code",
   "execution_count": null,
   "metadata": {},
   "outputs": [],
   "source": [
    "df_db_lab=df_without_outliers.copy(deep=True)\n",
    "df_db_lab['Labels']=db.labels_"
   ]
  },
  {
   "cell_type": "code",
   "execution_count": null,
   "metadata": {},
   "outputs": [],
   "source": [
    "# NE PAS COMPILER !!! (Sinon les commentaire doivent être modifié, nom des clluster et couleur en particulier !)\n",
    "fig=plt.figure(figsize=(10, 8), dpi= 80, facecolor='w', edgecolor='k')\n",
    "parallel_coordinates(df_db_lab,'Labels', alpha=0.2,  \n",
    "    color=('violet' , 'mediumblue', 'gold', 'forestgreen'), linewidth=2 )\n",
    "plt.show()"
   ]
  },
  {
   "cell_type": "code",
   "execution_count": null,
   "metadata": {},
   "outputs": [],
   "source": [
    "df_db_lab_country=df_db_lab.copy()\n",
    "df_db_lab_country['Country'] = filtered_df.iloc[:, 4] \n",
    "\n",
    "Subset_df_db_lab_country =df_db_lab_country .iloc[:,4:]\n",
    "#Subset_df_db_lab_country[Subset_df_db_lab_country['Labels'] == -1]\n",
    "#df_db_lab_country[df_db_lab_country['Country']=='Ireland']"
   ]
  },
  {
   "cell_type": "markdown",
   "metadata": {},
   "source": [
    "DBSCAN propose des résultats très différents de Kmeans. En effet, cet algorithme considère la densité des données. \n",
    "* Le cluster 0 (rose) inclut la quasi totalité des 184 pays avec 159 pays.\n",
    "* Le cluster 2 (vert) regroupe les pays dont les émissions de CO2 par habitant sont très élevées. On retrouve ainsi l'Arabie Saoudite et l'Oman qui sont deux grands producteurs de pétrole. On retrouve également l'Estonie car elle utilise le charbon comme principale source d'énergie.  \n",
    "* Le cluster 1 (jaune) rassemble les pays très pollueurs, mais pour lesquels le PIB par habitant est plus élevé que pour les pays du cluster 2. On retrouve ainsi les pays \"riches\" comme les Etats-Unis, le Canada ou encore les Emirats Arabes Unis. \n",
    "* Le cluster -1 (bleu) est le groupe des outliers, c'est à dire l'ensemble des pays pour lesquels la combinaison des variables observés est inattendue . On retrouve par exemple l'Afrique du Sud qui a une espérance de vie très faible mais un taux d'émission de CO2 relativement fort."
   ]
  },
  {
   "cell_type": "markdown",
   "metadata": {},
   "source": [
    "## Enveloppe des clusters"
   ]
  },
  {
   "cell_type": "markdown",
   "metadata": {},
   "source": [
    "###  Enveloppe des clusters pour les Kmeans "
   ]
  },
  {
   "cell_type": "code",
   "execution_count": 101,
   "metadata": {},
   "outputs": [
    {
     "ename": "NameError",
     "evalue": "name 'df_km_lab' is not defined",
     "output_type": "error",
     "traceback": [
      "\u001b[0;31m---------------------------------------------------------------------------\u001b[0m",
      "\u001b[0;31mNameError\u001b[0m                                 Traceback (most recent call last)",
      "\u001b[0;32m<ipython-input-101-e87b9b749461>\u001b[0m in \u001b[0;36m<module>\u001b[0;34m()\u001b[0m\n\u001b[0;32m----> 1\u001b[0;31m \u001b[0mclasses\u001b[0m\u001b[0;34m=\u001b[0m\u001b[0mdf_km_lab\u001b[0m\u001b[0;34m[\u001b[0m\u001b[0;34m'Labels'\u001b[0m\u001b[0;34m]\u001b[0m\u001b[0;34m\u001b[0m\u001b[0m\n\u001b[0m\u001b[1;32m      2\u001b[0m \u001b[0mfeatures\u001b[0m\u001b[0;34m=\u001b[0m\u001b[0mdf_km_lab\u001b[0m\u001b[0;34m.\u001b[0m\u001b[0mdrop\u001b[0m\u001b[0;34m(\u001b[0m\u001b[0;34m'Labels'\u001b[0m\u001b[0;34m,\u001b[0m\u001b[0maxis\u001b[0m\u001b[0;34m=\u001b[0m\u001b[0;36m1\u001b[0m\u001b[0;34m)\u001b[0m\u001b[0;34m\u001b[0m\u001b[0m\n\u001b[1;32m      3\u001b[0m \u001b[0;31m#Tree_LE =Tree_LE.drop('Life_expectancy',axis=1)\u001b[0m\u001b[0;34m\u001b[0m\u001b[0;34m\u001b[0m\u001b[0m\n\u001b[1;32m      4\u001b[0m \u001b[0;34m\u001b[0m\u001b[0m\n\u001b[1;32m      5\u001b[0m \u001b[0mkm_tree\u001b[0m  \u001b[0;34m=\u001b[0m \u001b[0mDecisionTreeClassifier\u001b[0m\u001b[0;34m(\u001b[0m\u001b[0mcriterion\u001b[0m \u001b[0;34m=\u001b[0m \u001b[0;34m'entropy'\u001b[0m\u001b[0;34m)\u001b[0m\u001b[0;34m\u001b[0m\u001b[0m\n",
      "\u001b[0;31mNameError\u001b[0m: name 'df_km_lab' is not defined"
     ]
    }
   ],
   "source": [
    "classes=df_km_lab['Labels']\n",
    "features=df_km_lab.drop('Labels',axis=1)\n",
    "#Tree_LE =Tree_LE.drop('Life_expectancy',axis=1)\n",
    "\n",
    "km_tree  = DecisionTreeClassifier(criterion = 'entropy') \n",
    "# part aleatoire si deux split possibles \n",
    "# surtout si deux index sous \"quivalent gini entropy...\n",
    "clf = km_tree.fit(features,classes)\n",
    "sortedLabelList = sorted(list(set((classes))))\n",
    "for i in sortedLabelList :\n",
    "    sortedLabelList[i]= str(sortedLabelList[i])\n",
    "sortedLabelList"
   ]
  },
  {
   "cell_type": "code",
   "execution_count": null,
   "metadata": {},
   "outputs": [],
   "source": [
    "dot_data = tree.export_graphviz(clf, out_file=None, \n",
    "                         feature_names=features.columns,  \n",
    "                         class_names=sortedLabelList,  \n",
    "                         filled=True, rounded=True,  \n",
    "                         special_characters=True)  \n",
    "graph = graphviz.Source(dot_data)  \n",
    "graph"
   ]
  },
  {
   "cell_type": "markdown",
   "metadata": {},
   "source": [
    "L'arbre semble à première vue très complexe mais en interprétant uniquement les grands regroupements nous pouvons analyser les tendences de chaque clusters.\n",
    "* Les clusters 3 et 4 ont un taux d'urbanisation faible par rapport aux autres clusters. La seconde variable permettant de les séparer est l'espérance de vie, étant donné que les pays du cluster 3 ont une espérance de vie plus faible que ceux du cluster 4. Grâce à ces deux règles ont regroupe 22 pays parmis 35 appartenant au groupe 1, et 39 pays parmis 42 appartenant au groupe 4.\n",
    "* Parmis les trois groupes restant, le PIB par habitant permet de séparer les pays des cluster 2 et 3 (pays riches) du cluster 0. Ensuite le taux d'émission permet de séparer les pays producteurs de pétroles (cluster 3) des pays du cluster 2 qui ont un taux d'émission de CO2 par habitant plus faible.  \n",
    "* Finalement le cluster 0 est un cluster moyen.\n",
    "\n"
   ]
  },
  {
   "cell_type": "markdown",
   "metadata": {},
   "source": [
    "### Enveloppe des clusters de DBSCAN"
   ]
  },
  {
   "cell_type": "code",
   "execution_count": null,
   "metadata": {},
   "outputs": [],
   "source": [
    "classes_db=df_db_lab['Labels']\n",
    "features_db=df_db_lab.drop('Labels',axis=1)\n",
    "db_tree  = DecisionTreeClassifier(criterion = 'entropy') # part aleatoire si deux split possibles \n",
    "                                                    # surtout si deux index sous equivalent gini entropy ...\n",
    "clf_db = db_tree.fit(features_db,classes_db)\n",
    "\n",
    "sortedLabelList_db = sorted(list(set((classes_db))))\n",
    "for i in range(len(sortedLabelList_db)) :\n",
    "    sortedLabelList_db[i]= str(sortedLabelList_db[i])\n",
    "print(sortedLabelList_db)\n",
    "\n",
    "\n",
    "dot_data = tree.export_graphviz(clf_db, out_file=None, \n",
    "                         feature_names=features.columns,  \n",
    "                         class_names=sortedLabelList_db,  \n",
    "                         filled=True, rounded=True,  \n",
    "                         special_characters=True)  \n",
    "graph = graphviz.Source(dot_data)  \n",
    "graph\n",
    "\n"
   ]
  },
  {
   "cell_type": "markdown",
   "metadata": {},
   "source": [
    "* Les pays des clusters 1 (USA, Canada, Japon) et 2 (Arabie Saoudite, Estonie, Oman ) sont différenciés des autres cluster à cause d'un fort taux d'émission de CO2. Puis pour séparer ces deux groupes, le PIB par habitant est utilisé, sachant que les pays du cluster 1 ont un PIB par habitant plus élevé.\n",
    "* Les pays du cluster -1 se trouvent quasiment dans toutes les branches de l'arbre, c'est pourquoi on les qualifie d'Outliers. \n",
    "* Les pays du cluster 0 rassemble le reste de pays. C'est donc ceux qui n'ont pas de valeurs extrême en termes d'émission de CO2 par habitant, et ceux qui n'ont une combinaison inusuel des variables observées."
   ]
  },
  {
   "cell_type": "markdown",
   "metadata": {},
   "source": [
    "### Enveloppe des clusters du clustering hiérarchique"
   ]
  },
  {
   "cell_type": "code",
   "execution_count": null,
   "metadata": {},
   "outputs": [],
   "source": [
    "classes_dendro=df_without_outliers_dendro_cluster['clusters']\n",
    "features_dendro=df_without_outliers_dendro_cluster.drop('clusters',axis=1)\n",
    "dendro_tree  = DecisionTreeClassifier(criterion = 'entropy') # part aleatoire si deux split possibles \n",
    "                                                    # surtout si deux index sous equivalent gini entropy ...\n",
    "clf_dendro = dendro_tree.fit(features_db,classes_dendro)\n",
    "\n",
    "sortedLabelList_dendro = sorted(list(set((classes_dendro))))\n",
    "for i in range(len(sortedLabelList_dendro)) :\n",
    "    sortedLabelList_dendro[i]= str(sortedLabelList_dendro[i])\n",
    "print(sortedLabelList_dendro)\n",
    "\n",
    "\n",
    "dot_data = tree.export_graphviz(clf_dendro, out_file=None, \n",
    "                         feature_names=features.columns,  \n",
    "                         class_names=sortedLabelList_dendro,  \n",
    "                         filled=True, rounded=True,  \n",
    "                         special_characters=True)  \n",
    "graph = graphviz.Source(dot_data)  \n",
    "graph\n"
   ]
  },
  {
   "cell_type": "markdown",
   "metadata": {},
   "source": [
    "* A l'instar des Kmeans le clustering hiérarchique sépare les clusters 4, et 5 des clusters du fait de leur faible taux d'urbanisation. Puis le cluster 4 est séparé du groupe 5 à cause d'une plus faible espérance de vie.\n",
    "* Le cluster 2 est caractérisé par son fort PIB par habitant.\n",
    "* Le cluster 1 (pays grands émetteurs de CO2) est séparét des groupe 2 à cause d'un GDP par habitant relativement plus faible. Ce groupe est séparé du cluster 3 à cause du fort taux d'émission de CO2 des pays le constituant. \n",
    "* Le cluster 3 groupe est le groupe \"moyen\""
   ]
  },
  {
   "cell_type": "markdown",
   "metadata": {},
   "source": [
    "# Comparaison des clusters"
   ]
  },
  {
   "cell_type": "markdown",
   "metadata": {},
   "source": [
    "## Matrice de contingences"
   ]
  },
  {
   "cell_type": "markdown",
   "metadata": {},
   "source": [
    "### Création des matrices de contingences"
   ]
  },
  {
   "cell_type": "code",
   "execution_count": null,
   "metadata": {},
   "outputs": [],
   "source": [
    "cm_kmdb=confusion_matrix(km,db, 'km', 'db', True , True , 'None', 'None')\n",
    "cm_kmac=confusion_matrix(km,acwo, 'km', 'cah', False , False ,df_km_lab_country['Labels'],df_without_outliers_dendro_cluster['clusters'] )\n",
    "cm_dbac=confusion_matrix(db,acwo, 'db', 'cah', True  , False , 'None' , df_without_outliers_dendro_cluster['clusters'])"
   ]
  },
  {
   "cell_type": "markdown",
   "metadata": {},
   "source": [
    "### Comparaison des Kmeans et de DBSCAN"
   ]
  },
  {
   "cell_type": "code",
   "execution_count": null,
   "metadata": {},
   "outputs": [],
   "source": [
    "fig=plt.figure(figsize=(6, 5), dpi= 80, facecolor='w', edgecolor='k')\n",
    "sns.heatmap(cm_kmdb, annot=True)"
   ]
  },
  {
   "cell_type": "markdown",
   "metadata": {},
   "source": [
    "Comme la cluster 0 de DBCSAN rassemble les 'core points', donc la majorite des pays, ce clulster est celui qui  contribue le plus à tous les clusters défini par Kmeans. Kmeans ne différenciant pas les \"border points\"(db1 et db2) et les \"noise points\"(db-1), ces groupes sont également réparties dans tous les clusters formés par Kmeans.\n"
   ]
  },
  {
   "cell_type": "markdown",
   "metadata": {},
   "source": [
    "**Conclusion : les clusters de DBSCAN et de Kmeans sont très différents**"
   ]
  },
  {
   "cell_type": "markdown",
   "metadata": {},
   "source": [
    "### Comparaison du clustering hiérarchique et  de Kmeans "
   ]
  },
  {
   "cell_type": "code",
   "execution_count": null,
   "metadata": {},
   "outputs": [],
   "source": [
    "fig=plt.figure(figsize=(6, 5), dpi= 80, facecolor='w', edgecolor='k')\n",
    "sns.heatmap(cm_kmac, annot=True)"
   ]
  },
  {
   "cell_type": "markdown",
   "metadata": {},
   "source": [
    "Les groupes formés par le Clustering hiérarchiques sont similaires à ceux calculés par les Kmeans.\n",
    "* Ceci est particulier vrai pour le cluster 0 de Kmeans (pays riches) qui correspond parfaitement au cluster 2 du clustering hiérarchique. Les deux algorithmes ont donc identiéfié le même groupe des pays riches.\n",
    "* Le cluster 1 de Kmeans qui correspond au pays les plus pauvres, est partagé entre les clusters 3 et 4 du dendrgogramme qui peuvent être assimilé au groupe médian et récirpoquement au groupe des pays les plus pauvres.\n",
    "* Le cluster 2  des Kmeans qui regroupe les pays ayant un fort taux d'émission de CO2 par habitant,  est bien représenté par le cluster 1 du clustering hiérarchique. On retrouve toutefois 3 pays du cluster 2 des Kmeans qui appartiennent au cluster 2 du dendrogramme (cluster des pays riches).\n",
    "* Le cluster 3 des Kmeans, cluster des pays médians, est parfaitement représenté par le cluster 3 du dendrogramme.\n",
    "* Le cluster 4 des Kmeans qui correspond au second groupe des pays pauvres, correspond au cluster 5 du dendrogramme, bien que le clustering hiérarchique considère que parmis les 42 pays du clusters 4 des Kmeans 7 appartiennent au groupe médian cluster 3 du dendrogramme. \n",
    "\n",
    "**Conclusion : Malgré quelques différences entre les groupes formés par les deux algorithme, l'interprétation générale de ces deux clusterings est identique.**"
   ]
  },
  {
   "cell_type": "markdown",
   "metadata": {},
   "source": [
    "###   Comparaison du clustering hiérarchique et de DBSCAN"
   ]
  },
  {
   "cell_type": "code",
   "execution_count": null,
   "metadata": {},
   "outputs": [],
   "source": [
    "fig=plt.figure(figsize=(6, 5), dpi= 80, facecolor='w', edgecolor='k')\n",
    "sns.heatmap(cm_dbac, annot=True)"
   ]
  },
  {
   "cell_type": "markdown",
   "metadata": {},
   "source": [
    "À l'instar de la comparaison effectuée entre les Kmeans et DBSCAN, l'ensemble des pays sont esssentiellement regroupés dans le cluster 0 de DBSCAN qui inclut ainsi tous les groupes formés par le clustering hiérarchique. En effet ce cluster 0 corrrespond au 'core points'. Remarquons par ailleurs que tous les points formant le cluster 1 de DBSACN (pays riches et fort émetteurs de gaz à effet de serre) sont inclus dans la cluster 2 du dendrogramme. De plus tous les pays du cluster 2 de DBSCAN (pays ayant un fort taux d'émission de CO2 mais avec un PIB par habitant moyen) sont inclus dans le cluster 1 du dendrogramme. \n",
    "\n"
   ]
  },
  {
   "cell_type": "markdown",
   "metadata": {},
   "source": [
    "## Comparaison des clusterings grâce à l'entropie"
   ]
  },
  {
   "cell_type": "markdown",
   "metadata": {},
   "source": [
    "### Comparaison de l'entropie entre Kmeans et DBSCAN"
   ]
  },
  {
   "cell_type": "code",
   "execution_count": null,
   "metadata": {},
   "outputs": [],
   "source": [
    "print \"entropy of each cluster:\" ,entropy_between_clusterings(cm_kmdb,4)"
   ]
  },
  {
   "cell_type": "markdown",
   "metadata": {},
   "source": [
    "L'entropie de chaque cluster est élevé, ceci implique que la probalité pour chaque pays d'appartenir à un autre cluster est élevé."
   ]
  },
  {
   "cell_type": "markdown",
   "metadata": {},
   "source": [
    "### Comparaison de l'entropie entre Kmeans et du clusterings hiérarchique"
   ]
  },
  {
   "cell_type": "code",
   "execution_count": null,
   "metadata": {},
   "outputs": [],
   "source": [
    "print \"entropy of each cluster:\" ,entropy_between_clusterings(cm_kmac,5)\n",
    "# print \"Max entropy:\" ,entropy_between_clusterings(cm_kmac,5)[1] faux !!"
   ]
  },
  {
   "cell_type": "markdown",
   "metadata": {},
   "source": [
    "### Comparaison de l'entropie entre DBSCAN et le Clustering hiérarchique\n"
   ]
  },
  {
   "cell_type": "code",
   "execution_count": null,
   "metadata": {},
   "outputs": [],
   "source": [
    "print \"entropy of each cluster:\" ,entropy_between_clusterings(cm_dbac,5)[0] # On a pas le mm nombre de classe :( "
   ]
  },
  {
   "cell_type": "markdown",
   "metadata": {},
   "source": [
    "# Création d'une étiquette de classe"
   ]
  },
  {
   "cell_type": "markdown",
   "metadata": {},
   "source": [
    "Dans la suite de notre étude nous allons étudier nos données à l'aide d'une étiquette de classe, triant les pays en fonction de leur PIB par habitant. On considèrera 4 groupes :\n",
    "* Les pays très pauvres\n",
    "* Les pays pauvres\n",
    "* Les pays moyennement riche\n",
    "* Les pays riches"
   ]
  },
  {
   "cell_type": "markdown",
   "metadata": {},
   "source": [
    "# Création des classe à l'aide d'un Kmeans en 1D sur le GDP par habitant"
   ]
  },
  {
   "cell_type": "code",
   "execution_count": null,
   "metadata": {},
   "outputs": [],
   "source": [
    "V_GDP_hab  = np.array(df_without_outliers['GDP_hab'])\n",
    "KM_GDP = kmeans_1D(V_GDP_hab  , 4)\n",
    "plot_kmeans1D(V_GDP_hab,KM_GDP.labels_)\n",
    "INDEX = np.arange(0,len(V_GDP_hab))\n",
    "sns.scatterplot(INDEX,V_GDP_hab, hue=KM_GDP.labels_ )"
   ]
  },
  {
   "cell_type": "markdown",
   "metadata": {},
   "source": [
    "D'après ces représentations on repère des classes très hétérogènes où les pays les plus sont les plus nombreux. On observe aussi cinq pays très riches par rapport aux autres groupes"
   ]
  }
 ],
 "metadata": {
  "celltoolbar": "Raw Cell Format",
  "kernelspec": {
   "display_name": "Python 2",
   "language": "python",
   "name": "python2"
  },
  "language_info": {
   "codemirror_mode": {
    "name": "ipython",
    "version": 2
   },
   "file_extension": ".py",
   "mimetype": "text/x-python",
   "name": "python",
   "nbconvert_exporter": "python",
   "pygments_lexer": "ipython2",
   "version": "2.7.15"
  }
 },
 "nbformat": 4,
 "nbformat_minor": 2
}
